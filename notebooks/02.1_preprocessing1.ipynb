{
 "cells": [
  {
   "cell_type": "markdown",
   "metadata": {},
   "source": [
    "# Preprocessing Part 1 - Handling missing values, variable imputation and first cardinality reduction"
   ]
  },
  {
   "cell_type": "code",
   "execution_count": 111,
   "metadata": {},
   "outputs": [],
   "source": [
    "#Importing all libraries\n",
    "import pandas as pd\n",
    "import numpy as np\n",
    "import matplotlib.pyplot as plt\n",
    "import seaborn as sns\n",
    "import math\n",
    "from itertools import combinations\n",
    "from scipy.stats import chi2_contingency\n",
    "import os"
   ]
  },
  {
   "cell_type": "code",
   "execution_count": 112,
   "metadata": {},
   "outputs": [
    {
     "name": "stdout",
     "output_type": "stream",
     "text": [
      "c:\\Users\\ntama\\Documentos\\Data Science\\Codecademy\\projects\\Date-A-Scientist - Final Project\\OKCupid-Date-A-Scientist-Starter\\date-a-scientist-project\\notebooks\n"
     ]
    }
   ],
   "source": [
    "print(os.getcwd())"
   ]
  },
  {
   "cell_type": "markdown",
   "metadata": {},
   "source": [
    "Importing the dataset *'profiles.csv'*"
   ]
  },
  {
   "cell_type": "code",
   "execution_count": 113,
   "metadata": {},
   "outputs": [
    {
     "name": "stdout",
     "output_type": "stream",
     "text": [
      "Index(['age', 'body_type', 'diet', 'drinks', 'drugs', 'education', 'ethnicity',\n",
      "       'height', 'income', 'job', 'last_online', 'location', 'offspring',\n",
      "       'orientation', 'pets', 'religion', 'sex', 'sign', 'smokes', 'speaks',\n",
      "       'status'],\n",
      "      dtype='object')\n"
     ]
    }
   ],
   "source": [
    "profiles = pd.read_csv(\"../data/profiles_eda.csv\")\n",
    "profiles = profiles.loc[:, ~profiles.columns.str.contains('^Unnamed')]\n",
    "print(profiles.columns)"
   ]
  },
  {
   "cell_type": "markdown",
   "metadata": {},
   "source": [
    "### 1.- *'body_type'*"
   ]
  },
  {
   "cell_type": "code",
   "execution_count": 114,
   "metadata": {},
   "outputs": [
    {
     "data": {
      "text/plain": [
       "body_type\n",
       "average           14652\n",
       "fit               12711\n",
       "athletic          11819\n",
       "thin               4711\n",
       "curvy              3924\n",
       "a little extra     2629\n",
       "skinny             1777\n",
       "full figured       1009\n",
       "overweight          444\n",
       "jacked              421\n",
       "used up             355\n",
       "rather not say      198\n",
       "Name: count, dtype: int64"
      ]
     },
     "execution_count": 114,
     "metadata": {},
     "output_type": "execute_result"
    }
   ],
   "source": [
    "profiles['body_type'].value_counts()"
   ]
  },
  {
   "cell_type": "markdown",
   "metadata": {},
   "source": [
    "Reducing from 12 values to 6"
   ]
  },
  {
   "cell_type": "code",
   "execution_count": 115,
   "metadata": {},
   "outputs": [],
   "source": [
    "#grouping body_type to reduce values\n",
    "body_type_map = {\n",
    "    'average': 'regular',\n",
    "    'fit': 'regular',\n",
    "    'athletic': 'regular',\n",
    "    'jacked': 'regular',\n",
    "    'thin': 'regular',\n",
    "    'skinny': 'regular',\n",
    "    'curvy': 'large',\n",
    "    'full figured': 'large',\n",
    "    'a little extra': 'large',\n",
    "    'overweight': 'large',\n",
    "    'used up': 'large',\n",
    "    'rather not say': 'unknown'\n",
    "}\n",
    "\n",
    "profiles['body_type'] = profiles['body_type'].map(body_type_map)\n",
    "\n",
    "profiles['body_type'] = profiles['body_type'].fillna('unknown')\n"
   ]
  },
  {
   "cell_type": "code",
   "execution_count": 116,
   "metadata": {},
   "outputs": [
    {
     "name": "stdout",
     "output_type": "stream",
     "text": [
      "5494\n"
     ]
    }
   ],
   "source": [
    "print(np.sum(profiles['body_type'] == 'unknown'))"
   ]
  },
  {
   "cell_type": "markdown",
   "metadata": {},
   "source": [
    "### 2.- *'diet'*"
   ]
  },
  {
   "cell_type": "markdown",
   "metadata": {},
   "source": [
    "Reducing from 18 values to 6"
   ]
  },
  {
   "cell_type": "code",
   "execution_count": 117,
   "metadata": {},
   "outputs": [],
   "source": [
    "#grouping diet to reduce values\n",
    "diet_type_map = {\n",
    "    'anything': 'anything',\n",
    "    'mostly anything': 'anything',\n",
    "    'strictly anything': 'anything',\n",
    "    'vegetarian': 'vegetarian',\n",
    "    'mostly vegetarian': 'vegetarian',\n",
    "    'strictly vegetarian': 'vegetarian',\n",
    "    'other': 'other',\n",
    "    'mostly other': 'other',\n",
    "    'strictly other': 'other',\n",
    "    'vegan': 'vegan',\n",
    "    'mostly vegan': 'vegan',\n",
    "    'strictly vegan': 'vegan',\n",
    "    'kosher': 'kosher',\n",
    "    'mostly kosher': 'kosher',\n",
    "    'strictly kosher': 'kosher',\n",
    "    'halal': 'halal',\n",
    "    'mostly halal': 'halal',\n",
    "    'strictly halal': 'halal',\n",
    "}\n",
    "\n",
    "profiles['diet'] = profiles['diet'].map(diet_type_map)\n",
    "\n",
    "profiles['diet'] = profiles['diet'].fillna('unknown')"
   ]
  },
  {
   "cell_type": "code",
   "execution_count": 118,
   "metadata": {},
   "outputs": [
    {
     "name": "stdout",
     "output_type": "stream",
     "text": [
      "diet\n",
      "anything      27881\n",
      "unknown       24395\n",
      "vegetarian     4986\n",
      "other          1790\n",
      "vegan           702\n",
      "kosher          115\n",
      "halal            77\n",
      "Name: count, dtype: int64\n"
     ]
    }
   ],
   "source": [
    "print(profiles['diet'].value_counts())"
   ]
  },
  {
   "cell_type": "markdown",
   "metadata": {},
   "source": [
    "### 3.- *'drinks'*"
   ]
  },
  {
   "cell_type": "code",
   "execution_count": 119,
   "metadata": {},
   "outputs": [
    {
     "data": {
      "text/plain": [
       "drinks\n",
       "socially       41780\n",
       "rarely          5957\n",
       "often           5164\n",
       "not at all      3267\n",
       "very often       471\n",
       "desperately      322\n",
       "Name: count, dtype: int64"
      ]
     },
     "execution_count": 119,
     "metadata": {},
     "output_type": "execute_result"
    }
   ],
   "source": [
    "profiles['drinks'].value_counts()"
   ]
  },
  {
   "cell_type": "markdown",
   "metadata": {},
   "source": [
    "Reducing from 6 values to 3"
   ]
  },
  {
   "cell_type": "code",
   "execution_count": 120,
   "metadata": {},
   "outputs": [],
   "source": [
    "#grouping drinks to three values\n",
    "drink_type_map = {\n",
    "    'desperately': 'a lot',\n",
    "    'very often': 'a lot',\n",
    "    'often': 'a lot',\n",
    "    'socially': 'a little',\n",
    "    'rarely': 'a little',\n",
    "    'not at all': 'not at all'\n",
    "}\n",
    "\n",
    "profiles['drinks'] = profiles['drinks'].map(drink_type_map)\n",
    "\n",
    "profiles['drinks'] = profiles['drinks'].fillna('unknown')"
   ]
  },
  {
   "cell_type": "markdown",
   "metadata": {},
   "source": [
    "### 4.- *'drugs'*"
   ]
  },
  {
   "cell_type": "code",
   "execution_count": 121,
   "metadata": {},
   "outputs": [
    {
     "name": "stdout",
     "output_type": "stream",
     "text": [
      "drugs\n",
      "never        37724\n",
      "sometimes     7732\n",
      "often          410\n",
      "Name: count, dtype: int64\n"
     ]
    }
   ],
   "source": [
    "print(profiles['drugs'].value_counts())\n",
    "\n",
    "profiles['drugs'] = profiles['drugs'].fillna('unknown')"
   ]
  },
  {
   "cell_type": "markdown",
   "metadata": {},
   "source": [
    "### 5.- *'education'*"
   ]
  },
  {
   "cell_type": "code",
   "execution_count": 122,
   "metadata": {},
   "outputs": [
    {
     "name": "stdout",
     "output_type": "stream",
     "text": [
      "education\n",
      "graduated from college/university    23959\n",
      "graduated from masters program        8961\n",
      "working on college/university         5712\n",
      "working on masters program            1683\n",
      "graduated from two-year college       1531\n",
      "graduated from high school            1428\n",
      "graduated from ph.d program           1272\n",
      "graduated from law school             1122\n",
      "working on two-year college           1074\n",
      "dropped out of college/university      995\n",
      "working on ph.d program                983\n",
      "college/university                     801\n",
      "graduated from space camp              657\n",
      "dropped out of space camp              523\n",
      "graduated from med school              446\n",
      "working on space camp                  445\n",
      "working on law school                  269\n",
      "two-year college                       222\n",
      "working on med school                  212\n",
      "dropped out of two-year college        191\n",
      "dropped out of masters program         140\n",
      "masters program                        136\n",
      "dropped out of ph.d program            127\n",
      "dropped out of high school             102\n",
      "high school                             96\n",
      "working on high school                  87\n",
      "space camp                              58\n",
      "ph.d program                            26\n",
      "law school                              19\n",
      "dropped out of law school               18\n",
      "dropped out of med school               12\n",
      "med school                              11\n",
      "Name: count, dtype: int64\n"
     ]
    }
   ],
   "source": [
    "print(profiles['education'].value_counts())"
   ]
  },
  {
   "cell_type": "code",
   "execution_count": 123,
   "metadata": {},
   "outputs": [],
   "source": [
    "#reducing education\n",
    "def simplify_education(edu):\n",
    "    if pd.isnull(edu):\n",
    "        return 'unknown'\n",
    "    edu = edu.lower()\n",
    "    if 'ph.d' in edu:\n",
    "        return 'phd'\n",
    "    elif 'med school' in edu:\n",
    "        return 'med'\n",
    "    elif 'law school' in edu:\n",
    "        return 'law'\n",
    "    elif 'masters' in edu:\n",
    "        return 'masters'\n",
    "    elif 'college/university' in edu:\n",
    "        return 'college'\n",
    "    elif 'two-year college' in edu:\n",
    "        return 'two_year_college'\n",
    "    elif 'high school' in edu:\n",
    "        return 'high_school'\n",
    "    elif 'space camp' in edu:\n",
    "        return 'other'\n",
    "    else:\n",
    "        return 'other'\n",
    "\n",
    "profiles['education'] = profiles['education'].apply(simplify_education)\n",
    "\n",
    "profiles['education'] = profiles['education'].fillna('unknown')\n"
   ]
  },
  {
   "cell_type": "code",
   "execution_count": 124,
   "metadata": {},
   "outputs": [
    {
     "name": "stdout",
     "output_type": "stream",
     "text": [
      "education\n",
      "college             31467\n",
      "masters             10920\n",
      "unknown              6628\n",
      "two_year_college     3018\n",
      "phd                  2408\n",
      "high_school          1713\n",
      "other                1683\n",
      "law                  1428\n",
      "med                   681\n",
      "Name: count, dtype: int64\n"
     ]
    }
   ],
   "source": [
    "print(profiles['education'].value_counts())"
   ]
  },
  {
   "cell_type": "markdown",
   "metadata": {},
   "source": [
    "### 6.- *'ethnicity'*"
   ]
  },
  {
   "cell_type": "markdown",
   "metadata": {},
   "source": [
    "From proportions extracted from EDA, MCAR is more likely, since there's no clear reason why the data is missing and all proportions are roughly equal.</br>\n",
    "Every missing value will be replaced with 'unknown'</br>"
   ]
  },
  {
   "cell_type": "code",
   "execution_count": 125,
   "metadata": {},
   "outputs": [
    {
     "name": "stdout",
     "output_type": "stream",
     "text": [
      "ethnicity\n",
      "white                                                                 32831\n",
      "asian                                                                  6134\n",
      "hispanic / latin                                                       2823\n",
      "black                                                                  2008\n",
      "other                                                                  1706\n",
      "                                                                      ...  \n",
      "middle eastern, indian, white                                             1\n",
      "asian, middle eastern, black, white, other                                1\n",
      "asian, middle eastern, indian, hispanic / latin, white, other             1\n",
      "black, native american, indian, pacific islander, hispanic / latin        1\n",
      "asian, black, indian                                                      1\n",
      "Name: count, Length: 217, dtype: int64\n",
      "['asian, white' 'white' nan 'asian, black, other' 'white, other'\n",
      " 'hispanic / latin, white' 'hispanic / latin' 'pacific islander, white'\n",
      " 'asian' 'black, white' 'pacific islander' 'asian, native american'\n",
      " 'asian, pacific islander' 'black, native american, white'\n",
      " 'middle eastern, other' 'native american, white' 'indian' 'black'\n",
      " 'black, native american, hispanic / latin, other'\n",
      " 'black, native american, hispanic / latin'\n",
      " 'asian, black, pacific islander'\n",
      " 'asian, middle eastern, black, native american, indian, pacific islander, hispanic / latin, white, other'\n",
      " 'other' 'hispanic / latin, other' 'asian, black' 'middle eastern, white'\n",
      " 'native american, white, other' 'black, native american'\n",
      " 'black, white, other' 'hispanic / latin, white, other' 'middle eastern'\n",
      " 'black, other' 'native american, hispanic / latin, white' 'black, indian'\n",
      " 'indian, white, other' 'middle eastern, indian, other'\n",
      " 'black, native american, hispanic / latin, white, other'\n",
      " 'pacific islander, hispanic / latin' 'black, hispanic / latin, white'\n",
      " 'native american' 'indian, white' 'asian, white, other'\n",
      " 'black, hispanic / latin' 'asian, hispanic / latin, white'\n",
      " 'middle eastern, hispanic / latin'\n",
      " 'asian, black, native american, pacific islander, white'\n",
      " 'middle eastern, indian' 'asian, indian' 'pacific islander, other'\n",
      " 'black, native american, white, other' 'black, pacific islander'\n",
      " 'middle eastern, native american, white'\n",
      " 'asian, native american, white, other'\n",
      " 'pacific islander, hispanic / latin, white' 'indian, other'\n",
      " 'asian, pacific islander, other' 'black, hispanic / latin, other'\n",
      " 'asian, black, native american'\n",
      " 'black, native american, hispanic / latin, white'\n",
      " 'native american, hispanic / latin' 'indian, hispanic / latin'\n",
      " 'native american, pacific islander'\n",
      " 'asian, black, native american, hispanic / latin, white'\n",
      " 'asian, black, white'\n",
      " 'asian, black, native american, pacific islander, other'\n",
      " 'middle eastern, hispanic / latin, white'\n",
      " 'asian, pacific islander, white'\n",
      " 'asian, native american, hispanic / latin, white, other'\n",
      " 'asian, hispanic / latin' 'asian, pacific islander, white, other'\n",
      " 'middle eastern, white, other'\n",
      " 'asian, pacific islander, hispanic / latin'\n",
      " 'black, native american, indian, other'\n",
      " 'native american, hispanic / latin, white, other'\n",
      " 'black, native american, other' 'asian, other'\n",
      " 'middle eastern, hispanic / latin, other'\n",
      " 'pacific islander, hispanic / latin, white, other'\n",
      " 'asian, black, hispanic / latin'\n",
      " 'asian, pacific islander, hispanic / latin, white'\n",
      " 'asian, black, native american, white'\n",
      " 'asian, middle eastern, white, other'\n",
      " 'native american, pacific islander, hispanic / latin'\n",
      " 'asian, native american, white'\n",
      " 'native american, pacific islander, hispanic / latin, white, other'\n",
      " 'indian, pacific islander' 'asian, middle eastern, black'\n",
      " 'asian, middle eastern, indian' 'asian, middle eastern, white'\n",
      " 'pacific islander, white, other'\n",
      " 'black, pacific islander, hispanic / latin' 'asian, middle eastern'\n",
      " 'asian, hispanic / latin, other'\n",
      " 'middle eastern, black, native american, indian, white, other'\n",
      " 'middle eastern, pacific islander, other' 'middle eastern, black'\n",
      " 'asian, indian, pacific islander'\n",
      " 'black, native american, pacific islander' 'native american, indian'\n",
      " 'asian, middle eastern, black, native american, indian, pacific islander, hispanic / latin, white'\n",
      " 'black, indian, other'\n",
      " 'asian, middle eastern, indian, hispanic / latin, white, other'\n",
      " 'middle eastern, black, white' 'asian, hispanic / latin, white, other'\n",
      " 'native american, hispanic / latin, other'\n",
      " 'middle eastern, black, pacific islander, white'\n",
      " 'asian, black, native american, hispanic / latin'\n",
      " 'native american, other' 'black, indian, white'\n",
      " 'asian, native american, hispanic / latin, white'\n",
      " 'black, native american, indian, white'\n",
      " 'middle eastern, black, indian, pacific islander, hispanic / latin, white'\n",
      " 'middle eastern, hispanic / latin, white, other'\n",
      " 'asian, black, native american, other'\n",
      " 'native american, pacific islander, hispanic / latin, white'\n",
      " 'asian, indian, other'\n",
      " 'middle eastern, native american, hispanic / latin, white, other'\n",
      " 'asian, middle eastern, black, pacific islander, hispanic / latin, white'\n",
      " 'black, native american, pacific islander, hispanic / latin, white, other'\n",
      " 'asian, middle eastern, native american, hispanic / latin, white'\n",
      " 'asian, middle eastern, black, native american, pacific islander, hispanic / latin, white, other'\n",
      " 'asian, indian, white' 'native american, pacific islander, white, other'\n",
      " 'middle eastern, black, native american, indian, pacific islander, hispanic / latin, white'\n",
      " 'asian, middle eastern, other' 'middle eastern, pacific islander'\n",
      " 'asian, black, hispanic / latin, other'\n",
      " 'asian, middle eastern, black, native american, hispanic / latin, white'\n",
      " 'middle eastern, black, hispanic / latin'\n",
      " 'black, pacific islander, white'\n",
      " 'asian, middle eastern, black, native american, indian, pacific islander, hispanic / latin, other'\n",
      " 'middle eastern, black, native american, indian, hispanic / latin, white'\n",
      " 'asian, pacific islander, hispanic / latin, white, other'\n",
      " 'middle eastern, indian, white' 'asian, indian, white, other'\n",
      " 'middle eastern, black, native american, white, other'\n",
      " 'black, native american, pacific islander, other'\n",
      " 'middle eastern, black, native american, white'\n",
      " 'asian, indian, pacific islander, other'\n",
      " 'asian, black, native american, white, other'\n",
      " 'black, indian, hispanic / latin, white'\n",
      " 'asian, middle eastern, black, native american, indian, pacific islander, white'\n",
      " 'asian, black, pacific islander, hispanic / latin'\n",
      " 'middle eastern, black, native american, indian, pacific islander, hispanic / latin, white, other'\n",
      " 'asian, black, native american, indian'\n",
      " 'asian, black, indian, hispanic / latin, other'\n",
      " 'indian, hispanic / latin, other' 'asian, indian, hispanic / latin'\n",
      " 'asian, native american, pacific islander, white, other'\n",
      " 'asian, black, native american, indian, hispanic / latin, white, other'\n",
      " 'asian, indian, hispanic / latin, white'\n",
      " 'pacific islander, hispanic / latin, other'\n",
      " 'asian, indian, pacific islander, hispanic / latin, white, other'\n",
      " 'indian, hispanic / latin, white'\n",
      " 'asian, native american, pacific islander, hispanic / latin, white, other'\n",
      " 'asian, pacific islander, hispanic / latin, other'\n",
      " 'asian, black, hispanic / latin, white, other'\n",
      " 'black, indian, hispanic / latin'\n",
      " 'middle eastern, black, native american, hispanic / latin, white'\n",
      " 'black, pacific islander, other'\n",
      " 'black, native american, pacific islander, white'\n",
      " 'asian, black, native american, pacific islander'\n",
      " 'asian, indian, hispanic / latin, other'\n",
      " 'middle eastern, native american'\n",
      " 'middle eastern, native american, hispanic / latin'\n",
      " 'black, hispanic / latin, white, other'\n",
      " 'asian, native american, pacific islander, hispanic / latin, white'\n",
      " 'asian, native american, hispanic / latin'\n",
      " 'black, native american, indian, hispanic / latin, white, other'\n",
      " 'asian, middle eastern, hispanic / latin, white'\n",
      " 'black, native american, pacific islander, white, other'\n",
      " 'native american, indian, pacific islander, hispanic / latin'\n",
      " 'black, indian, white, other'\n",
      " 'asian, middle eastern, native american, pacific islander, hispanic / latin, white, other'\n",
      " 'native american, pacific islander, white'\n",
      " 'middle eastern, indian, white, other' 'asian, black, white, other'\n",
      " 'middle eastern, native american, hispanic / latin, white'\n",
      " 'indian, hispanic / latin, white, other'\n",
      " 'asian, middle eastern, black, pacific islander'\n",
      " 'asian, middle eastern, black, indian, pacific islander, hispanic / latin, white'\n",
      " 'asian, middle eastern, indian, other'\n",
      " 'asian, middle eastern, black, white, other'\n",
      " 'black, native american, pacific islander, hispanic / latin, white'\n",
      " 'black, native american, indian, pacific islander, hispanic / latin'\n",
      " 'asian, black, pacific islander, white'\n",
      " 'middle eastern, pacific islander, hispanic / latin'\n",
      " 'black, native american, indian, white, other'\n",
      " 'asian, black, hispanic / latin, white'\n",
      " 'asian, black, native american, indian, pacific islander, white'\n",
      " 'asian, black, native american, indian, pacific islander, hispanic / latin'\n",
      " 'asian, middle eastern, hispanic / latin, white, other'\n",
      " 'middle eastern, black, native american, indian'\n",
      " 'asian, native american, pacific islander'\n",
      " 'asian, black, native american, pacific islander, white, other'\n",
      " 'asian, middle eastern, hispanic / latin'\n",
      " 'asian, black, pacific islander, other'\n",
      " 'asian, native american, indian, pacific islander, hispanic / latin, white'\n",
      " 'middle eastern, native american, white, other'\n",
      " 'asian, native american, hispanic / latin, other'\n",
      " 'native american, indian, white'\n",
      " 'black, native american, pacific islander, hispanic / latin'\n",
      " 'asian, native american, pacific islander, white'\n",
      " 'black, native american, indian'\n",
      " 'indian, pacific islander, hispanic / latin, white'\n",
      " 'asian, middle eastern, black, native american, indian, pacific islander, hispanic / latin'\n",
      " 'asian, middle eastern, indian, hispanic / latin'\n",
      " 'asian, middle eastern, native american, pacific islander, other'\n",
      " 'black, native american, indian, pacific islander'\n",
      " 'asian, middle eastern, native american, pacific islander, white, other'\n",
      " 'asian, native american, other' 'middle eastern, black, other'\n",
      " 'asian, black, pacific islander, hispanic / latin, white'\n",
      " 'asian, middle eastern, native american, indian, pacific islander, hispanic / latin, white'\n",
      " 'asian, native american, indian, pacific islander, hispanic / latin, white, other'\n",
      " 'asian, middle eastern, black, pacific islander, hispanic / latin'\n",
      " 'asian, black, pacific islander, white, other' 'asian, black, indian']\n"
     ]
    }
   ],
   "source": [
    "print(profiles['ethnicity'].value_counts())\n",
    "print(profiles['ethnicity'].unique())"
   ]
  },
  {
   "cell_type": "code",
   "execution_count": 126,
   "metadata": {},
   "outputs": [
    {
     "name": "stdout",
     "output_type": "stream",
     "text": [
      "217\n"
     ]
    }
   ],
   "source": [
    "print(profiles['ethnicity'].nunique())"
   ]
  },
  {
   "cell_type": "markdown",
   "metadata": {},
   "source": [
    "It is clear that most of the 217 values are likely rare, appearing only a few times. These rare categories can introduce noise, skew distributions, and make it difficult to draw reliable statistical conclusions. </br>\n",
    "reducing it is necessary for analytical clarity, statistical validity, and model performance. </br>\n",
    "Let's group rare ethcnicities (less than 50 entries)"
   ]
  },
  {
   "cell_type": "code",
   "execution_count": 127,
   "metadata": {},
   "outputs": [],
   "source": [
    "ethnicity_counts = profiles['ethnicity'].value_counts()\n",
    "rare_ethnicities = ethnicity_counts[ethnicity_counts < 50].index\n",
    "profiles['ethnicity_grouped'] = profiles['ethnicity'].replace(rare_ethnicities, 'rare_ethnicity')\n"
   ]
  },
  {
   "cell_type": "code",
   "execution_count": 128,
   "metadata": {},
   "outputs": [
    {
     "name": "stdout",
     "output_type": "stream",
     "text": [
      "ethnicity_grouped\n",
      "white                                                                                                      32831\n",
      "asian                                                                                                       6134\n",
      "hispanic / latin                                                                                            2823\n",
      "black                                                                                                       2008\n",
      "other                                                                                                       1706\n",
      "hispanic / latin, white                                                                                     1301\n",
      "rare_ethnicity                                                                                              1147\n",
      "indian                                                                                                      1077\n",
      "asian, white                                                                                                 811\n",
      "white, other                                                                                                 641\n",
      "pacific islander                                                                                             432\n",
      "asian, pacific islander                                                                                      395\n",
      "native american, white                                                                                       338\n",
      "middle eastern                                                                                               329\n",
      "middle eastern, white                                                                                        300\n",
      "black, white                                                                                                 298\n",
      "pacific islander, white                                                                                      156\n",
      "hispanic / latin, other                                                                                      138\n",
      "black, other                                                                                                 133\n",
      "black, hispanic / latin                                                                                      119\n",
      "hispanic / latin, white, other                                                                               117\n",
      "black, native american, white                                                                                110\n",
      "black, native american                                                                                       100\n",
      "asian, other                                                                                                  95\n",
      "asian, hispanic / latin                                                                                       88\n",
      "native american, hispanic / latin, white                                                                      87\n",
      "native american, hispanic / latin                                                                             73\n",
      "asian, white, other                                                                                           69\n",
      "native american                                                                                               67\n",
      "asian, middle eastern, black, native american, indian, pacific islander, hispanic / latin, white, other       66\n",
      "asian, black                                                                                                  59\n",
      "pacific islander, hispanic / latin                                                                            57\n",
      "asian, pacific islander, white                                                                                55\n",
      "native american, white, other                                                                                 54\n",
      "asian, indian                                                                                                 52\n",
      "Name: count, dtype: int64\n"
     ]
    }
   ],
   "source": [
    "print(profiles['ethnicity_grouped'].value_counts())"
   ]
  },
  {
   "cell_type": "markdown",
   "metadata": {},
   "source": [
    "### 7.- *'height'*"
   ]
  },
  {
   "cell_type": "code",
   "execution_count": 129,
   "metadata": {},
   "outputs": [
    {
     "name": "stdout",
     "output_type": "stream",
     "text": [
      "height\n",
      "70.0    6074\n",
      "68.0    5449\n",
      "67.0    5354\n",
      "72.0    5315\n",
      "69.0    5179\n",
      "        ... \n",
      "3.0        1\n",
      "8.0        1\n",
      "93.0       1\n",
      "52.0       1\n",
      "4.0        1\n",
      "Name: count, Length: 61, dtype: int64\n"
     ]
    }
   ],
   "source": [
    "print(profiles['height'].value_counts(0))"
   ]
  },
  {
   "cell_type": "code",
   "execution_count": 130,
   "metadata": {},
   "outputs": [
    {
     "name": "stdout",
     "output_type": "stream",
     "text": [
      "Frequency table for height.\n",
      "height\n",
      "[65, 70)     24538\n",
      "[70, 75)     21577\n",
      "[60, 65)     10757\n",
      "[75, 80)      2634\n",
      "[55, 60)       296\n",
      "[80, 85)        70\n",
      "[95, 100)       20\n",
      "[35, 40)        13\n",
      "[50, 55)        12\n",
      "[90, 95)         9\n",
      "[85, 90)         6\n",
      "[45, 50)         4\n",
      "[5, 10)          3\n",
      "[40, 45)         3\n",
      "[0, 5)           3\n",
      "[25, 30)         1\n",
      "[30, 35)         0\n",
      "[20, 25)         0\n",
      "[15, 20)         0\n",
      "[10, 15)         0\n",
      "Name: count, dtype: int64\n"
     ]
    }
   ],
   "source": [
    "#Binning our data to check the counts in intervals\n",
    "print('Frequency table for height.')\n",
    "\n",
    "height_list = list(range(0,101,5))\n",
    "binned_height = pd.cut(profiles['height'], height_list, right=False)\n",
    "print(binned_height.value_counts())"
   ]
  },
  {
   "cell_type": "markdown",
   "metadata": {},
   "source": [
    "Capping implausible outliers: Heights under 58 and over 84 are unlikely to be real."
   ]
  },
  {
   "cell_type": "code",
   "execution_count": 131,
   "metadata": {},
   "outputs": [],
   "source": [
    "profiles['height'] = profiles['height'].clip(lower=58, upper=84)"
   ]
  },
  {
   "cell_type": "code",
   "execution_count": 132,
   "metadata": {},
   "outputs": [
    {
     "name": "stdout",
     "output_type": "stream",
     "text": [
      "Table 2: Modified frequency table for height.\n",
      "height\n",
      "[65, 70)    24538\n",
      "[70, 75)    21577\n",
      "[60, 65)    10757\n",
      "[75, 80)     2634\n",
      "[55, 60)      335\n",
      "[50, 55)        0\n",
      "Name: count, dtype: int64\n"
     ]
    }
   ],
   "source": [
    "#Binning our data to check the counts in intervals\n",
    "print('Table 2: Modified frequency table for height.')\n",
    "\n",
    "height_list = list(range(50,85,5))\n",
    "binned_height = pd.cut(profiles['height'], height_list, right=False)\n",
    "print(binned_height.value_counts())"
   ]
  },
  {
   "cell_type": "markdown",
   "metadata": {},
   "source": [
    "### 8.- *'income'*"
   ]
  },
  {
   "cell_type": "code",
   "execution_count": 133,
   "metadata": {},
   "outputs": [
    {
     "data": {
      "text/plain": [
       "income\n",
       "-1          0.808094\n",
       " 20000      0.049244\n",
       " 100000     0.027041\n",
       " 80000      0.018533\n",
       " 30000      0.017482\n",
       " 40000      0.016765\n",
       " 50000      0.016265\n",
       " 60000      0.012278\n",
       " 70000      0.011794\n",
       " 150000     0.010526\n",
       " 1000000    0.008691\n",
       " 250000     0.002486\n",
       " 500000     0.000801\n",
       "Name: proportion, dtype: float64"
      ]
     },
     "execution_count": 133,
     "metadata": {},
     "output_type": "execute_result"
    }
   ],
   "source": [
    "profiles['income'].value_counts(1)"
   ]
  },
  {
   "cell_type": "markdown",
   "metadata": {},
   "source": [
    "Feature *'income'* has 81% missing values or reported as \"-1\". imputation is likely to introduce noise. "
   ]
  },
  {
   "cell_type": "code",
   "execution_count": 134,
   "metadata": {},
   "outputs": [],
   "source": [
    "#Removing 'income'\n",
    "profiles = profiles.drop(['income'], axis=1)"
   ]
  },
  {
   "cell_type": "code",
   "execution_count": 135,
   "metadata": {},
   "outputs": [
    {
     "name": "stdout",
     "output_type": "stream",
     "text": [
      "Index(['age', 'body_type', 'diet', 'drinks', 'drugs', 'education', 'ethnicity',\n",
      "       'height', 'job', 'last_online', 'location', 'offspring', 'orientation',\n",
      "       'pets', 'religion', 'sex', 'sign', 'smokes', 'speaks', 'status',\n",
      "       'ethnicity_grouped'],\n",
      "      dtype='object')\n"
     ]
    }
   ],
   "source": [
    "print(profiles.columns)"
   ]
  },
  {
   "cell_type": "markdown",
   "metadata": {},
   "source": [
    "### 9.- *'job'*"
   ]
  },
  {
   "cell_type": "code",
   "execution_count": 136,
   "metadata": {},
   "outputs": [
    {
     "data": {
      "text/plain": [
       "job\n",
       "other                                7589\n",
       "student                              4882\n",
       "science / tech / engineering         4848\n",
       "computer / hardware / software       4709\n",
       "artistic / musical / writer          4439\n",
       "sales / marketing / biz dev          4391\n",
       "medicine / health                    3680\n",
       "education / academia                 3513\n",
       "executive / management               2373\n",
       "banking / financial / real estate    2266\n",
       "entertainment / media                2250\n",
       "law / legal services                 1381\n",
       "hospitality / travel                 1364\n",
       "construction / craftsmanship         1021\n",
       "clerical / administrative             805\n",
       "political / government                708\n",
       "rather not say                        436\n",
       "transportation                        366\n",
       "unemployed                            273\n",
       "retired                               250\n",
       "military                              204\n",
       "Name: count, dtype: int64"
      ]
     },
     "execution_count": 136,
     "metadata": {},
     "output_type": "execute_result"
    }
   ],
   "source": [
    "profiles['job'].value_counts()"
   ]
  },
  {
   "cell_type": "code",
   "execution_count": 137,
   "metadata": {},
   "outputs": [],
   "source": [
    "#simplifying job\n",
    "def simplify_job(job):\n",
    "    if pd.isnull(job):\n",
    "        return 'unknown'\n",
    "    job = job.lower()\n",
    "    \n",
    "    if job in ['science / tech / engineering', 'computer / hardware / software']:\n",
    "        return 'stem'\n",
    "    elif job in ['artistic / musical / writer', 'entertainment / media']:\n",
    "        return 'creative'\n",
    "    elif job in ['sales / marketing / biz dev', 'executive / management', 'banking / financial / real estate']:\n",
    "        return 'business'\n",
    "    elif job == 'education / academia':\n",
    "        return 'education'\n",
    "    elif job == 'medicine / health':\n",
    "        return 'health'\n",
    "    elif job == 'law / legal services':\n",
    "        return 'law'\n",
    "    elif job in ['hospitality / travel', 'clerical / administrative', 'transportation', 'construction / craftsmanship']:\n",
    "        return 'service'\n",
    "    elif job == 'student':\n",
    "        return 'student'\n",
    "    elif job in ['political / government', 'military']:\n",
    "        return 'government'\n",
    "    elif job in ['unemployed', 'retired']:\n",
    "        return 'not_working'\n",
    "    else:\n",
    "        return 'unknown'\n",
    "\n",
    "profiles['job'] = profiles['job'].apply(simplify_job)\n",
    "\n",
    "profiles['job'] = profiles['job'].fillna('unknown')\n"
   ]
  },
  {
   "cell_type": "code",
   "execution_count": 138,
   "metadata": {},
   "outputs": [
    {
     "data": {
      "text/plain": [
       "job\n",
       "unknown        16223\n",
       "stem            9557\n",
       "business        9030\n",
       "creative        6689\n",
       "student         4882\n",
       "health          3680\n",
       "service         3556\n",
       "education       3513\n",
       "law             1381\n",
       "government       912\n",
       "not_working      523\n",
       "Name: count, dtype: int64"
      ]
     },
     "execution_count": 138,
     "metadata": {},
     "output_type": "execute_result"
    }
   ],
   "source": [
    "profiles['job'].value_counts()"
   ]
  },
  {
   "cell_type": "markdown",
   "metadata": {},
   "source": [
    "### 10.- *'last_online'*"
   ]
  },
  {
   "cell_type": "code",
   "execution_count": 139,
   "metadata": {},
   "outputs": [
    {
     "name": "stdout",
     "output_type": "stream",
     "text": [
      "0    2012-06-28-20-30\n",
      "1    2012-06-29-21-41\n",
      "2    2012-06-27-09-10\n",
      "3    2012-06-28-14-22\n",
      "4    2012-06-27-21-26\n",
      "Name: last_online, dtype: object\n"
     ]
    }
   ],
   "source": [
    "print(profiles['last_online'].head())"
   ]
  },
  {
   "cell_type": "markdown",
   "metadata": {},
   "source": [
    "Session data won't give the model useful information"
   ]
  },
  {
   "cell_type": "code",
   "execution_count": 140,
   "metadata": {},
   "outputs": [],
   "source": [
    "#drop last_online\n",
    "profiles = profiles.drop(['last_online'], axis=1)"
   ]
  },
  {
   "cell_type": "markdown",
   "metadata": {},
   "source": [
    "### 11.- *'location'*"
   ]
  },
  {
   "cell_type": "code",
   "execution_count": 141,
   "metadata": {},
   "outputs": [
    {
     "name": "stdout",
     "output_type": "stream",
     "text": [
      "41\n"
     ]
    }
   ],
   "source": [
    "#reducing location cardinality by keeping what is after the comma\n",
    "profiles['location'] = profiles['location'].str.split(',').str[1].str.strip()\n",
    "\n",
    "print(len(profiles['location'].value_counts()))"
   ]
  },
  {
   "cell_type": "code",
   "execution_count": 142,
   "metadata": {},
   "outputs": [
    {
     "name": "stdout",
     "output_type": "stream",
     "text": [
      "location\n",
      "california              0.998482\n",
      "new york                0.000284\n",
      "illinois                0.000133\n",
      "massachusetts           0.000083\n",
      "texas                   0.000067\n",
      "oregon                  0.000067\n",
      "michigan                0.000067\n",
      "arizona                 0.000050\n",
      "florida                 0.000050\n",
      "district of columbia    0.000033\n",
      "washington              0.000033\n",
      "utah                    0.000033\n",
      "georgia                 0.000033\n",
      "minnesota               0.000033\n",
      "colorado                0.000033\n",
      "united kingdom          0.000033\n",
      "ohio                    0.000033\n",
      "spain                   0.000033\n",
      "virginia                0.000033\n",
      "hawaii                  0.000033\n",
      "louisiana               0.000017\n",
      "tennessee               0.000017\n",
      "mexico                  0.000017\n",
      "switzerland             0.000017\n",
      "netherlands             0.000017\n",
      "pennsylvania            0.000017\n",
      "germany                 0.000017\n",
      "missouri                0.000017\n",
      "british columbia        0.000017\n",
      "rhode island            0.000017\n",
      "connecticut             0.000017\n",
      "ireland                 0.000017\n",
      "west virginia           0.000017\n",
      "montana                 0.000017\n",
      "wisconsin               0.000017\n",
      "nevada                  0.000017\n",
      "new jersey              0.000017\n",
      "mississippi             0.000017\n",
      "vietnam                 0.000017\n",
      "north carolina          0.000017\n",
      "idaho                   0.000017\n",
      "Name: proportion, dtype: float64\n"
     ]
    }
   ],
   "source": [
    "print(profiles['location'].value_counts(1))"
   ]
  },
  {
   "cell_type": "markdown",
   "metadata": {},
   "source": [
    "The dataset is 99,8% people from california, so it won't give much information; therefore it can be dropped"
   ]
  },
  {
   "cell_type": "code",
   "execution_count": 143,
   "metadata": {},
   "outputs": [],
   "source": [
    "profiles = profiles.drop(['location'], axis=1)"
   ]
  },
  {
   "cell_type": "markdown",
   "metadata": {},
   "source": [
    "### 12.- *'offspring'*"
   ]
  },
  {
   "cell_type": "code",
   "execution_count": 144,
   "metadata": {},
   "outputs": [
    {
     "data": {
      "text/plain": [
       "offspring\n",
       "doesn&rsquo;t have kids                                7560\n",
       "doesn&rsquo;t have kids, but might want them           3875\n",
       "doesn&rsquo;t have kids, but wants them                3565\n",
       "doesn&rsquo;t want kids                                2927\n",
       "has kids                                               1883\n",
       "has a kid                                              1881\n",
       "doesn&rsquo;t have kids, and doesn&rsquo;t want any    1132\n",
       "has kids, but doesn&rsquo;t want more                   442\n",
       "has a kid, but doesn&rsquo;t want more                  275\n",
       "has a kid, and might want more                          231\n",
       "wants kids                                              225\n",
       "might want kids                                         182\n",
       "has kids, and might want more                           115\n",
       "has a kid, and wants more                                71\n",
       "has kids, and wants more                                 21\n",
       "Name: count, dtype: int64"
      ]
     },
     "execution_count": 144,
     "metadata": {},
     "output_type": "execute_result"
    }
   ],
   "source": [
    "profiles['offspring'].value_counts()"
   ]
  },
  {
   "cell_type": "code",
   "execution_count": 145,
   "metadata": {},
   "outputs": [],
   "source": [
    "def simplify_offspring(offs):\n",
    "    if pd.isnull(offs):\n",
    "        return 'unknown'\n",
    "    offs = offs.lower()\n",
    "\n",
    "    if 'has a kid' in offs or 'has kids' in offs:\n",
    "        return 'has kids'\n",
    "    elif 'doesn&rsquo;t have kids' in offs:\n",
    "        return 'no kids'\n",
    "    else:\n",
    "        return 'unsure'\n",
    "    \n",
    "profiles['offspring'] = profiles['offspring'].apply(simplify_offspring)\n",
    "\n",
    "profiles['offspring'] = profiles['offspring'].fillna('unknown')"
   ]
  },
  {
   "cell_type": "code",
   "execution_count": 146,
   "metadata": {},
   "outputs": [
    {
     "name": "stdout",
     "output_type": "stream",
     "text": [
      "offspring\n",
      "unknown     35561\n",
      "no kids     16132\n",
      "has kids     4919\n",
      "unsure       3334\n",
      "Name: count, dtype: int64\n"
     ]
    }
   ],
   "source": [
    "print(profiles['offspring'].value_counts())"
   ]
  },
  {
   "cell_type": "markdown",
   "metadata": {},
   "source": [
    "### 13.- *'orientation'*"
   ]
  },
  {
   "cell_type": "markdown",
   "metadata": {},
   "source": [
    "Already processed"
   ]
  },
  {
   "cell_type": "code",
   "execution_count": 147,
   "metadata": {},
   "outputs": [
    {
     "name": "stdout",
     "output_type": "stream",
     "text": [
      "orientation\n",
      "straight    51606\n",
      "gay          5573\n",
      "bisexual     2767\n",
      "Name: count, dtype: int64\n"
     ]
    }
   ],
   "source": [
    "print(profiles['orientation'].value_counts())"
   ]
  },
  {
   "cell_type": "markdown",
   "metadata": {},
   "source": [
    "### 14.- *'pets'*"
   ]
  },
  {
   "cell_type": "code",
   "execution_count": 148,
   "metadata": {},
   "outputs": [
    {
     "data": {
      "text/plain": [
       "pets\n",
       "likes dogs and likes cats          14814\n",
       "likes dogs                          7224\n",
       "likes dogs and has cats             4313\n",
       "has dogs                            4134\n",
       "has dogs and likes cats             2333\n",
       "likes dogs and dislikes cats        2029\n",
       "has dogs and has cats               1474\n",
       "has cats                            1406\n",
       "likes cats                          1063\n",
       "has dogs and dislikes cats           552\n",
       "dislikes dogs and likes cats         240\n",
       "dislikes dogs and dislikes cats      196\n",
       "dislikes cats                        122\n",
       "dislikes dogs and has cats            81\n",
       "dislikes dogs                         44\n",
       "Name: count, dtype: int64"
      ]
     },
     "execution_count": 148,
     "metadata": {},
     "output_type": "execute_result"
    }
   ],
   "source": [
    "profiles['pets'].value_counts()"
   ]
  },
  {
   "cell_type": "code",
   "execution_count": 149,
   "metadata": {},
   "outputs": [],
   "source": [
    "#creating two new columns: one for dogs, one for cats\n",
    "\n",
    "profiles['dogs'] = profiles['pets'].apply(lambda x: 'has dogs' if 'has dogs' in str(x) else ('likes dogs' if 'likes dogs' in str(x) else 'no dogs'))"
   ]
  },
  {
   "cell_type": "code",
   "execution_count": 150,
   "metadata": {},
   "outputs": [],
   "source": [
    "profiles['cats'] = profiles['pets'].apply(lambda x: 'has cats' if 'has cats' in str(x) else ('likes cats' if 'likes cats' in str(x) else 'no cats'))"
   ]
  },
  {
   "cell_type": "code",
   "execution_count": 151,
   "metadata": {},
   "outputs": [
    {
     "data": {
      "text/html": [
       "<div>\n",
       "<style scoped>\n",
       "    .dataframe tbody tr th:only-of-type {\n",
       "        vertical-align: middle;\n",
       "    }\n",
       "\n",
       "    .dataframe tbody tr th {\n",
       "        vertical-align: top;\n",
       "    }\n",
       "\n",
       "    .dataframe thead th {\n",
       "        text-align: right;\n",
       "    }\n",
       "</style>\n",
       "<table border=\"1\" class=\"dataframe\">\n",
       "  <thead>\n",
       "    <tr style=\"text-align: right;\">\n",
       "      <th></th>\n",
       "      <th>pets</th>\n",
       "      <th>dogs</th>\n",
       "      <th>cats</th>\n",
       "    </tr>\n",
       "  </thead>\n",
       "  <tbody>\n",
       "    <tr>\n",
       "      <th>0</th>\n",
       "      <td>likes dogs and likes cats</td>\n",
       "      <td>likes dogs</td>\n",
       "      <td>likes cats</td>\n",
       "    </tr>\n",
       "    <tr>\n",
       "      <th>1</th>\n",
       "      <td>likes dogs and likes cats</td>\n",
       "      <td>likes dogs</td>\n",
       "      <td>likes cats</td>\n",
       "    </tr>\n",
       "    <tr>\n",
       "      <th>2</th>\n",
       "      <td>has cats</td>\n",
       "      <td>no dogs</td>\n",
       "      <td>has cats</td>\n",
       "    </tr>\n",
       "    <tr>\n",
       "      <th>3</th>\n",
       "      <td>likes cats</td>\n",
       "      <td>no dogs</td>\n",
       "      <td>likes cats</td>\n",
       "    </tr>\n",
       "    <tr>\n",
       "      <th>4</th>\n",
       "      <td>likes dogs and likes cats</td>\n",
       "      <td>likes dogs</td>\n",
       "      <td>likes cats</td>\n",
       "    </tr>\n",
       "  </tbody>\n",
       "</table>\n",
       "</div>"
      ],
      "text/plain": [
       "                        pets        dogs        cats\n",
       "0  likes dogs and likes cats  likes dogs  likes cats\n",
       "1  likes dogs and likes cats  likes dogs  likes cats\n",
       "2                   has cats     no dogs    has cats\n",
       "3                 likes cats     no dogs  likes cats\n",
       "4  likes dogs and likes cats  likes dogs  likes cats"
      ]
     },
     "execution_count": 151,
     "metadata": {},
     "output_type": "execute_result"
    }
   ],
   "source": [
    "profiles[['pets', 'dogs', 'cats']].head()"
   ]
  },
  {
   "cell_type": "code",
   "execution_count": 152,
   "metadata": {},
   "outputs": [],
   "source": [
    "#dropping 'pets' and keeping just dogs and cats\n",
    "profiles = profiles.drop(['pets'], axis=1)"
   ]
  },
  {
   "cell_type": "markdown",
   "metadata": {},
   "source": [
    "### 15.- *'religion'*"
   ]
  },
  {
   "cell_type": "code",
   "execution_count": 153,
   "metadata": {},
   "outputs": [
    {
     "data": {
      "text/plain": [
       "religion\n",
       "agnosticism                                   2724\n",
       "other                                         2691\n",
       "agnosticism but not too serious about it      2636\n",
       "agnosticism and laughing about it             2496\n",
       "catholicism but not too serious about it      2318\n",
       "atheism                                       2175\n",
       "other and laughing about it                   2119\n",
       "atheism and laughing about it                 2074\n",
       "christianity                                  1957\n",
       "christianity but not too serious about it     1952\n",
       "other but not too serious about it            1554\n",
       "judaism but not too serious about it          1517\n",
       "atheism but not too serious about it          1318\n",
       "catholicism                                   1064\n",
       "christianity and somewhat serious about it     927\n",
       "atheism and somewhat serious about it          848\n",
       "other and somewhat serious about it            846\n",
       "catholicism and laughing about it              726\n",
       "judaism and laughing about it                  681\n",
       "buddhism but not too serious about it          650\n",
       "agnosticism and somewhat serious about it      642\n",
       "judaism                                        612\n",
       "christianity and very serious about it         578\n",
       "atheism and very serious about it              570\n",
       "catholicism and somewhat serious about it      548\n",
       "other and very serious about it                533\n",
       "buddhism and laughing about it                 466\n",
       "buddhism                                       403\n",
       "christianity and laughing about it             373\n",
       "buddhism and somewhat serious about it         359\n",
       "agnosticism and very serious about it          314\n",
       "judaism and somewhat serious about it          266\n",
       "hinduism but not too serious about it          227\n",
       "hinduism                                       107\n",
       "catholicism and very serious about it          102\n",
       "buddhism and very serious about it              70\n",
       "hinduism and somewhat serious about it          58\n",
       "islam                                           48\n",
       "hinduism and laughing about it                  44\n",
       "islam but not too serious about it              40\n",
       "judaism and very serious about it               22\n",
       "islam and somewhat serious about it             22\n",
       "islam and laughing about it                     16\n",
       "hinduism and very serious about it              14\n",
       "islam and very serious about it                 13\n",
       "Name: count, dtype: int64"
      ]
     },
     "execution_count": 153,
     "metadata": {},
     "output_type": "execute_result"
    }
   ],
   "source": [
    "profiles['religion'].value_counts()"
   ]
  },
  {
   "cell_type": "code",
   "execution_count": 154,
   "metadata": {},
   "outputs": [],
   "source": [
    "#reudcing religion cardinality by keeping only the first word\n",
    "profiles['religion'] = profiles['religion'].str.extract(r'^(\\w+)')\n",
    "#filling NaN values\n",
    "profiles['religion'] = profiles['religion'].fillna('unknown')"
   ]
  },
  {
   "cell_type": "markdown",
   "metadata": {},
   "source": [
    "### 16.- *'sign'*"
   ]
  },
  {
   "cell_type": "code",
   "execution_count": 155,
   "metadata": {},
   "outputs": [
    {
     "data": {
      "text/plain": [
       "sign\n",
       "gemini and it&rsquo;s fun to think about         1782\n",
       "scorpio and it&rsquo;s fun to think about        1772\n",
       "leo and it&rsquo;s fun to think about            1692\n",
       "libra and it&rsquo;s fun to think about          1649\n",
       "taurus and it&rsquo;s fun to think about         1640\n",
       "cancer and it&rsquo;s fun to think about         1597\n",
       "pisces and it&rsquo;s fun to think about         1592\n",
       "sagittarius and it&rsquo;s fun to think about    1583\n",
       "virgo and it&rsquo;s fun to think about          1574\n",
       "aries and it&rsquo;s fun to think about          1573\n",
       "aquarius and it&rsquo;s fun to think about       1503\n",
       "virgo but it doesn&rsquo;t matter                1497\n",
       "leo but it doesn&rsquo;t matter                  1457\n",
       "cancer but it doesn&rsquo;t matter               1454\n",
       "gemini but it doesn&rsquo;t matter               1453\n",
       "taurus but it doesn&rsquo;t matter               1450\n",
       "libra but it doesn&rsquo;t matter                1408\n",
       "aquarius but it doesn&rsquo;t matter             1408\n",
       "capricorn and it&rsquo;s fun to think about      1376\n",
       "sagittarius but it doesn&rsquo;t matter          1375\n",
       "aries but it doesn&rsquo;t matter                1373\n",
       "capricorn but it doesn&rsquo;t matter            1319\n",
       "pisces but it doesn&rsquo;t matter               1300\n",
       "scorpio but it doesn&rsquo;t matter              1264\n",
       "leo                                              1159\n",
       "libra                                            1098\n",
       "cancer                                           1092\n",
       "virgo                                            1029\n",
       "scorpio                                          1020\n",
       "gemini                                           1013\n",
       "taurus                                           1001\n",
       "aries                                             996\n",
       "pisces                                            992\n",
       "aquarius                                          954\n",
       "sagittarius                                       937\n",
       "capricorn                                         833\n",
       "scorpio and it matters a lot                       78\n",
       "leo and it matters a lot                           66\n",
       "cancer and it matters a lot                        63\n",
       "aquarius and it matters a lot                      63\n",
       "pisces and it matters a lot                        62\n",
       "gemini and it matters a lot                        62\n",
       "libra and it matters a lot                         52\n",
       "taurus and it matters a lot                        49\n",
       "aries and it matters a lot                         47\n",
       "sagittarius and it matters a lot                   47\n",
       "capricorn and it matters a lot                     45\n",
       "virgo and it matters a lot                         41\n",
       "Name: count, dtype: int64"
      ]
     },
     "execution_count": 155,
     "metadata": {},
     "output_type": "execute_result"
    }
   ],
   "source": [
    "profiles['sign'].value_counts()"
   ]
  },
  {
   "cell_type": "code",
   "execution_count": 156,
   "metadata": {},
   "outputs": [],
   "source": [
    "#reducing sign's cardinality by keeping only the first word\n",
    "profiles['sign'] = profiles['sign'].str.extract(r'^(\\w+)')\n",
    "\n",
    "profiles['sign'] = profiles['sign'].fillna('unknown')"
   ]
  },
  {
   "cell_type": "markdown",
   "metadata": {},
   "source": [
    "### 17.- *'smokes'*"
   ]
  },
  {
   "cell_type": "code",
   "execution_count": 157,
   "metadata": {},
   "outputs": [
    {
     "data": {
      "text/plain": [
       "smokes\n",
       "no                43896\n",
       "sometimes          3787\n",
       "when drinking      3040\n",
       "yes                2231\n",
       "trying to quit     1480\n",
       "Name: count, dtype: int64"
      ]
     },
     "execution_count": 157,
     "metadata": {},
     "output_type": "execute_result"
    }
   ],
   "source": [
    "profiles['smokes'].value_counts()"
   ]
  },
  {
   "cell_type": "code",
   "execution_count": 158,
   "metadata": {},
   "outputs": [
    {
     "data": {
      "text/plain": [
       "smokes\n",
       "no              46127\n",
       "yes              8307\n",
       "not answered     5512\n",
       "Name: count, dtype: int64"
      ]
     },
     "execution_count": 158,
     "metadata": {},
     "output_type": "execute_result"
    }
   ],
   "source": [
    "#reducing the variable 'smokes' from 5 values to 3: yes, no, not answered\n",
    "def simplify_smokes(smoke):\n",
    "    if pd.isnull(smoke):\n",
    "        return 'not answered'\n",
    "    smoke = smoke.lower()\n",
    "\n",
    "    if 'sometimes' in smoke:\n",
    "        return 'yes'\n",
    "    elif 'when drinking' in smoke:\n",
    "        return 'yes'\n",
    "    elif 'trying to quit' in smoke:\n",
    "        return 'yes'\n",
    "    else: \n",
    "        return 'no'\n",
    "    \n",
    "profiles['smokes'] = profiles['smokes'].apply(simplify_smokes)\n",
    "profiles['smokes'] = profiles['smokes'].fillna('unknown')\n",
    "profiles['smokes'].value_counts()\n"
   ]
  },
  {
   "cell_type": "markdown",
   "metadata": {},
   "source": [
    "### 18.- *'speaks'*"
   ]
  },
  {
   "cell_type": "code",
   "execution_count": 159,
   "metadata": {},
   "outputs": [
    {
     "data": {
      "text/plain": [
       "speaks\n",
       "english                                                                21828\n",
       "english (fluently)                                                      6628\n",
       "english (fluently), spanish (poorly)                                    2059\n",
       "english (fluently), spanish (okay)                                      1917\n",
       "english (fluently), spanish (fluently)                                  1288\n",
       "                                                                       ...  \n",
       "english (fluently), urdu (poorly), japanese (poorly), french (okay)        1\n",
       "english, spanish, hindi, c++                                               1\n",
       "english (fluently), japanese (okay), thai (okay), chinese (poorly)         1\n",
       "english (fluently), french (okay), italian (okay), hebrew (okay)           1\n",
       "english (fluently), french, farsi                                          1\n",
       "Name: count, Length: 7647, dtype: int64"
      ]
     },
     "execution_count": 159,
     "metadata": {},
     "output_type": "execute_result"
    }
   ],
   "source": [
    "profiles['speaks'].value_counts()"
   ]
  },
  {
   "cell_type": "code",
   "execution_count": 160,
   "metadata": {},
   "outputs": [],
   "source": [
    "#The variable 'speaks' introduces noise to the data, let's drop it\n",
    "profiles = profiles.drop(['speaks'], axis=1)"
   ]
  },
  {
   "cell_type": "code",
   "execution_count": 161,
   "metadata": {},
   "outputs": [
    {
     "name": "stdout",
     "output_type": "stream",
     "text": [
      "['body_type', 'diet', 'drinks', 'drugs', 'education', 'ethnicity', 'job', 'offspring', 'orientation', 'religion', 'sex', 'sign', 'smokes', 'status', 'ethnicity_grouped', 'dogs', 'cats']\n",
      "body_type            object\n",
      "diet                 object\n",
      "drinks               object\n",
      "drugs                object\n",
      "education            object\n",
      "ethnicity            object\n",
      "job                  object\n",
      "offspring            object\n",
      "orientation          object\n",
      "religion             object\n",
      "sex                  object\n",
      "sign                 object\n",
      "smokes               object\n",
      "status               object\n",
      "ethnicity_grouped    object\n",
      "dogs                 object\n",
      "cats                 object\n",
      "dtype: object\n"
     ]
    },
    {
     "name": "stderr",
     "output_type": "stream",
     "text": [
      "c:\\Users\\ntama\\anaconda3\\Lib\\site-packages\\numpy\\core\\fromnumeric.py:86: FutureWarning: The behavior of DataFrame.sum with axis=None is deprecated, in a future version this will reduce over both axes and return a scalar. To retain the old behavior, pass axis=0 (or do not pass axis)\n",
      "  return reduction(axis=axis, out=out, **passkwargs)\n"
     ]
    }
   ],
   "source": [
    "#turning categorical variables into a list\n",
    "categ_var = list((profiles.select_dtypes(include=object)))\n",
    "\n",
    "#checking missing values after tidying and processing the data\n",
    "np.sum(profiles[categ_var].isna())\n",
    "\n",
    "print(categ_var)\n",
    "print(profiles[categ_var].dtypes)\n"
   ]
  },
  {
   "cell_type": "markdown",
   "metadata": {},
   "source": [
    "### 19.- *'age'*"
   ]
  },
  {
   "cell_type": "code",
   "execution_count": 162,
   "metadata": {},
   "outputs": [],
   "source": [
    "profiles['age'] = profiles['age'].clip(upper=70)"
   ]
  },
  {
   "cell_type": "markdown",
   "metadata": {},
   "source": [
    "## Exporting EDA's dataset"
   ]
  },
  {
   "cell_type": "code",
   "execution_count": 163,
   "metadata": {},
   "outputs": [],
   "source": [
    "profiles.to_csv('profiles_preprocessed1.csv')"
   ]
  },
  {
   "cell_type": "code",
   "execution_count": 164,
   "metadata": {},
   "outputs": [
    {
     "data": {
      "text/html": [
       "<div>\n",
       "<style scoped>\n",
       "    .dataframe tbody tr th:only-of-type {\n",
       "        vertical-align: middle;\n",
       "    }\n",
       "\n",
       "    .dataframe tbody tr th {\n",
       "        vertical-align: top;\n",
       "    }\n",
       "\n",
       "    .dataframe thead th {\n",
       "        text-align: right;\n",
       "    }\n",
       "</style>\n",
       "<table border=\"1\" class=\"dataframe\">\n",
       "  <thead>\n",
       "    <tr style=\"text-align: right;\">\n",
       "      <th></th>\n",
       "      <th>age</th>\n",
       "      <th>body_type</th>\n",
       "      <th>diet</th>\n",
       "      <th>drinks</th>\n",
       "      <th>drugs</th>\n",
       "      <th>education</th>\n",
       "      <th>ethnicity</th>\n",
       "      <th>height</th>\n",
       "      <th>job</th>\n",
       "      <th>offspring</th>\n",
       "      <th>orientation</th>\n",
       "      <th>religion</th>\n",
       "      <th>sex</th>\n",
       "      <th>sign</th>\n",
       "      <th>smokes</th>\n",
       "      <th>status</th>\n",
       "      <th>ethnicity_grouped</th>\n",
       "      <th>dogs</th>\n",
       "      <th>cats</th>\n",
       "    </tr>\n",
       "  </thead>\n",
       "  <tbody>\n",
       "    <tr>\n",
       "      <th>0</th>\n",
       "      <td>22</td>\n",
       "      <td>large</td>\n",
       "      <td>anything</td>\n",
       "      <td>a little</td>\n",
       "      <td>never</td>\n",
       "      <td>college</td>\n",
       "      <td>asian, white</td>\n",
       "      <td>75.0</td>\n",
       "      <td>service</td>\n",
       "      <td>no kids</td>\n",
       "      <td>straight</td>\n",
       "      <td>agnosticism</td>\n",
       "      <td>m</td>\n",
       "      <td>gemini</td>\n",
       "      <td>yes</td>\n",
       "      <td>single</td>\n",
       "      <td>asian, white</td>\n",
       "      <td>likes dogs</td>\n",
       "      <td>likes cats</td>\n",
       "    </tr>\n",
       "    <tr>\n",
       "      <th>1</th>\n",
       "      <td>35</td>\n",
       "      <td>regular</td>\n",
       "      <td>other</td>\n",
       "      <td>a lot</td>\n",
       "      <td>sometimes</td>\n",
       "      <td>other</td>\n",
       "      <td>white</td>\n",
       "      <td>70.0</td>\n",
       "      <td>service</td>\n",
       "      <td>no kids</td>\n",
       "      <td>straight</td>\n",
       "      <td>agnosticism</td>\n",
       "      <td>m</td>\n",
       "      <td>cancer</td>\n",
       "      <td>no</td>\n",
       "      <td>single</td>\n",
       "      <td>white</td>\n",
       "      <td>likes dogs</td>\n",
       "      <td>likes cats</td>\n",
       "    </tr>\n",
       "    <tr>\n",
       "      <th>2</th>\n",
       "      <td>38</td>\n",
       "      <td>regular</td>\n",
       "      <td>anything</td>\n",
       "      <td>a little</td>\n",
       "      <td>unknown</td>\n",
       "      <td>masters</td>\n",
       "      <td>NaN</td>\n",
       "      <td>68.0</td>\n",
       "      <td>unknown</td>\n",
       "      <td>unknown</td>\n",
       "      <td>straight</td>\n",
       "      <td>unknown</td>\n",
       "      <td>m</td>\n",
       "      <td>pisces</td>\n",
       "      <td>no</td>\n",
       "      <td>available</td>\n",
       "      <td>NaN</td>\n",
       "      <td>no dogs</td>\n",
       "      <td>has cats</td>\n",
       "    </tr>\n",
       "    <tr>\n",
       "      <th>3</th>\n",
       "      <td>23</td>\n",
       "      <td>regular</td>\n",
       "      <td>vegetarian</td>\n",
       "      <td>a little</td>\n",
       "      <td>unknown</td>\n",
       "      <td>college</td>\n",
       "      <td>white</td>\n",
       "      <td>71.0</td>\n",
       "      <td>student</td>\n",
       "      <td>unsure</td>\n",
       "      <td>straight</td>\n",
       "      <td>unknown</td>\n",
       "      <td>m</td>\n",
       "      <td>pisces</td>\n",
       "      <td>no</td>\n",
       "      <td>single</td>\n",
       "      <td>white</td>\n",
       "      <td>no dogs</td>\n",
       "      <td>likes cats</td>\n",
       "    </tr>\n",
       "    <tr>\n",
       "      <th>4</th>\n",
       "      <td>29</td>\n",
       "      <td>regular</td>\n",
       "      <td>unknown</td>\n",
       "      <td>a little</td>\n",
       "      <td>never</td>\n",
       "      <td>college</td>\n",
       "      <td>asian, black, other</td>\n",
       "      <td>66.0</td>\n",
       "      <td>creative</td>\n",
       "      <td>unknown</td>\n",
       "      <td>straight</td>\n",
       "      <td>unknown</td>\n",
       "      <td>m</td>\n",
       "      <td>aquarius</td>\n",
       "      <td>no</td>\n",
       "      <td>single</td>\n",
       "      <td>rare_ethnicity</td>\n",
       "      <td>likes dogs</td>\n",
       "      <td>likes cats</td>\n",
       "    </tr>\n",
       "  </tbody>\n",
       "</table>\n",
       "</div>"
      ],
      "text/plain": [
       "   age body_type        diet    drinks      drugs education  \\\n",
       "0   22     large    anything  a little      never   college   \n",
       "1   35   regular       other     a lot  sometimes     other   \n",
       "2   38   regular    anything  a little    unknown   masters   \n",
       "3   23   regular  vegetarian  a little    unknown   college   \n",
       "4   29   regular     unknown  a little      never   college   \n",
       "\n",
       "             ethnicity  height       job offspring orientation     religion  \\\n",
       "0         asian, white    75.0   service   no kids    straight  agnosticism   \n",
       "1                white    70.0   service   no kids    straight  agnosticism   \n",
       "2                  NaN    68.0   unknown   unknown    straight      unknown   \n",
       "3                white    71.0   student    unsure    straight      unknown   \n",
       "4  asian, black, other    66.0  creative   unknown    straight      unknown   \n",
       "\n",
       "  sex      sign smokes     status ethnicity_grouped        dogs        cats  \n",
       "0   m    gemini    yes     single      asian, white  likes dogs  likes cats  \n",
       "1   m    cancer     no     single             white  likes dogs  likes cats  \n",
       "2   m    pisces     no  available               NaN     no dogs    has cats  \n",
       "3   m    pisces     no     single             white     no dogs  likes cats  \n",
       "4   m  aquarius     no     single    rare_ethnicity  likes dogs  likes cats  "
      ]
     },
     "execution_count": 164,
     "metadata": {},
     "output_type": "execute_result"
    }
   ],
   "source": [
    "profiles.head()"
   ]
  }
 ],
 "metadata": {
  "kernelspec": {
   "display_name": "Python (Anaconda Base)",
   "language": "python",
   "name": "base"
  },
  "language_info": {
   "codemirror_mode": {
    "name": "ipython",
    "version": 3
   },
   "file_extension": ".py",
   "mimetype": "text/x-python",
   "name": "python",
   "nbconvert_exporter": "python",
   "pygments_lexer": "ipython3",
   "version": "3.11.7"
  }
 },
 "nbformat": 4,
 "nbformat_minor": 4
}
