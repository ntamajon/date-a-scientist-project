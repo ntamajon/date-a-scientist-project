{
 "cells": [
  {
   "cell_type": "markdown",
   "metadata": {},
   "source": [
    "# Preprocessing for classification model"
   ]
  },
  {
   "cell_type": "markdown",
   "metadata": {},
   "source": [
    "In this notebook, some preprocessing will be applied to the filtered dataset. "
   ]
  },
  {
   "cell_type": "code",
   "execution_count": 1440,
   "metadata": {},
   "outputs": [],
   "source": [
    "#Importing all libraries\n",
    "import pandas as pd\n",
    "import numpy as np\n",
    "import matplotlib.pyplot as plt\n",
    "import seaborn as sns\n",
    "import math\n",
    "import os\n",
    "from itertools import combinations\n",
    "from scipy.stats import chi2_contingency\n",
    "import category_encoders as ce\n",
    "from sklearn.preprocessing import StandardScaler\n",
    "from sklearn.model_selection import train_test_split\n",
    "from sklearn.preprocessing import LabelEncoder\n",
    "from sklearn.preprocessing import OrdinalEncoder\n"
   ]
  },
  {
   "cell_type": "code",
   "execution_count": 1441,
   "metadata": {},
   "outputs": [
    {
     "data": {
      "text/html": [
       "<div>\n",
       "<style scoped>\n",
       "    .dataframe tbody tr th:only-of-type {\n",
       "        vertical-align: middle;\n",
       "    }\n",
       "\n",
       "    .dataframe tbody tr th {\n",
       "        vertical-align: top;\n",
       "    }\n",
       "\n",
       "    .dataframe thead th {\n",
       "        text-align: right;\n",
       "    }\n",
       "</style>\n",
       "<table border=\"1\" class=\"dataframe\">\n",
       "  <thead>\n",
       "    <tr style=\"text-align: right;\">\n",
       "      <th></th>\n",
       "      <th>age</th>\n",
       "      <th>body_type</th>\n",
       "      <th>diet</th>\n",
       "      <th>drinks</th>\n",
       "      <th>drugs</th>\n",
       "      <th>education</th>\n",
       "      <th>ethnicity</th>\n",
       "      <th>height</th>\n",
       "      <th>job</th>\n",
       "      <th>offspring</th>\n",
       "      <th>orientation</th>\n",
       "      <th>religion</th>\n",
       "      <th>sex</th>\n",
       "      <th>sign</th>\n",
       "      <th>smokes</th>\n",
       "      <th>status</th>\n",
       "      <th>ethnicity_grouped</th>\n",
       "      <th>dogs</th>\n",
       "      <th>cats</th>\n",
       "    </tr>\n",
       "  </thead>\n",
       "  <tbody>\n",
       "    <tr>\n",
       "      <th>0</th>\n",
       "      <td>22</td>\n",
       "      <td>large</td>\n",
       "      <td>anything</td>\n",
       "      <td>a little</td>\n",
       "      <td>never</td>\n",
       "      <td>college</td>\n",
       "      <td>asian, white</td>\n",
       "      <td>75.0</td>\n",
       "      <td>service</td>\n",
       "      <td>no kids</td>\n",
       "      <td>straight</td>\n",
       "      <td>agnosticism</td>\n",
       "      <td>m</td>\n",
       "      <td>gemini</td>\n",
       "      <td>yes</td>\n",
       "      <td>single</td>\n",
       "      <td>asian, white</td>\n",
       "      <td>likes dogs</td>\n",
       "      <td>likes cats</td>\n",
       "    </tr>\n",
       "    <tr>\n",
       "      <th>1</th>\n",
       "      <td>35</td>\n",
       "      <td>regular</td>\n",
       "      <td>other</td>\n",
       "      <td>a lot</td>\n",
       "      <td>sometimes</td>\n",
       "      <td>other</td>\n",
       "      <td>white</td>\n",
       "      <td>70.0</td>\n",
       "      <td>service</td>\n",
       "      <td>no kids</td>\n",
       "      <td>straight</td>\n",
       "      <td>agnosticism</td>\n",
       "      <td>m</td>\n",
       "      <td>cancer</td>\n",
       "      <td>no</td>\n",
       "      <td>single</td>\n",
       "      <td>white</td>\n",
       "      <td>likes dogs</td>\n",
       "      <td>likes cats</td>\n",
       "    </tr>\n",
       "    <tr>\n",
       "      <th>2</th>\n",
       "      <td>38</td>\n",
       "      <td>regular</td>\n",
       "      <td>anything</td>\n",
       "      <td>a little</td>\n",
       "      <td>unknown</td>\n",
       "      <td>masters</td>\n",
       "      <td>NaN</td>\n",
       "      <td>68.0</td>\n",
       "      <td>unknown</td>\n",
       "      <td>unknown</td>\n",
       "      <td>straight</td>\n",
       "      <td>unknown</td>\n",
       "      <td>m</td>\n",
       "      <td>pisces</td>\n",
       "      <td>no</td>\n",
       "      <td>available</td>\n",
       "      <td>NaN</td>\n",
       "      <td>no dogs</td>\n",
       "      <td>has cats</td>\n",
       "    </tr>\n",
       "    <tr>\n",
       "      <th>3</th>\n",
       "      <td>23</td>\n",
       "      <td>regular</td>\n",
       "      <td>vegetarian</td>\n",
       "      <td>a little</td>\n",
       "      <td>unknown</td>\n",
       "      <td>college</td>\n",
       "      <td>white</td>\n",
       "      <td>71.0</td>\n",
       "      <td>student</td>\n",
       "      <td>unsure</td>\n",
       "      <td>straight</td>\n",
       "      <td>unknown</td>\n",
       "      <td>m</td>\n",
       "      <td>pisces</td>\n",
       "      <td>no</td>\n",
       "      <td>single</td>\n",
       "      <td>white</td>\n",
       "      <td>no dogs</td>\n",
       "      <td>likes cats</td>\n",
       "    </tr>\n",
       "    <tr>\n",
       "      <th>4</th>\n",
       "      <td>29</td>\n",
       "      <td>regular</td>\n",
       "      <td>unknown</td>\n",
       "      <td>a little</td>\n",
       "      <td>never</td>\n",
       "      <td>college</td>\n",
       "      <td>asian, black, other</td>\n",
       "      <td>66.0</td>\n",
       "      <td>creative</td>\n",
       "      <td>unknown</td>\n",
       "      <td>straight</td>\n",
       "      <td>unknown</td>\n",
       "      <td>m</td>\n",
       "      <td>aquarius</td>\n",
       "      <td>no</td>\n",
       "      <td>single</td>\n",
       "      <td>rare_ethnicity</td>\n",
       "      <td>likes dogs</td>\n",
       "      <td>likes cats</td>\n",
       "    </tr>\n",
       "  </tbody>\n",
       "</table>\n",
       "</div>"
      ],
      "text/plain": [
       "   age body_type        diet    drinks      drugs education  \\\n",
       "0   22     large    anything  a little      never   college   \n",
       "1   35   regular       other     a lot  sometimes     other   \n",
       "2   38   regular    anything  a little    unknown   masters   \n",
       "3   23   regular  vegetarian  a little    unknown   college   \n",
       "4   29   regular     unknown  a little      never   college   \n",
       "\n",
       "             ethnicity  height       job offspring orientation     religion  \\\n",
       "0         asian, white    75.0   service   no kids    straight  agnosticism   \n",
       "1                white    70.0   service   no kids    straight  agnosticism   \n",
       "2                  NaN    68.0   unknown   unknown    straight      unknown   \n",
       "3                white    71.0   student    unsure    straight      unknown   \n",
       "4  asian, black, other    66.0  creative   unknown    straight      unknown   \n",
       "\n",
       "  sex      sign smokes     status ethnicity_grouped        dogs        cats  \n",
       "0   m    gemini    yes     single      asian, white  likes dogs  likes cats  \n",
       "1   m    cancer     no     single             white  likes dogs  likes cats  \n",
       "2   m    pisces     no  available               NaN     no dogs    has cats  \n",
       "3   m    pisces     no     single             white     no dogs  likes cats  \n",
       "4   m  aquarius     no     single    rare_ethnicity  likes dogs  likes cats  "
      ]
     },
     "execution_count": 1441,
     "metadata": {},
     "output_type": "execute_result"
    }
   ],
   "source": [
    "#Importing dataset cleaned and filtered from EDA\n",
    "profiles = pd.read_csv('../data/profiles_preprocessed1.csv', index_col=False)\n",
    "profiles = profiles.loc[:, ~profiles.columns.str.contains('^Unnamed')]\n",
    "profiles.head()"
   ]
  },
  {
   "cell_type": "markdown",
   "metadata": {},
   "source": [
    "## Scoping the problem\n",
    "\n",
    "For the classification problem, we want to predict what body_type the user belongs to, using habits as predictors. </br>\n",
    "\n",
    "Habits:</br>\n",
    "- diet</br>\n",
    "- drinks</br>\n",
    "- drugs</br>\n",
    "- smokes</br>\n",
    "\n",
    "Also, age, sex and height will be considered."
   ]
  },
  {
   "cell_type": "markdown",
   "metadata": {},
   "source": [
    "### Filtering the dataset.\n",
    "\n",
    "Dropping all variables out of the scope"
   ]
  },
  {
   "cell_type": "code",
   "execution_count": 1442,
   "metadata": {},
   "outputs": [],
   "source": [
    "profiles = profiles.drop(['education', 'ethnicity_grouped', 'ethnicity', 'job', 'offspring', 'orientation', 'religion', 'sign', 'status', 'dogs', 'cats'], axis=1)"
   ]
  },
  {
   "cell_type": "code",
   "execution_count": 1443,
   "metadata": {},
   "outputs": [
    {
     "data": {
      "text/html": [
       "<div>\n",
       "<style scoped>\n",
       "    .dataframe tbody tr th:only-of-type {\n",
       "        vertical-align: middle;\n",
       "    }\n",
       "\n",
       "    .dataframe tbody tr th {\n",
       "        vertical-align: top;\n",
       "    }\n",
       "\n",
       "    .dataframe thead th {\n",
       "        text-align: right;\n",
       "    }\n",
       "</style>\n",
       "<table border=\"1\" class=\"dataframe\">\n",
       "  <thead>\n",
       "    <tr style=\"text-align: right;\">\n",
       "      <th></th>\n",
       "      <th>age</th>\n",
       "      <th>body_type</th>\n",
       "      <th>diet</th>\n",
       "      <th>drinks</th>\n",
       "      <th>drugs</th>\n",
       "      <th>height</th>\n",
       "      <th>sex</th>\n",
       "      <th>smokes</th>\n",
       "    </tr>\n",
       "  </thead>\n",
       "  <tbody>\n",
       "    <tr>\n",
       "      <th>0</th>\n",
       "      <td>22</td>\n",
       "      <td>large</td>\n",
       "      <td>anything</td>\n",
       "      <td>a little</td>\n",
       "      <td>never</td>\n",
       "      <td>75.0</td>\n",
       "      <td>m</td>\n",
       "      <td>yes</td>\n",
       "    </tr>\n",
       "    <tr>\n",
       "      <th>1</th>\n",
       "      <td>35</td>\n",
       "      <td>regular</td>\n",
       "      <td>other</td>\n",
       "      <td>a lot</td>\n",
       "      <td>sometimes</td>\n",
       "      <td>70.0</td>\n",
       "      <td>m</td>\n",
       "      <td>no</td>\n",
       "    </tr>\n",
       "    <tr>\n",
       "      <th>2</th>\n",
       "      <td>38</td>\n",
       "      <td>regular</td>\n",
       "      <td>anything</td>\n",
       "      <td>a little</td>\n",
       "      <td>unknown</td>\n",
       "      <td>68.0</td>\n",
       "      <td>m</td>\n",
       "      <td>no</td>\n",
       "    </tr>\n",
       "    <tr>\n",
       "      <th>3</th>\n",
       "      <td>23</td>\n",
       "      <td>regular</td>\n",
       "      <td>vegetarian</td>\n",
       "      <td>a little</td>\n",
       "      <td>unknown</td>\n",
       "      <td>71.0</td>\n",
       "      <td>m</td>\n",
       "      <td>no</td>\n",
       "    </tr>\n",
       "    <tr>\n",
       "      <th>4</th>\n",
       "      <td>29</td>\n",
       "      <td>regular</td>\n",
       "      <td>unknown</td>\n",
       "      <td>a little</td>\n",
       "      <td>never</td>\n",
       "      <td>66.0</td>\n",
       "      <td>m</td>\n",
       "      <td>no</td>\n",
       "    </tr>\n",
       "  </tbody>\n",
       "</table>\n",
       "</div>"
      ],
      "text/plain": [
       "   age body_type        diet    drinks      drugs  height sex smokes\n",
       "0   22     large    anything  a little      never    75.0   m    yes\n",
       "1   35   regular       other     a lot  sometimes    70.0   m     no\n",
       "2   38   regular    anything  a little    unknown    68.0   m     no\n",
       "3   23   regular  vegetarian  a little    unknown    71.0   m     no\n",
       "4   29   regular     unknown  a little      never    66.0   m     no"
      ]
     },
     "execution_count": 1443,
     "metadata": {},
     "output_type": "execute_result"
    }
   ],
   "source": [
    "profiles.head()"
   ]
  },
  {
   "cell_type": "markdown",
   "metadata": {},
   "source": [
    "## Imputation and second cardinality reduction for categorical variables"
   ]
  },
  {
   "cell_type": "markdown",
   "metadata": {},
   "source": [
    "Defining functions for reusable code:\n",
    "\n",
    "1) Printing proportions with and without the value 'unknown'\n",
    "2) Imputation of 'unknown' value according to the distribution of the rest of the values in the variable."
   ]
  },
  {
   "cell_type": "code",
   "execution_count": 1444,
   "metadata": {},
   "outputs": [],
   "source": [
    "def pre_encode_cat(variable): #this function prints the preliminar proportions and counts before encoding\n",
    "    count = profiles[variable].value_counts()\n",
    "    print(f\"Value counts for {count}\")\n",
    "    print(f\"Proportions for {profiles[variable].value_counts(1)}\")\n",
    "    proportions = (profiles.loc[profiles[variable] != 'unknown', variable]).value_counts(1)\n",
    "    print(f\"Proportions without the value 'unknown' {proportions}\")"
   ]
  },
  {
   "cell_type": "code",
   "execution_count": 1445,
   "metadata": {},
   "outputs": [],
   "source": [
    "def prop_imputer(variable):\n",
    "    proportions = (profiles.loc[profiles[variable] != 'unknown', variable]).value_counts(1)\n",
    "    # Find the indices where variable == 'unknown'\n",
    "    unknown_idx = profiles[profiles[variable] == 'unknown'].index\n",
    "    # Shuffle indices for random assignment\n",
    "    shuffled_idx = np.random.permutation(unknown_idx)\n",
    "    # Number of unknowns\n",
    "    n_unknown = len(unknown_idx)\n",
    "    # Calculate how many to assign each new value\n",
    "    n_assign = []\n",
    "    for props in range(len(proportions)):\n",
    "        n_assign.append(int(round(proportions.iloc[props] * n_unknown, 0)))\n",
    "        start = 0\n",
    "        for i in range(len(n_assign)):\n",
    "            # Assign value\n",
    "            profiles.loc[shuffled_idx[start:start + n_assign[i]], variable] = proportions.index[i]\n",
    "            start += n_assign[i]\n",
    "    return print(f\"new values: {profiles[variable].value_counts()}\")\n",
    "    "
   ]
  },
  {
   "cell_type": "markdown",
   "metadata": {},
   "source": [
    "### *'body_type'*"
   ]
  },
  {
   "cell_type": "code",
   "execution_count": 1446,
   "metadata": {},
   "outputs": [
    {
     "name": "stdout",
     "output_type": "stream",
     "text": [
      "Value counts for body_type\n",
      "regular    46091\n",
      "large       8361\n",
      "unknown     5494\n",
      "Name: count, dtype: int64\n",
      "Proportions for body_type\n",
      "regular    0.768875\n",
      "large      0.139476\n",
      "unknown    0.091649\n",
      "Name: proportion, dtype: float64\n",
      "Proportions without the value 'unknown' body_type\n",
      "regular    0.846452\n",
      "large      0.153548\n",
      "Name: proportion, dtype: float64\n"
     ]
    }
   ],
   "source": [
    "#checking unique variables and proportions\n",
    "pre_encode_cat(variable='body_type')"
   ]
  },
  {
   "cell_type": "markdown",
   "metadata": {},
   "source": [
    "Ordinal encoding seems to be the best option for this variable. Imputation is necessary before. </br>\n",
    "Since this will be the target variable, let's reduce categories for better prediction.</br>\n",
    "Replacements done: 'other' with 'unknown'; 'thin' with 'average', 'curvy' with 'larger'</br>\n",
    "\n",
    "We will have three classes: 'average', 'fit' and 'larger'"
   ]
  },
  {
   "cell_type": "code",
   "execution_count": 1447,
   "metadata": {},
   "outputs": [
    {
     "name": "stdout",
     "output_type": "stream",
     "text": [
      "new values: body_type\n",
      "regular    50741\n",
      "large       9205\n",
      "Name: count, dtype: int64\n"
     ]
    }
   ],
   "source": [
    "prop_imputer(variable='body_type')"
   ]
  },
  {
   "cell_type": "markdown",
   "metadata": {},
   "source": [
    "### *'diet'*"
   ]
  },
  {
   "cell_type": "code",
   "execution_count": 1448,
   "metadata": {},
   "outputs": [
    {
     "name": "stdout",
     "output_type": "stream",
     "text": [
      "Value counts for diet\n",
      "anything      27881\n",
      "unknown       24395\n",
      "vegetarian     4986\n",
      "other          1790\n",
      "vegan           702\n",
      "kosher          115\n",
      "halal            77\n",
      "Name: count, dtype: int64\n",
      "Proportions for diet\n",
      "anything      0.465102\n",
      "unknown       0.406950\n",
      "vegetarian    0.083175\n",
      "other         0.029860\n",
      "vegan         0.011711\n",
      "kosher        0.001918\n",
      "halal         0.001284\n",
      "Name: proportion, dtype: float64\n",
      "Proportions without the value 'unknown' diet\n",
      "anything      0.784254\n",
      "vegetarian    0.140249\n",
      "other         0.050350\n",
      "vegan         0.019746\n",
      "kosher        0.003235\n",
      "halal         0.002166\n",
      "Name: proportion, dtype: float64\n"
     ]
    }
   ],
   "source": [
    "#checking unique variables and proportions\n",
    "pre_encode_cat(variable='diet')"
   ]
  },
  {
   "cell_type": "markdown",
   "metadata": {},
   "source": [
    "Imputation of the value 'unknown' with the mode 'anything'"
   ]
  },
  {
   "cell_type": "code",
   "execution_count": 1449,
   "metadata": {},
   "outputs": [],
   "source": [
    "profiles['diet'] = profiles['diet'].replace('unknown', 'anything')"
   ]
  },
  {
   "cell_type": "markdown",
   "metadata": {},
   "source": [
    "### *'drinks'*"
   ]
  },
  {
   "cell_type": "code",
   "execution_count": 1450,
   "metadata": {},
   "outputs": [
    {
     "name": "stdout",
     "output_type": "stream",
     "text": [
      "Value counts for drinks\n",
      "a little      47737\n",
      "a lot          5957\n",
      "not at all     3267\n",
      "unknown        2985\n",
      "Name: count, dtype: int64\n",
      "Proportions for drinks\n",
      "a little      0.796333\n",
      "a lot         0.099373\n",
      "not at all    0.054499\n",
      "unknown       0.049795\n",
      "Name: proportion, dtype: float64\n",
      "Proportions without the value 'unknown' drinks\n",
      "a little      0.838065\n",
      "a lot         0.104580\n",
      "not at all    0.057355\n",
      "Name: proportion, dtype: float64\n"
     ]
    }
   ],
   "source": [
    "#checking unique variables and proportions\n",
    "pre_encode_cat(variable='drinks')"
   ]
  },
  {
   "cell_type": "code",
   "execution_count": 1451,
   "metadata": {},
   "outputs": [],
   "source": [
    "#Imputation of the value 'unknown' with the mode 'a little'\n",
    "profiles['drinks'] = profiles['drinks'].replace('unknown', 'a little')"
   ]
  },
  {
   "cell_type": "markdown",
   "metadata": {},
   "source": [
    "### *'drugs'*"
   ]
  },
  {
   "cell_type": "code",
   "execution_count": 1452,
   "metadata": {},
   "outputs": [
    {
     "name": "stdout",
     "output_type": "stream",
     "text": [
      "Value counts for drugs\n",
      "never        37724\n",
      "unknown      14080\n",
      "sometimes     7732\n",
      "often          410\n",
      "Name: count, dtype: int64\n",
      "Proportions for drugs\n",
      "never        0.629300\n",
      "unknown      0.234878\n",
      "sometimes    0.128983\n",
      "often        0.006839\n",
      "Name: proportion, dtype: float64\n",
      "Proportions without the value 'unknown' drugs\n",
      "never        0.822483\n",
      "sometimes    0.168578\n",
      "often        0.008939\n",
      "Name: proportion, dtype: float64\n"
     ]
    }
   ],
   "source": [
    "#checking unique values with total counts\n",
    "pre_encode_cat(variable='drugs')"
   ]
  },
  {
   "cell_type": "markdown",
   "metadata": {},
   "source": [
    "Imputation will assign to 'unknown' three different values: 'never', 'sometimes', 'often' in the same proportions they repeat along the dataset. </br>"
   ]
  },
  {
   "cell_type": "code",
   "execution_count": 1453,
   "metadata": {},
   "outputs": [
    {
     "name": "stdout",
     "output_type": "stream",
     "text": [
      "new values: drugs\n",
      "never        49305\n",
      "sometimes    10106\n",
      "often          535\n",
      "Name: count, dtype: int64\n"
     ]
    }
   ],
   "source": [
    "prop_imputer(variable='drugs')"
   ]
  },
  {
   "cell_type": "markdown",
   "metadata": {},
   "source": [
    "### *'smokes'*"
   ]
  },
  {
   "cell_type": "code",
   "execution_count": 1454,
   "metadata": {},
   "outputs": [
    {
     "name": "stdout",
     "output_type": "stream",
     "text": [
      "Value counts for smokes\n",
      "no              46127\n",
      "yes              8307\n",
      "not answered     5512\n",
      "Name: count, dtype: int64\n",
      "Proportions for smokes\n",
      "no              0.769476\n",
      "yes             0.138575\n",
      "not answered    0.091949\n",
      "Name: proportion, dtype: float64\n",
      "Proportions without the value 'unknown' smokes\n",
      "no              0.769476\n",
      "yes             0.138575\n",
      "not answered    0.091949\n",
      "Name: proportion, dtype: float64\n"
     ]
    }
   ],
   "source": [
    "pre_encode_cat(variable='smokes')"
   ]
  },
  {
   "cell_type": "code",
   "execution_count": 1455,
   "metadata": {},
   "outputs": [],
   "source": [
    "profiles['smokes'] = profiles['smokes'].replace('not answered', 'unknown')"
   ]
  },
  {
   "cell_type": "code",
   "execution_count": 1456,
   "metadata": {},
   "outputs": [
    {
     "name": "stdout",
     "output_type": "stream",
     "text": [
      "new values: smokes\n",
      "no     50798\n",
      "yes     9148\n",
      "Name: count, dtype: int64\n"
     ]
    }
   ],
   "source": [
    "prop_imputer(variable='smokes')"
   ]
  },
  {
   "cell_type": "markdown",
   "metadata": {},
   "source": [
    "## Splitting the dataset, encoding categorical variables and transforming numerical ones.\n",
    "\n",
    "Three subsets will be used: train (70%), validation (15%) and test set (15%)"
   ]
  },
  {
   "cell_type": "markdown",
   "metadata": {},
   "source": [
    "### Definition of X and y (predictors and labels)."
   ]
  },
  {
   "cell_type": "code",
   "execution_count": 1457,
   "metadata": {},
   "outputs": [],
   "source": [
    "X = profiles.drop(['body_type'], axis=1)\n",
    "y = profiles['body_type']"
   ]
  },
  {
   "cell_type": "markdown",
   "metadata": {},
   "source": [
    "## TEST: Creating new variables as a combination of habits, binning the age and height groups and defining risk groups"
   ]
  },
  {
   "cell_type": "code",
   "execution_count": 1458,
   "metadata": {},
   "outputs": [],
   "source": [
    "# Combining pairs of habits\n",
    "X['smokes_drinks'] = X['smokes'] + '_' + X['drinks']\n",
    "X['drinks_drugs'] = X['drinks'] + '_' + X['drugs']\n",
    "X['smokes_drugs'] = X['smokes'] + '_' + X['drugs']\n"
   ]
  },
  {
   "cell_type": "code",
   "execution_count": 1459,
   "metadata": {},
   "outputs": [],
   "source": [
    "# Age ranges\n",
    "X['age_group'] = pd.cut(X['age'], bins=[0, 25, 40, 60, 100], labels=['young', 'adult', 'middle_aged', 'senior'])\n",
    "\n",
    "# Height ranges\n",
    "X['height_group'] = pd.cut(X['height'], bins=[0, 63, 69, 75, 100], labels=['short', 'avg', 'tall', 'very_tall'])\n"
   ]
  },
  {
   "cell_type": "code",
   "execution_count": 1460,
   "metadata": {},
   "outputs": [],
   "source": [
    "# Risk combinations\n",
    "X['risky_behavior'] = ((X['smokes'] != 'no') & (X['drinks'] != 'not at all') & (X['drugs'] != 'never')).astype(int)\n"
   ]
  },
  {
   "cell_type": "code",
   "execution_count": 1461,
   "metadata": {},
   "outputs": [
    {
     "data": {
      "text/html": [
       "<div>\n",
       "<style scoped>\n",
       "    .dataframe tbody tr th:only-of-type {\n",
       "        vertical-align: middle;\n",
       "    }\n",
       "\n",
       "    .dataframe tbody tr th {\n",
       "        vertical-align: top;\n",
       "    }\n",
       "\n",
       "    .dataframe thead th {\n",
       "        text-align: right;\n",
       "    }\n",
       "</style>\n",
       "<table border=\"1\" class=\"dataframe\">\n",
       "  <thead>\n",
       "    <tr style=\"text-align: right;\">\n",
       "      <th></th>\n",
       "      <th>age</th>\n",
       "      <th>diet</th>\n",
       "      <th>drinks</th>\n",
       "      <th>drugs</th>\n",
       "      <th>height</th>\n",
       "      <th>sex</th>\n",
       "      <th>smokes</th>\n",
       "      <th>smokes_drinks</th>\n",
       "      <th>drinks_drugs</th>\n",
       "      <th>smokes_drugs</th>\n",
       "      <th>age_group</th>\n",
       "      <th>height_group</th>\n",
       "      <th>risky_behavior</th>\n",
       "    </tr>\n",
       "  </thead>\n",
       "  <tbody>\n",
       "    <tr>\n",
       "      <th>0</th>\n",
       "      <td>22</td>\n",
       "      <td>anything</td>\n",
       "      <td>a little</td>\n",
       "      <td>never</td>\n",
       "      <td>75.0</td>\n",
       "      <td>m</td>\n",
       "      <td>yes</td>\n",
       "      <td>yes_a little</td>\n",
       "      <td>a little_never</td>\n",
       "      <td>yes_never</td>\n",
       "      <td>young</td>\n",
       "      <td>tall</td>\n",
       "      <td>0</td>\n",
       "    </tr>\n",
       "    <tr>\n",
       "      <th>1</th>\n",
       "      <td>35</td>\n",
       "      <td>other</td>\n",
       "      <td>a lot</td>\n",
       "      <td>sometimes</td>\n",
       "      <td>70.0</td>\n",
       "      <td>m</td>\n",
       "      <td>no</td>\n",
       "      <td>no_a lot</td>\n",
       "      <td>a lot_sometimes</td>\n",
       "      <td>no_sometimes</td>\n",
       "      <td>adult</td>\n",
       "      <td>tall</td>\n",
       "      <td>0</td>\n",
       "    </tr>\n",
       "    <tr>\n",
       "      <th>2</th>\n",
       "      <td>38</td>\n",
       "      <td>anything</td>\n",
       "      <td>a little</td>\n",
       "      <td>never</td>\n",
       "      <td>68.0</td>\n",
       "      <td>m</td>\n",
       "      <td>no</td>\n",
       "      <td>no_a little</td>\n",
       "      <td>a little_never</td>\n",
       "      <td>no_never</td>\n",
       "      <td>adult</td>\n",
       "      <td>avg</td>\n",
       "      <td>0</td>\n",
       "    </tr>\n",
       "    <tr>\n",
       "      <th>3</th>\n",
       "      <td>23</td>\n",
       "      <td>vegetarian</td>\n",
       "      <td>a little</td>\n",
       "      <td>never</td>\n",
       "      <td>71.0</td>\n",
       "      <td>m</td>\n",
       "      <td>no</td>\n",
       "      <td>no_a little</td>\n",
       "      <td>a little_never</td>\n",
       "      <td>no_never</td>\n",
       "      <td>young</td>\n",
       "      <td>tall</td>\n",
       "      <td>0</td>\n",
       "    </tr>\n",
       "    <tr>\n",
       "      <th>4</th>\n",
       "      <td>29</td>\n",
       "      <td>anything</td>\n",
       "      <td>a little</td>\n",
       "      <td>never</td>\n",
       "      <td>66.0</td>\n",
       "      <td>m</td>\n",
       "      <td>no</td>\n",
       "      <td>no_a little</td>\n",
       "      <td>a little_never</td>\n",
       "      <td>no_never</td>\n",
       "      <td>adult</td>\n",
       "      <td>avg</td>\n",
       "      <td>0</td>\n",
       "    </tr>\n",
       "  </tbody>\n",
       "</table>\n",
       "</div>"
      ],
      "text/plain": [
       "   age        diet    drinks      drugs  height sex smokes smokes_drinks  \\\n",
       "0   22    anything  a little      never    75.0   m    yes  yes_a little   \n",
       "1   35       other     a lot  sometimes    70.0   m     no      no_a lot   \n",
       "2   38    anything  a little      never    68.0   m     no   no_a little   \n",
       "3   23  vegetarian  a little      never    71.0   m     no   no_a little   \n",
       "4   29    anything  a little      never    66.0   m     no   no_a little   \n",
       "\n",
       "      drinks_drugs  smokes_drugs age_group height_group  risky_behavior  \n",
       "0   a little_never     yes_never     young         tall               0  \n",
       "1  a lot_sometimes  no_sometimes     adult         tall               0  \n",
       "2   a little_never      no_never     adult          avg               0  \n",
       "3   a little_never      no_never     young         tall               0  \n",
       "4   a little_never      no_never     adult          avg               0  "
      ]
     },
     "execution_count": 1461,
     "metadata": {},
     "output_type": "execute_result"
    }
   ],
   "source": [
    "X.head()"
   ]
  },
  {
   "cell_type": "code",
   "execution_count": 1462,
   "metadata": {},
   "outputs": [],
   "source": [
    "X_train, X_temp, y_train, y_temp = train_test_split(X, y, random_state=42, test_size=0.3, stratify=y)\n",
    "X_val, X_test, y_val, y_test = train_test_split(X_temp, y_temp, test_size=0.50, stratify=y_temp, random_state=42)"
   ]
  },
  {
   "cell_type": "code",
   "execution_count": 1463,
   "metadata": {},
   "outputs": [
    {
     "name": "stdout",
     "output_type": "stream",
     "text": [
      "41962\n",
      "8992\n",
      "8992\n"
     ]
    }
   ],
   "source": [
    "print(len(X_train))\n",
    "print(len(X_test))\n",
    "print(len(X_val))"
   ]
  },
  {
   "cell_type": "code",
   "execution_count": 1464,
   "metadata": {},
   "outputs": [
    {
     "name": "stdout",
     "output_type": "stream",
     "text": [
      "risky_behavior\n",
      "0    56788\n",
      "1     3158\n",
      "Name: count, dtype: int64\n"
     ]
    }
   ],
   "source": [
    "print(X['risky_behavior'].value_counts())"
   ]
  },
  {
   "cell_type": "markdown",
   "metadata": {},
   "source": [
    "### Separation of numerical and categorical subsets"
   ]
  },
  {
   "cell_type": "code",
   "execution_count": 1465,
   "metadata": {},
   "outputs": [],
   "source": [
    "X_num_train = X_train[['age', 'height']]\n",
    "X_cat_train = X_train.drop(['age', 'height'], axis=1)\n",
    "\n",
    "X_num_val = X_val[['age', 'height']]\n",
    "X_cat_val = X_val.drop(['age', 'height'], axis=1)\n",
    "\n",
    "X_num_test = X_test[['age', 'height']]\n",
    "X_cat_test = X_test.drop(['age', 'height'], axis=1)"
   ]
  },
  {
   "cell_type": "markdown",
   "metadata": {},
   "source": [
    "### Transforming numerical variables"
   ]
  },
  {
   "cell_type": "code",
   "execution_count": 1466,
   "metadata": {},
   "outputs": [],
   "source": [
    "scaler = StandardScaler()\n",
    "X_num_train_scaled = scaler.fit_transform(X_num_train)\n",
    "X_num_train_scaled = pd.DataFrame(X_num_train_scaled, columns=X_num_train.columns, index=X_num_train.index)\n",
    "\n",
    "X_num_val_scaled = scaler.transform(X_num_val)\n",
    "X_num_val_scaled = pd.DataFrame(X_num_val_scaled, columns=X_num_val.columns, index=X_num_val.index)\n",
    "\n",
    "X_num_test_scaled = scaler.transform(X_num_test)\n",
    "X_num_test_scaled = pd.DataFrame(X_num_test_scaled, columns=X_num_test.columns, index=X_num_test.index)"
   ]
  },
  {
   "cell_type": "markdown",
   "metadata": {},
   "source": [
    "### Encoding categorical variables"
   ]
  },
  {
   "cell_type": "markdown",
   "metadata": {},
   "source": [
    "#### y = *'body_type'* - (target variable)\n",
    "We have three classes: {'regular': 0, 'large': 1}"
   ]
  },
  {
   "cell_type": "code",
   "execution_count": 1467,
   "metadata": {},
   "outputs": [],
   "source": [
    "body_type_mapping = {'regular': 0, 'large': 1}\n",
    "y_train_enc = y_train.map(body_type_mapping)\n",
    "y_val_enc = y_val.map(body_type_mapping)\n",
    "y_test_enc = y_test.map(body_type_mapping)"
   ]
  },
  {
   "cell_type": "code",
   "execution_count": 1468,
   "metadata": {},
   "outputs": [],
   "source": [
    "#le = LabelEncoder()\n",
    "#y_train_enc = le.fit_transform(y_train)\n",
    "#y_val_enc = le.transform(y_val)\n",
    "#y_test_enc = le.transform(y_test)"
   ]
  },
  {
   "cell_type": "code",
   "execution_count": 1469,
   "metadata": {},
   "outputs": [
    {
     "data": {
      "text/plain": [
       "Index(['age', 'diet', 'drinks', 'drugs', 'height', 'sex', 'smokes',\n",
       "       'smokes_drinks', 'drinks_drugs', 'smokes_drugs', 'age_group',\n",
       "       'height_group', 'risky_behavior'],\n",
       "      dtype='object')"
      ]
     },
     "execution_count": 1469,
     "metadata": {},
     "output_type": "execute_result"
    }
   ],
   "source": [
    "X.columns"
   ]
  },
  {
   "cell_type": "markdown",
   "metadata": {},
   "source": [
    "#### X = *'diet', 'drinks', 'drugs', 'sex', 'smokes', 'smokes_drinks', 'drinks_drugs', 'smokes_drugs', 'age_group', 'height_group', 'risky_behavior'* - (predictors)"
   ]
  },
  {
   "cell_type": "markdown",
   "metadata": {},
   "source": [
    "##### *'diet', 'drinks', 'drugs', 'smokes_drinks', 'drinks_drugs', 'smokes_drugs'* - One-Hot Encoding\n",
    "\n",
    "##### *'age_group', 'height_group'* - Ordinal Encoding"
   ]
  },
  {
   "cell_type": "code",
   "execution_count": null,
   "metadata": {},
   "outputs": [],
   "source": []
  },
  {
   "cell_type": "code",
   "execution_count": 1470,
   "metadata": {},
   "outputs": [
    {
     "name": "stdout",
     "output_type": "stream",
     "text": [
      "2\n"
     ]
    }
   ],
   "source": [
    "print(np.sum(X['age_group'].isna()))"
   ]
  },
  {
   "cell_type": "markdown",
   "metadata": {},
   "source": [
    "One-Hot Encoding"
   ]
  },
  {
   "cell_type": "code",
   "execution_count": 1471,
   "metadata": {},
   "outputs": [],
   "source": [
    "columns_to_encode = ['diet', 'drinks', 'drugs', 'smokes_drinks', 'drinks_drugs', 'smokes_drugs']\n",
    "X_cat_train_oh = X_cat_train.drop(['age_group', 'height_group'], axis=1)\n",
    "X_cat_train_oh = pd.get_dummies(X_cat_train_oh, columns=columns_to_encode, drop_first=False)\n",
    "\n",
    "X_cat_val_oh = X_cat_val.drop(['age_group', 'height_group'], axis=1)\n",
    "X_cat_val_oh = pd.get_dummies(X_cat_val_oh, columns=columns_to_encode, drop_first=False)\n",
    "\n",
    "X_cat_test_oh = X_cat_test.drop(['age_group', 'height_group'], axis=1)\n",
    "X_cat_test_oh = pd.get_dummies(X_cat_test_oh, columns=columns_to_encode, drop_first=False)\n"
   ]
  },
  {
   "cell_type": "markdown",
   "metadata": {},
   "source": [
    "Ordinal Encoding"
   ]
  },
  {
   "cell_type": "code",
   "execution_count": 1472,
   "metadata": {},
   "outputs": [],
   "source": [
    "X_cat_train['age_group'] = X_cat_train['age_group'].fillna(value=X_cat_train['age_group'].mode()[0])\n",
    "X_cat_test['age_group'] = X_cat_test['age_group'].fillna(value=X_cat_test['age_group'].mode()[0])"
   ]
  },
  {
   "cell_type": "code",
   "execution_count": 1473,
   "metadata": {},
   "outputs": [],
   "source": [
    "X_cat_train_oe = X_cat_train[['age_group', 'height_group']].copy()\n",
    "X_cat_val_oe = X_cat_val[['age_group', 'height_group']].copy()\n",
    "X_cat_test_oe = X_cat_train[['age_group', 'height_group']].copy()"
   ]
  },
  {
   "cell_type": "code",
   "execution_count": 1474,
   "metadata": {},
   "outputs": [],
   "source": [
    "height_ordered_labels = [['short', 'avg', 'tall', 'very_tall']]\n",
    "age_ordered_labels = [['young', 'adult', 'middle_aged', 'senior']]\n",
    "\n",
    "encoder1 = OrdinalEncoder(categories=height_ordered_labels)\n",
    "encoder2 = OrdinalEncoder(categories=age_ordered_labels)\n",
    "\n",
    "X_cat_train_oe['height_group'] = encoder1.fit_transform(X_cat_train_oe[['height_group']])\n",
    "X_cat_val_oe['height_group'] = encoder1.transform(X_cat_val_oe[['height_group']])\n",
    "X_cat_test_oe['height_group'] = encoder1.transform(X_cat_test_oe[['height_group']])\n",
    "\n",
    "X_cat_train_oe['age_group'] = encoder2.fit_transform(X_cat_train_oe[['age_group']])\n",
    "X_cat_val_oe['age_group'] = encoder2.transform(X_cat_val_oe[['age_group']])\n",
    "X_cat_test_oe['age_group'] = encoder2.transform(X_cat_test_oe[['age_group']])"
   ]
  },
  {
   "cell_type": "markdown",
   "metadata": {},
   "source": [
    "Concatenation of One-Hot encoded with Ordinal Encoded"
   ]
  },
  {
   "cell_type": "code",
   "execution_count": 1475,
   "metadata": {},
   "outputs": [],
   "source": [
    "X_cat_train = pd.concat([X_cat_train_oe, X_cat_train_oh], axis=1)\n",
    "X_cat_val = pd.concat([X_cat_val_oe, X_cat_val_oh], axis=1)\n",
    "X_cat_test = pd.concat([X_cat_test_oe, X_cat_test_oh], axis=1)"
   ]
  },
  {
   "cell_type": "code",
   "execution_count": 1476,
   "metadata": {},
   "outputs": [
    {
     "data": {
      "text/html": [
       "<div>\n",
       "<style scoped>\n",
       "    .dataframe tbody tr th:only-of-type {\n",
       "        vertical-align: middle;\n",
       "    }\n",
       "\n",
       "    .dataframe tbody tr th {\n",
       "        vertical-align: top;\n",
       "    }\n",
       "\n",
       "    .dataframe thead th {\n",
       "        text-align: right;\n",
       "    }\n",
       "</style>\n",
       "<table border=\"1\" class=\"dataframe\">\n",
       "  <thead>\n",
       "    <tr style=\"text-align: right;\">\n",
       "      <th></th>\n",
       "      <th>age_group</th>\n",
       "      <th>height_group</th>\n",
       "      <th>sex</th>\n",
       "      <th>smokes</th>\n",
       "      <th>risky_behavior</th>\n",
       "      <th>diet_anything</th>\n",
       "      <th>diet_halal</th>\n",
       "      <th>diet_kosher</th>\n",
       "      <th>diet_other</th>\n",
       "      <th>diet_vegan</th>\n",
       "      <th>...</th>\n",
       "      <th>drinks_drugs_a lot_sometimes</th>\n",
       "      <th>drinks_drugs_not at all_never</th>\n",
       "      <th>drinks_drugs_not at all_often</th>\n",
       "      <th>drinks_drugs_not at all_sometimes</th>\n",
       "      <th>smokes_drugs_no_never</th>\n",
       "      <th>smokes_drugs_no_often</th>\n",
       "      <th>smokes_drugs_no_sometimes</th>\n",
       "      <th>smokes_drugs_yes_never</th>\n",
       "      <th>smokes_drugs_yes_often</th>\n",
       "      <th>smokes_drugs_yes_sometimes</th>\n",
       "    </tr>\n",
       "  </thead>\n",
       "  <tbody>\n",
       "    <tr>\n",
       "      <th>53901</th>\n",
       "      <td>1.0</td>\n",
       "      <td>0.0</td>\n",
       "      <td>f</td>\n",
       "      <td>no</td>\n",
       "      <td>0</td>\n",
       "      <td>True</td>\n",
       "      <td>False</td>\n",
       "      <td>False</td>\n",
       "      <td>False</td>\n",
       "      <td>False</td>\n",
       "      <td>...</td>\n",
       "      <td>False</td>\n",
       "      <td>False</td>\n",
       "      <td>False</td>\n",
       "      <td>False</td>\n",
       "      <td>True</td>\n",
       "      <td>False</td>\n",
       "      <td>False</td>\n",
       "      <td>False</td>\n",
       "      <td>False</td>\n",
       "      <td>False</td>\n",
       "    </tr>\n",
       "    <tr>\n",
       "      <th>47657</th>\n",
       "      <td>0.0</td>\n",
       "      <td>2.0</td>\n",
       "      <td>m</td>\n",
       "      <td>no</td>\n",
       "      <td>0</td>\n",
       "      <td>True</td>\n",
       "      <td>False</td>\n",
       "      <td>False</td>\n",
       "      <td>False</td>\n",
       "      <td>False</td>\n",
       "      <td>...</td>\n",
       "      <td>False</td>\n",
       "      <td>False</td>\n",
       "      <td>False</td>\n",
       "      <td>False</td>\n",
       "      <td>False</td>\n",
       "      <td>False</td>\n",
       "      <td>True</td>\n",
       "      <td>False</td>\n",
       "      <td>False</td>\n",
       "      <td>False</td>\n",
       "    </tr>\n",
       "    <tr>\n",
       "      <th>21804</th>\n",
       "      <td>2.0</td>\n",
       "      <td>2.0</td>\n",
       "      <td>m</td>\n",
       "      <td>no</td>\n",
       "      <td>0</td>\n",
       "      <td>True</td>\n",
       "      <td>False</td>\n",
       "      <td>False</td>\n",
       "      <td>False</td>\n",
       "      <td>False</td>\n",
       "      <td>...</td>\n",
       "      <td>False</td>\n",
       "      <td>False</td>\n",
       "      <td>False</td>\n",
       "      <td>False</td>\n",
       "      <td>True</td>\n",
       "      <td>False</td>\n",
       "      <td>False</td>\n",
       "      <td>False</td>\n",
       "      <td>False</td>\n",
       "      <td>False</td>\n",
       "    </tr>\n",
       "    <tr>\n",
       "      <th>4686</th>\n",
       "      <td>1.0</td>\n",
       "      <td>2.0</td>\n",
       "      <td>m</td>\n",
       "      <td>no</td>\n",
       "      <td>0</td>\n",
       "      <td>True</td>\n",
       "      <td>False</td>\n",
       "      <td>False</td>\n",
       "      <td>False</td>\n",
       "      <td>False</td>\n",
       "      <td>...</td>\n",
       "      <td>False</td>\n",
       "      <td>False</td>\n",
       "      <td>False</td>\n",
       "      <td>False</td>\n",
       "      <td>False</td>\n",
       "      <td>False</td>\n",
       "      <td>True</td>\n",
       "      <td>False</td>\n",
       "      <td>False</td>\n",
       "      <td>False</td>\n",
       "    </tr>\n",
       "    <tr>\n",
       "      <th>32855</th>\n",
       "      <td>1.0</td>\n",
       "      <td>1.0</td>\n",
       "      <td>m</td>\n",
       "      <td>no</td>\n",
       "      <td>0</td>\n",
       "      <td>True</td>\n",
       "      <td>False</td>\n",
       "      <td>False</td>\n",
       "      <td>False</td>\n",
       "      <td>False</td>\n",
       "      <td>...</td>\n",
       "      <td>False</td>\n",
       "      <td>False</td>\n",
       "      <td>False</td>\n",
       "      <td>False</td>\n",
       "      <td>True</td>\n",
       "      <td>False</td>\n",
       "      <td>False</td>\n",
       "      <td>False</td>\n",
       "      <td>False</td>\n",
       "      <td>False</td>\n",
       "    </tr>\n",
       "  </tbody>\n",
       "</table>\n",
       "<p>5 rows × 38 columns</p>\n",
       "</div>"
      ],
      "text/plain": [
       "       age_group  height_group sex smokes  risky_behavior  diet_anything  \\\n",
       "53901        1.0           0.0   f     no               0           True   \n",
       "47657        0.0           2.0   m     no               0           True   \n",
       "21804        2.0           2.0   m     no               0           True   \n",
       "4686         1.0           2.0   m     no               0           True   \n",
       "32855        1.0           1.0   m     no               0           True   \n",
       "\n",
       "       diet_halal  diet_kosher  diet_other  diet_vegan  ...  \\\n",
       "53901       False        False       False       False  ...   \n",
       "47657       False        False       False       False  ...   \n",
       "21804       False        False       False       False  ...   \n",
       "4686        False        False       False       False  ...   \n",
       "32855       False        False       False       False  ...   \n",
       "\n",
       "       drinks_drugs_a lot_sometimes  drinks_drugs_not at all_never  \\\n",
       "53901                         False                          False   \n",
       "47657                         False                          False   \n",
       "21804                         False                          False   \n",
       "4686                          False                          False   \n",
       "32855                         False                          False   \n",
       "\n",
       "       drinks_drugs_not at all_often  drinks_drugs_not at all_sometimes  \\\n",
       "53901                          False                              False   \n",
       "47657                          False                              False   \n",
       "21804                          False                              False   \n",
       "4686                           False                              False   \n",
       "32855                          False                              False   \n",
       "\n",
       "       smokes_drugs_no_never  smokes_drugs_no_often  \\\n",
       "53901                   True                  False   \n",
       "47657                  False                  False   \n",
       "21804                   True                  False   \n",
       "4686                   False                  False   \n",
       "32855                   True                  False   \n",
       "\n",
       "       smokes_drugs_no_sometimes  smokes_drugs_yes_never  \\\n",
       "53901                      False                   False   \n",
       "47657                       True                   False   \n",
       "21804                      False                   False   \n",
       "4686                        True                   False   \n",
       "32855                      False                   False   \n",
       "\n",
       "       smokes_drugs_yes_often  smokes_drugs_yes_sometimes  \n",
       "53901                   False                       False  \n",
       "47657                   False                       False  \n",
       "21804                   False                       False  \n",
       "4686                    False                       False  \n",
       "32855                   False                       False  \n",
       "\n",
       "[5 rows x 38 columns]"
      ]
     },
     "execution_count": 1476,
     "metadata": {},
     "output_type": "execute_result"
    }
   ],
   "source": [
    "X_cat_train.head()"
   ]
  },
  {
   "cell_type": "markdown",
   "metadata": {},
   "source": [
    "Binary Encoding for 'sex' and 'smokes'"
   ]
  },
  {
   "cell_type": "code",
   "execution_count": 1477,
   "metadata": {},
   "outputs": [],
   "source": [
    "sex_mapping = {'m': 0, 'f': 1}\n",
    "smokes_mapping = {'yes': 1, 'no': 0}\n",
    "\n",
    "\n",
    "X_cat_train['sex'] = X_cat_train['sex'].map(sex_mapping)\n",
    "X_cat_train['smokes'] = X_cat_train['smokes'].map(smokes_mapping)\n",
    "\n",
    "X_cat_val['sex'] = X_cat_val['sex'].map(sex_mapping)\n",
    "X_cat_val['smokes'] = X_cat_val['smokes'].map(smokes_mapping)\n",
    "\n",
    "X_cat_test['sex'] = X_cat_test['sex'].map(sex_mapping)\n",
    "X_cat_test['smokes'] = X_cat_test['smokes'].map(smokes_mapping)"
   ]
  },
  {
   "cell_type": "code",
   "execution_count": 1478,
   "metadata": {},
   "outputs": [
    {
     "data": {
      "text/html": [
       "<div>\n",
       "<style scoped>\n",
       "    .dataframe tbody tr th:only-of-type {\n",
       "        vertical-align: middle;\n",
       "    }\n",
       "\n",
       "    .dataframe tbody tr th {\n",
       "        vertical-align: top;\n",
       "    }\n",
       "\n",
       "    .dataframe thead th {\n",
       "        text-align: right;\n",
       "    }\n",
       "</style>\n",
       "<table border=\"1\" class=\"dataframe\">\n",
       "  <thead>\n",
       "    <tr style=\"text-align: right;\">\n",
       "      <th></th>\n",
       "      <th>age_group</th>\n",
       "      <th>height_group</th>\n",
       "      <th>sex</th>\n",
       "      <th>smokes</th>\n",
       "      <th>risky_behavior</th>\n",
       "      <th>diet_anything</th>\n",
       "      <th>diet_halal</th>\n",
       "      <th>diet_kosher</th>\n",
       "      <th>diet_other</th>\n",
       "      <th>diet_vegan</th>\n",
       "      <th>...</th>\n",
       "      <th>drinks_drugs_a lot_sometimes</th>\n",
       "      <th>drinks_drugs_not at all_never</th>\n",
       "      <th>drinks_drugs_not at all_often</th>\n",
       "      <th>drinks_drugs_not at all_sometimes</th>\n",
       "      <th>smokes_drugs_no_never</th>\n",
       "      <th>smokes_drugs_no_often</th>\n",
       "      <th>smokes_drugs_no_sometimes</th>\n",
       "      <th>smokes_drugs_yes_never</th>\n",
       "      <th>smokes_drugs_yes_often</th>\n",
       "      <th>smokes_drugs_yes_sometimes</th>\n",
       "    </tr>\n",
       "  </thead>\n",
       "  <tbody>\n",
       "    <tr>\n",
       "      <th>53901</th>\n",
       "      <td>1.0</td>\n",
       "      <td>0.0</td>\n",
       "      <td>1</td>\n",
       "      <td>0</td>\n",
       "      <td>0</td>\n",
       "      <td>True</td>\n",
       "      <td>False</td>\n",
       "      <td>False</td>\n",
       "      <td>False</td>\n",
       "      <td>False</td>\n",
       "      <td>...</td>\n",
       "      <td>False</td>\n",
       "      <td>False</td>\n",
       "      <td>False</td>\n",
       "      <td>False</td>\n",
       "      <td>True</td>\n",
       "      <td>False</td>\n",
       "      <td>False</td>\n",
       "      <td>False</td>\n",
       "      <td>False</td>\n",
       "      <td>False</td>\n",
       "    </tr>\n",
       "    <tr>\n",
       "      <th>47657</th>\n",
       "      <td>0.0</td>\n",
       "      <td>2.0</td>\n",
       "      <td>0</td>\n",
       "      <td>0</td>\n",
       "      <td>0</td>\n",
       "      <td>True</td>\n",
       "      <td>False</td>\n",
       "      <td>False</td>\n",
       "      <td>False</td>\n",
       "      <td>False</td>\n",
       "      <td>...</td>\n",
       "      <td>False</td>\n",
       "      <td>False</td>\n",
       "      <td>False</td>\n",
       "      <td>False</td>\n",
       "      <td>False</td>\n",
       "      <td>False</td>\n",
       "      <td>True</td>\n",
       "      <td>False</td>\n",
       "      <td>False</td>\n",
       "      <td>False</td>\n",
       "    </tr>\n",
       "    <tr>\n",
       "      <th>21804</th>\n",
       "      <td>2.0</td>\n",
       "      <td>2.0</td>\n",
       "      <td>0</td>\n",
       "      <td>0</td>\n",
       "      <td>0</td>\n",
       "      <td>True</td>\n",
       "      <td>False</td>\n",
       "      <td>False</td>\n",
       "      <td>False</td>\n",
       "      <td>False</td>\n",
       "      <td>...</td>\n",
       "      <td>False</td>\n",
       "      <td>False</td>\n",
       "      <td>False</td>\n",
       "      <td>False</td>\n",
       "      <td>True</td>\n",
       "      <td>False</td>\n",
       "      <td>False</td>\n",
       "      <td>False</td>\n",
       "      <td>False</td>\n",
       "      <td>False</td>\n",
       "    </tr>\n",
       "    <tr>\n",
       "      <th>4686</th>\n",
       "      <td>1.0</td>\n",
       "      <td>2.0</td>\n",
       "      <td>0</td>\n",
       "      <td>0</td>\n",
       "      <td>0</td>\n",
       "      <td>True</td>\n",
       "      <td>False</td>\n",
       "      <td>False</td>\n",
       "      <td>False</td>\n",
       "      <td>False</td>\n",
       "      <td>...</td>\n",
       "      <td>False</td>\n",
       "      <td>False</td>\n",
       "      <td>False</td>\n",
       "      <td>False</td>\n",
       "      <td>False</td>\n",
       "      <td>False</td>\n",
       "      <td>True</td>\n",
       "      <td>False</td>\n",
       "      <td>False</td>\n",
       "      <td>False</td>\n",
       "    </tr>\n",
       "    <tr>\n",
       "      <th>32855</th>\n",
       "      <td>1.0</td>\n",
       "      <td>1.0</td>\n",
       "      <td>0</td>\n",
       "      <td>0</td>\n",
       "      <td>0</td>\n",
       "      <td>True</td>\n",
       "      <td>False</td>\n",
       "      <td>False</td>\n",
       "      <td>False</td>\n",
       "      <td>False</td>\n",
       "      <td>...</td>\n",
       "      <td>False</td>\n",
       "      <td>False</td>\n",
       "      <td>False</td>\n",
       "      <td>False</td>\n",
       "      <td>True</td>\n",
       "      <td>False</td>\n",
       "      <td>False</td>\n",
       "      <td>False</td>\n",
       "      <td>False</td>\n",
       "      <td>False</td>\n",
       "    </tr>\n",
       "  </tbody>\n",
       "</table>\n",
       "<p>5 rows × 38 columns</p>\n",
       "</div>"
      ],
      "text/plain": [
       "       age_group  height_group  sex  smokes  risky_behavior  diet_anything  \\\n",
       "53901        1.0           0.0    1       0               0           True   \n",
       "47657        0.0           2.0    0       0               0           True   \n",
       "21804        2.0           2.0    0       0               0           True   \n",
       "4686         1.0           2.0    0       0               0           True   \n",
       "32855        1.0           1.0    0       0               0           True   \n",
       "\n",
       "       diet_halal  diet_kosher  diet_other  diet_vegan  ...  \\\n",
       "53901       False        False       False       False  ...   \n",
       "47657       False        False       False       False  ...   \n",
       "21804       False        False       False       False  ...   \n",
       "4686        False        False       False       False  ...   \n",
       "32855       False        False       False       False  ...   \n",
       "\n",
       "       drinks_drugs_a lot_sometimes  drinks_drugs_not at all_never  \\\n",
       "53901                         False                          False   \n",
       "47657                         False                          False   \n",
       "21804                         False                          False   \n",
       "4686                          False                          False   \n",
       "32855                         False                          False   \n",
       "\n",
       "       drinks_drugs_not at all_often  drinks_drugs_not at all_sometimes  \\\n",
       "53901                          False                              False   \n",
       "47657                          False                              False   \n",
       "21804                          False                              False   \n",
       "4686                           False                              False   \n",
       "32855                          False                              False   \n",
       "\n",
       "       smokes_drugs_no_never  smokes_drugs_no_often  \\\n",
       "53901                   True                  False   \n",
       "47657                  False                  False   \n",
       "21804                   True                  False   \n",
       "4686                   False                  False   \n",
       "32855                   True                  False   \n",
       "\n",
       "       smokes_drugs_no_sometimes  smokes_drugs_yes_never  \\\n",
       "53901                      False                   False   \n",
       "47657                       True                   False   \n",
       "21804                      False                   False   \n",
       "4686                        True                   False   \n",
       "32855                      False                   False   \n",
       "\n",
       "       smokes_drugs_yes_often  smokes_drugs_yes_sometimes  \n",
       "53901                   False                       False  \n",
       "47657                   False                       False  \n",
       "21804                   False                       False  \n",
       "4686                    False                       False  \n",
       "32855                   False                       False  \n",
       "\n",
       "[5 rows x 38 columns]"
      ]
     },
     "execution_count": 1478,
     "metadata": {},
     "output_type": "execute_result"
    }
   ],
   "source": [
    "X_cat_train.head()"
   ]
  },
  {
   "cell_type": "code",
   "execution_count": 1479,
   "metadata": {},
   "outputs": [],
   "source": [
    "#le_dict = {}\n",
    "\n",
    "#for col in X_cat_train.columns:\n",
    "    #le = LabelEncoder()\n",
    "    #X_cat_train[col] = le.fit_transform(X_cat_train[col])\n",
    "    #X_cat_val[col] = le.transform(X_cat_val[col])\n",
    "    #X_cat_test[col] = le.transform(X_cat_test[col])\n",
    "    #le_dict[col] = le #For decodification"
   ]
  },
  {
   "cell_type": "markdown",
   "metadata": {},
   "source": [
    "### Concatenation of encoded categorical + transformed numerical"
   ]
  },
  {
   "cell_type": "code",
   "execution_count": 1480,
   "metadata": {},
   "outputs": [],
   "source": [
    "X_train_scaled = pd.concat([X_num_train_scaled, X_cat_train], axis=1)\n",
    "X_val_scaled = pd.concat([X_num_val_scaled, X_cat_val], axis=1)\n",
    "X_test_scaled = pd.concat([X_num_test_scaled, X_cat_test], axis=1)"
   ]
  },
  {
   "cell_type": "markdown",
   "metadata": {},
   "source": [
    "## Exporting datasets for modeling"
   ]
  },
  {
   "cell_type": "code",
   "execution_count": 1481,
   "metadata": {},
   "outputs": [],
   "source": [
    "X_train_scaled.to_csv('X_train.csv')\n",
    "X_val_scaled.to_csv('X_val.csv')\n",
    "X_test_scaled.to_csv('X_test.csv')\n",
    "\n",
    "y_train_enc = pd.DataFrame(y_train_enc)\n",
    "y_val_enc = pd.DataFrame(y_val_enc)\n",
    "y_test_enc = pd.DataFrame(y_test_enc)\n",
    "\n",
    "y_train_enc.to_csv('y_train.csv')\n",
    "y_val_enc.to_csv('y_val.csv')\n",
    "y_test_enc.to_csv('y_test.csv')"
   ]
  },
  {
   "cell_type": "code",
   "execution_count": 1482,
   "metadata": {},
   "outputs": [
    {
     "data": {
      "text/plain": [
       "age                                  float64\n",
       "height                               float64\n",
       "age_group                            float64\n",
       "height_group                         float64\n",
       "sex                                    int64\n",
       "smokes                                 int64\n",
       "risky_behavior                         int32\n",
       "diet_anything                           bool\n",
       "diet_halal                              bool\n",
       "diet_kosher                             bool\n",
       "diet_other                              bool\n",
       "diet_vegan                              bool\n",
       "diet_vegetarian                         bool\n",
       "drinks_a little                         bool\n",
       "drinks_a lot                            bool\n",
       "drinks_not at all                       bool\n",
       "drugs_never                             bool\n",
       "drugs_often                             bool\n",
       "drugs_sometimes                         bool\n",
       "smokes_drinks_no_a little               bool\n",
       "smokes_drinks_no_a lot                  bool\n",
       "smokes_drinks_no_not at all             bool\n",
       "smokes_drinks_yes_a little              bool\n",
       "smokes_drinks_yes_a lot                 bool\n",
       "smokes_drinks_yes_not at all            bool\n",
       "drinks_drugs_a little_never             bool\n",
       "drinks_drugs_a little_often             bool\n",
       "drinks_drugs_a little_sometimes         bool\n",
       "drinks_drugs_a lot_never                bool\n",
       "drinks_drugs_a lot_often                bool\n",
       "drinks_drugs_a lot_sometimes            bool\n",
       "drinks_drugs_not at all_never           bool\n",
       "drinks_drugs_not at all_often           bool\n",
       "drinks_drugs_not at all_sometimes       bool\n",
       "smokes_drugs_no_never                   bool\n",
       "smokes_drugs_no_often                   bool\n",
       "smokes_drugs_no_sometimes               bool\n",
       "smokes_drugs_yes_never                  bool\n",
       "smokes_drugs_yes_often                  bool\n",
       "smokes_drugs_yes_sometimes              bool\n",
       "dtype: object"
      ]
     },
     "execution_count": 1482,
     "metadata": {},
     "output_type": "execute_result"
    }
   ],
   "source": [
    "X_val_scaled.dtypes"
   ]
  },
  {
   "cell_type": "code",
   "execution_count": 1483,
   "metadata": {},
   "outputs": [
    {
     "data": {
      "text/html": [
       "<div>\n",
       "<style scoped>\n",
       "    .dataframe tbody tr th:only-of-type {\n",
       "        vertical-align: middle;\n",
       "    }\n",
       "\n",
       "    .dataframe tbody tr th {\n",
       "        vertical-align: top;\n",
       "    }\n",
       "\n",
       "    .dataframe thead th {\n",
       "        text-align: right;\n",
       "    }\n",
       "</style>\n",
       "<table border=\"1\" class=\"dataframe\">\n",
       "  <thead>\n",
       "    <tr style=\"text-align: right;\">\n",
       "      <th></th>\n",
       "      <th>age</th>\n",
       "      <th>height</th>\n",
       "      <th>age_group</th>\n",
       "      <th>height_group</th>\n",
       "      <th>sex</th>\n",
       "      <th>smokes</th>\n",
       "      <th>risky_behavior</th>\n",
       "      <th>diet_anything</th>\n",
       "      <th>diet_halal</th>\n",
       "      <th>diet_kosher</th>\n",
       "      <th>...</th>\n",
       "      <th>drinks_drugs_a lot_sometimes</th>\n",
       "      <th>drinks_drugs_not at all_never</th>\n",
       "      <th>drinks_drugs_not at all_often</th>\n",
       "      <th>drinks_drugs_not at all_sometimes</th>\n",
       "      <th>smokes_drugs_no_never</th>\n",
       "      <th>smokes_drugs_no_often</th>\n",
       "      <th>smokes_drugs_no_sometimes</th>\n",
       "      <th>smokes_drugs_yes_never</th>\n",
       "      <th>smokes_drugs_yes_often</th>\n",
       "      <th>smokes_drugs_yes_sometimes</th>\n",
       "    </tr>\n",
       "  </thead>\n",
       "  <tbody>\n",
       "    <tr>\n",
       "      <th>53901</th>\n",
       "      <td>-0.146641</td>\n",
       "      <td>-1.368101</td>\n",
       "      <td>1.0</td>\n",
       "      <td>0.0</td>\n",
       "      <td>1</td>\n",
       "      <td>0</td>\n",
       "      <td>0</td>\n",
       "      <td>True</td>\n",
       "      <td>False</td>\n",
       "      <td>False</td>\n",
       "      <td>...</td>\n",
       "      <td>False</td>\n",
       "      <td>False</td>\n",
       "      <td>False</td>\n",
       "      <td>False</td>\n",
       "      <td>True</td>\n",
       "      <td>False</td>\n",
       "      <td>False</td>\n",
       "      <td>False</td>\n",
       "      <td>False</td>\n",
       "      <td>False</td>\n",
       "    </tr>\n",
       "    <tr>\n",
       "      <th>47657</th>\n",
       "      <td>-0.779637</td>\n",
       "      <td>0.692586</td>\n",
       "      <td>0.0</td>\n",
       "      <td>2.0</td>\n",
       "      <td>0</td>\n",
       "      <td>0</td>\n",
       "      <td>0</td>\n",
       "      <td>True</td>\n",
       "      <td>False</td>\n",
       "      <td>False</td>\n",
       "      <td>...</td>\n",
       "      <td>False</td>\n",
       "      <td>False</td>\n",
       "      <td>False</td>\n",
       "      <td>False</td>\n",
       "      <td>False</td>\n",
       "      <td>False</td>\n",
       "      <td>True</td>\n",
       "      <td>False</td>\n",
       "      <td>False</td>\n",
       "      <td>False</td>\n",
       "    </tr>\n",
       "    <tr>\n",
       "      <th>21804</th>\n",
       "      <td>1.857847</td>\n",
       "      <td>1.207758</td>\n",
       "      <td>2.0</td>\n",
       "      <td>2.0</td>\n",
       "      <td>0</td>\n",
       "      <td>0</td>\n",
       "      <td>0</td>\n",
       "      <td>True</td>\n",
       "      <td>False</td>\n",
       "      <td>False</td>\n",
       "      <td>...</td>\n",
       "      <td>False</td>\n",
       "      <td>False</td>\n",
       "      <td>False</td>\n",
       "      <td>False</td>\n",
       "      <td>True</td>\n",
       "      <td>False</td>\n",
       "      <td>False</td>\n",
       "      <td>False</td>\n",
       "      <td>False</td>\n",
       "      <td>False</td>\n",
       "    </tr>\n",
       "    <tr>\n",
       "      <th>4686</th>\n",
       "      <td>-0.674138</td>\n",
       "      <td>0.692586</td>\n",
       "      <td>1.0</td>\n",
       "      <td>2.0</td>\n",
       "      <td>0</td>\n",
       "      <td>0</td>\n",
       "      <td>0</td>\n",
       "      <td>True</td>\n",
       "      <td>False</td>\n",
       "      <td>False</td>\n",
       "      <td>...</td>\n",
       "      <td>False</td>\n",
       "      <td>False</td>\n",
       "      <td>False</td>\n",
       "      <td>False</td>\n",
       "      <td>False</td>\n",
       "      <td>False</td>\n",
       "      <td>True</td>\n",
       "      <td>False</td>\n",
       "      <td>False</td>\n",
       "      <td>False</td>\n",
       "    </tr>\n",
       "    <tr>\n",
       "      <th>32855</th>\n",
       "      <td>0.064358</td>\n",
       "      <td>0.177415</td>\n",
       "      <td>1.0</td>\n",
       "      <td>1.0</td>\n",
       "      <td>0</td>\n",
       "      <td>0</td>\n",
       "      <td>0</td>\n",
       "      <td>True</td>\n",
       "      <td>False</td>\n",
       "      <td>False</td>\n",
       "      <td>...</td>\n",
       "      <td>False</td>\n",
       "      <td>False</td>\n",
       "      <td>False</td>\n",
       "      <td>False</td>\n",
       "      <td>True</td>\n",
       "      <td>False</td>\n",
       "      <td>False</td>\n",
       "      <td>False</td>\n",
       "      <td>False</td>\n",
       "      <td>False</td>\n",
       "    </tr>\n",
       "  </tbody>\n",
       "</table>\n",
       "<p>5 rows × 40 columns</p>\n",
       "</div>"
      ],
      "text/plain": [
       "            age    height  age_group  height_group  sex  smokes  \\\n",
       "53901 -0.146641 -1.368101        1.0           0.0    1       0   \n",
       "47657 -0.779637  0.692586        0.0           2.0    0       0   \n",
       "21804  1.857847  1.207758        2.0           2.0    0       0   \n",
       "4686  -0.674138  0.692586        1.0           2.0    0       0   \n",
       "32855  0.064358  0.177415        1.0           1.0    0       0   \n",
       "\n",
       "       risky_behavior  diet_anything  diet_halal  diet_kosher  ...  \\\n",
       "53901               0           True       False        False  ...   \n",
       "47657               0           True       False        False  ...   \n",
       "21804               0           True       False        False  ...   \n",
       "4686                0           True       False        False  ...   \n",
       "32855               0           True       False        False  ...   \n",
       "\n",
       "       drinks_drugs_a lot_sometimes  drinks_drugs_not at all_never  \\\n",
       "53901                         False                          False   \n",
       "47657                         False                          False   \n",
       "21804                         False                          False   \n",
       "4686                          False                          False   \n",
       "32855                         False                          False   \n",
       "\n",
       "       drinks_drugs_not at all_often  drinks_drugs_not at all_sometimes  \\\n",
       "53901                          False                              False   \n",
       "47657                          False                              False   \n",
       "21804                          False                              False   \n",
       "4686                           False                              False   \n",
       "32855                          False                              False   \n",
       "\n",
       "       smokes_drugs_no_never  smokes_drugs_no_often  \\\n",
       "53901                   True                  False   \n",
       "47657                  False                  False   \n",
       "21804                   True                  False   \n",
       "4686                   False                  False   \n",
       "32855                   True                  False   \n",
       "\n",
       "       smokes_drugs_no_sometimes  smokes_drugs_yes_never  \\\n",
       "53901                      False                   False   \n",
       "47657                       True                   False   \n",
       "21804                      False                   False   \n",
       "4686                        True                   False   \n",
       "32855                      False                   False   \n",
       "\n",
       "       smokes_drugs_yes_often  smokes_drugs_yes_sometimes  \n",
       "53901                   False                       False  \n",
       "47657                   False                       False  \n",
       "21804                   False                       False  \n",
       "4686                    False                       False  \n",
       "32855                   False                       False  \n",
       "\n",
       "[5 rows x 40 columns]"
      ]
     },
     "execution_count": 1483,
     "metadata": {},
     "output_type": "execute_result"
    }
   ],
   "source": [
    "X_train_scaled.head()"
   ]
  }
 ],
 "metadata": {
  "kernelspec": {
   "display_name": "Python (Anaconda Base)",
   "language": "python",
   "name": "base"
  },
  "language_info": {
   "codemirror_mode": {
    "name": "ipython",
    "version": 3
   },
   "file_extension": ".py",
   "mimetype": "text/x-python",
   "name": "python",
   "nbconvert_exporter": "python",
   "pygments_lexer": "ipython3",
   "version": "3.11.7"
  }
 },
 "nbformat": 4,
 "nbformat_minor": 4
}
