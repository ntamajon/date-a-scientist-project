{
 "cells": [
  {
   "cell_type": "markdown",
   "metadata": {},
   "source": [
    "# Preprocessing for classification model"
   ]
  },
  {
   "cell_type": "markdown",
   "metadata": {},
   "source": [
    "In this notebook, some preprocessing will be applied to the filtered dataset. "
   ]
  },
  {
   "cell_type": "code",
   "execution_count": 267,
   "metadata": {},
   "outputs": [],
   "source": [
    "#Importing all libraries\n",
    "import pandas as pd\n",
    "import numpy as np\n",
    "import matplotlib.pyplot as plt\n",
    "import seaborn as sns\n",
    "import math\n",
    "import os\n",
    "from itertools import combinations\n",
    "from scipy.stats import chi2_contingency\n",
    "import category_encoders as ce\n",
    "from sklearn.preprocessing import StandardScaler\n"
   ]
  },
  {
   "cell_type": "code",
   "execution_count": 268,
   "metadata": {},
   "outputs": [
    {
     "data": {
      "text/html": [
       "<div>\n",
       "<style scoped>\n",
       "    .dataframe tbody tr th:only-of-type {\n",
       "        vertical-align: middle;\n",
       "    }\n",
       "\n",
       "    .dataframe tbody tr th {\n",
       "        vertical-align: top;\n",
       "    }\n",
       "\n",
       "    .dataframe thead th {\n",
       "        text-align: right;\n",
       "    }\n",
       "</style>\n",
       "<table border=\"1\" class=\"dataframe\">\n",
       "  <thead>\n",
       "    <tr style=\"text-align: right;\">\n",
       "      <th></th>\n",
       "      <th>age</th>\n",
       "      <th>body_type</th>\n",
       "      <th>diet</th>\n",
       "      <th>drinks</th>\n",
       "      <th>drugs</th>\n",
       "      <th>education</th>\n",
       "      <th>ethnicity</th>\n",
       "      <th>height</th>\n",
       "      <th>job</th>\n",
       "      <th>offspring</th>\n",
       "      <th>orientation</th>\n",
       "      <th>religion</th>\n",
       "      <th>sex</th>\n",
       "      <th>sign</th>\n",
       "      <th>smokes</th>\n",
       "      <th>status</th>\n",
       "      <th>dogs</th>\n",
       "      <th>cats</th>\n",
       "    </tr>\n",
       "  </thead>\n",
       "  <tbody>\n",
       "    <tr>\n",
       "      <th>0</th>\n",
       "      <td>22</td>\n",
       "      <td>larger</td>\n",
       "      <td>anything</td>\n",
       "      <td>a little</td>\n",
       "      <td>never</td>\n",
       "      <td>college</td>\n",
       "      <td>asian</td>\n",
       "      <td>75.0</td>\n",
       "      <td>service</td>\n",
       "      <td>no kids</td>\n",
       "      <td>straight</td>\n",
       "      <td>agnosticism</td>\n",
       "      <td>m</td>\n",
       "      <td>gemini</td>\n",
       "      <td>yes</td>\n",
       "      <td>single</td>\n",
       "      <td>likes dogs</td>\n",
       "      <td>likes cats</td>\n",
       "    </tr>\n",
       "    <tr>\n",
       "      <th>1</th>\n",
       "      <td>35</td>\n",
       "      <td>average</td>\n",
       "      <td>other</td>\n",
       "      <td>a lot</td>\n",
       "      <td>sometimes</td>\n",
       "      <td>other</td>\n",
       "      <td>white</td>\n",
       "      <td>70.0</td>\n",
       "      <td>service</td>\n",
       "      <td>no kids</td>\n",
       "      <td>straight</td>\n",
       "      <td>agnosticism</td>\n",
       "      <td>m</td>\n",
       "      <td>cancer</td>\n",
       "      <td>no</td>\n",
       "      <td>single</td>\n",
       "      <td>likes dogs</td>\n",
       "      <td>likes cats</td>\n",
       "    </tr>\n",
       "    <tr>\n",
       "      <th>2</th>\n",
       "      <td>38</td>\n",
       "      <td>thin</td>\n",
       "      <td>anything</td>\n",
       "      <td>a little</td>\n",
       "      <td>unknown</td>\n",
       "      <td>masters</td>\n",
       "      <td>unknown</td>\n",
       "      <td>68.0</td>\n",
       "      <td>unknown</td>\n",
       "      <td>unknown</td>\n",
       "      <td>straight</td>\n",
       "      <td>unknown</td>\n",
       "      <td>m</td>\n",
       "      <td>pisces</td>\n",
       "      <td>no</td>\n",
       "      <td>available</td>\n",
       "      <td>no dogs</td>\n",
       "      <td>has cats</td>\n",
       "    </tr>\n",
       "    <tr>\n",
       "      <th>3</th>\n",
       "      <td>23</td>\n",
       "      <td>thin</td>\n",
       "      <td>vegetarian</td>\n",
       "      <td>a little</td>\n",
       "      <td>unknown</td>\n",
       "      <td>college</td>\n",
       "      <td>white</td>\n",
       "      <td>71.0</td>\n",
       "      <td>student</td>\n",
       "      <td>unsure</td>\n",
       "      <td>straight</td>\n",
       "      <td>unknown</td>\n",
       "      <td>m</td>\n",
       "      <td>pisces</td>\n",
       "      <td>no</td>\n",
       "      <td>single</td>\n",
       "      <td>no dogs</td>\n",
       "      <td>likes cats</td>\n",
       "    </tr>\n",
       "    <tr>\n",
       "      <th>4</th>\n",
       "      <td>29</td>\n",
       "      <td>fit</td>\n",
       "      <td>unknown</td>\n",
       "      <td>a little</td>\n",
       "      <td>never</td>\n",
       "      <td>college</td>\n",
       "      <td>asian</td>\n",
       "      <td>66.0</td>\n",
       "      <td>creative</td>\n",
       "      <td>unknown</td>\n",
       "      <td>straight</td>\n",
       "      <td>unknown</td>\n",
       "      <td>m</td>\n",
       "      <td>aquarius</td>\n",
       "      <td>no</td>\n",
       "      <td>single</td>\n",
       "      <td>likes dogs</td>\n",
       "      <td>likes cats</td>\n",
       "    </tr>\n",
       "  </tbody>\n",
       "</table>\n",
       "</div>"
      ],
      "text/plain": [
       "   age body_type        diet    drinks      drugs education ethnicity  height  \\\n",
       "0   22    larger    anything  a little      never   college     asian    75.0   \n",
       "1   35   average       other     a lot  sometimes     other     white    70.0   \n",
       "2   38      thin    anything  a little    unknown   masters   unknown    68.0   \n",
       "3   23      thin  vegetarian  a little    unknown   college     white    71.0   \n",
       "4   29       fit     unknown  a little      never   college     asian    66.0   \n",
       "\n",
       "        job offspring orientation     religion sex      sign smokes  \\\n",
       "0   service   no kids    straight  agnosticism   m    gemini    yes   \n",
       "1   service   no kids    straight  agnosticism   m    cancer     no   \n",
       "2   unknown   unknown    straight      unknown   m    pisces     no   \n",
       "3   student    unsure    straight      unknown   m    pisces     no   \n",
       "4  creative   unknown    straight      unknown   m  aquarius     no   \n",
       "\n",
       "      status        dogs        cats  \n",
       "0     single  likes dogs  likes cats  \n",
       "1     single  likes dogs  likes cats  \n",
       "2  available     no dogs    has cats  \n",
       "3     single     no dogs  likes cats  \n",
       "4     single  likes dogs  likes cats  "
      ]
     },
     "execution_count": 268,
     "metadata": {},
     "output_type": "execute_result"
    }
   ],
   "source": [
    "#Importing dataset cleaned and filtered from EDA\n",
    "profiles = pd.read_csv('../data/profiles_eda.csv', index_col=False)\n",
    "profiles = profiles.loc[:, ~profiles.columns.str.contains('^Unnamed')]\n",
    "profiles.head()"
   ]
  },
  {
   "cell_type": "markdown",
   "metadata": {},
   "source": [
    "## Scoping the problem\n",
    "\n",
    "For the classification problem, we want to predict what body_type the user belongs to, using habits as predictors. </br>\n",
    "\n",
    "Habits:</br>\n",
    "- diet</br>\n",
    "- drinks</br>\n",
    "- drugs</br>\n",
    "- smokes</br>\n",
    "\n",
    "Also, age, sex and height will both be considered."
   ]
  },
  {
   "cell_type": "markdown",
   "metadata": {},
   "source": [
    "### Filtering the dataset.\n",
    "\n",
    "Dropping all variables out of the scope"
   ]
  },
  {
   "cell_type": "code",
   "execution_count": 269,
   "metadata": {},
   "outputs": [],
   "source": [
    "profiles = profiles.drop(['education', 'ethnicity', 'job', 'offspring', 'orientation', 'religion', 'sign', 'status', 'dogs', 'cats'], axis=1)"
   ]
  },
  {
   "cell_type": "code",
   "execution_count": 270,
   "metadata": {},
   "outputs": [
    {
     "data": {
      "text/html": [
       "<div>\n",
       "<style scoped>\n",
       "    .dataframe tbody tr th:only-of-type {\n",
       "        vertical-align: middle;\n",
       "    }\n",
       "\n",
       "    .dataframe tbody tr th {\n",
       "        vertical-align: top;\n",
       "    }\n",
       "\n",
       "    .dataframe thead th {\n",
       "        text-align: right;\n",
       "    }\n",
       "</style>\n",
       "<table border=\"1\" class=\"dataframe\">\n",
       "  <thead>\n",
       "    <tr style=\"text-align: right;\">\n",
       "      <th></th>\n",
       "      <th>age</th>\n",
       "      <th>body_type</th>\n",
       "      <th>diet</th>\n",
       "      <th>drinks</th>\n",
       "      <th>drugs</th>\n",
       "      <th>height</th>\n",
       "      <th>sex</th>\n",
       "      <th>smokes</th>\n",
       "    </tr>\n",
       "  </thead>\n",
       "  <tbody>\n",
       "    <tr>\n",
       "      <th>0</th>\n",
       "      <td>22</td>\n",
       "      <td>larger</td>\n",
       "      <td>anything</td>\n",
       "      <td>a little</td>\n",
       "      <td>never</td>\n",
       "      <td>75.0</td>\n",
       "      <td>m</td>\n",
       "      <td>yes</td>\n",
       "    </tr>\n",
       "    <tr>\n",
       "      <th>1</th>\n",
       "      <td>35</td>\n",
       "      <td>average</td>\n",
       "      <td>other</td>\n",
       "      <td>a lot</td>\n",
       "      <td>sometimes</td>\n",
       "      <td>70.0</td>\n",
       "      <td>m</td>\n",
       "      <td>no</td>\n",
       "    </tr>\n",
       "    <tr>\n",
       "      <th>2</th>\n",
       "      <td>38</td>\n",
       "      <td>thin</td>\n",
       "      <td>anything</td>\n",
       "      <td>a little</td>\n",
       "      <td>unknown</td>\n",
       "      <td>68.0</td>\n",
       "      <td>m</td>\n",
       "      <td>no</td>\n",
       "    </tr>\n",
       "    <tr>\n",
       "      <th>3</th>\n",
       "      <td>23</td>\n",
       "      <td>thin</td>\n",
       "      <td>vegetarian</td>\n",
       "      <td>a little</td>\n",
       "      <td>unknown</td>\n",
       "      <td>71.0</td>\n",
       "      <td>m</td>\n",
       "      <td>no</td>\n",
       "    </tr>\n",
       "    <tr>\n",
       "      <th>4</th>\n",
       "      <td>29</td>\n",
       "      <td>fit</td>\n",
       "      <td>unknown</td>\n",
       "      <td>a little</td>\n",
       "      <td>never</td>\n",
       "      <td>66.0</td>\n",
       "      <td>m</td>\n",
       "      <td>no</td>\n",
       "    </tr>\n",
       "  </tbody>\n",
       "</table>\n",
       "</div>"
      ],
      "text/plain": [
       "   age body_type        diet    drinks      drugs  height sex smokes\n",
       "0   22    larger    anything  a little      never    75.0   m    yes\n",
       "1   35   average       other     a lot  sometimes    70.0   m     no\n",
       "2   38      thin    anything  a little    unknown    68.0   m     no\n",
       "3   23      thin  vegetarian  a little    unknown    71.0   m     no\n",
       "4   29       fit     unknown  a little      never    66.0   m     no"
      ]
     },
     "execution_count": 270,
     "metadata": {},
     "output_type": "execute_result"
    }
   ],
   "source": [
    "profiles.head()"
   ]
  },
  {
   "cell_type": "markdown",
   "metadata": {},
   "source": [
    "### 01.- Encoding categorical variables"
   ]
  },
  {
   "cell_type": "markdown",
   "metadata": {},
   "source": [
    "Defining functions for reusable code:\n",
    "\n",
    "1) Printing proportions with and without the value 'unknown'\n",
    "2) Imputation of 'unknown' value according to the distribution of the rest of the values in the variable."
   ]
  },
  {
   "cell_type": "code",
   "execution_count": 271,
   "metadata": {},
   "outputs": [],
   "source": [
    "def pre_encode_cat(variable): #this function prints the preliminar proportions and counts before encoding\n",
    "    count = profiles[variable].value_counts()\n",
    "    print(f\"Value counts for {count}\")\n",
    "    print(f\"Proportions for {profiles[variable].value_counts(1)}\")\n",
    "    proportions = (profiles.loc[profiles[variable] != 'unknown', variable]).value_counts(1)\n",
    "    print(f\"Proportions without the value 'unknown' {proportions}\")"
   ]
  },
  {
   "cell_type": "code",
   "execution_count": 272,
   "metadata": {},
   "outputs": [],
   "source": [
    "def prop_imputer(variable):\n",
    "    proportions = (profiles.loc[profiles[variable] != 'unknown', variable]).value_counts(1)\n",
    "    # Find the indices where variable == 'unknown'\n",
    "    unknown_idx = profiles[profiles[variable] == 'unknown'].index\n",
    "    # Shuffle indices for random assignment\n",
    "    shuffled_idx = np.random.permutation(unknown_idx)\n",
    "    # Number of unknowns\n",
    "    n_unknown = len(unknown_idx)\n",
    "    # Calculate how many to assign each new value\n",
    "    n_assign = []\n",
    "    for props in range(len(proportions)):\n",
    "        n_assign.append(int(round(proportions.iloc[props] * n_unknown, 0)))\n",
    "        start = 0\n",
    "        for i in range(len(n_assign)):\n",
    "            # Assign value\n",
    "            profiles.loc[shuffled_idx[start:start + n_assign[i]], variable] = proportions.index[i]\n",
    "            start += n_assign[i]\n",
    "    return print(f\"new values: {profiles[variable].value_counts()}\")\n",
    "    "
   ]
  },
  {
   "cell_type": "markdown",
   "metadata": {},
   "source": [
    "#### Encoding 'body_type'"
   ]
  },
  {
   "cell_type": "code",
   "execution_count": 273,
   "metadata": {},
   "outputs": [
    {
     "name": "stdout",
     "output_type": "stream",
     "text": [
      "Value counts for body_type\n",
      "fit        24951\n",
      "average    14652\n",
      "thin        6488\n",
      "unknown     5293\n",
      "curvy       4933\n",
      "larger      3073\n",
      "other        553\n",
      "Name: count, dtype: int64\n",
      "Proportions for body_type\n",
      "fit        0.416245\n",
      "average    0.244432\n",
      "thin       0.108236\n",
      "unknown    0.088301\n",
      "curvy      0.082295\n",
      "larger     0.051265\n",
      "other      0.009225\n",
      "Name: proportion, dtype: float64\n",
      "Proportions without the value 'unknown' body_type\n",
      "fit        0.456560\n",
      "average    0.268106\n",
      "thin       0.118719\n",
      "curvy      0.090265\n",
      "larger     0.056231\n",
      "other      0.010119\n",
      "Name: proportion, dtype: float64\n"
     ]
    }
   ],
   "source": [
    "#checking unique variables and proportions\n",
    "pre_encode_cat(variable='body_type')"
   ]
  },
  {
   "cell_type": "markdown",
   "metadata": {},
   "source": [
    "Ordinal encoding seems to be the best option for this variable. Imputation is necessary before. </br>\n",
    "Since this will be the target variable, let's reduce categories for better prediction.</br>\n",
    "Replacements done: 'other' with 'unknown'; 'thin' with 'average', 'curvy' with 'larger'</br>\n",
    "\n",
    "We will have three classes: 'average', 'fit' and 'larger'"
   ]
  },
  {
   "cell_type": "code",
   "execution_count": 274,
   "metadata": {},
   "outputs": [],
   "source": [
    "profiles['body_type'] = profiles['body_type'].replace('other', 'unknown')\n",
    "profiles['body_type'] = profiles['body_type'].replace('thin', 'average')\n",
    "profiles['body_type'] = profiles['body_type'].replace('curvy', 'larger')\n"
   ]
  },
  {
   "cell_type": "code",
   "execution_count": 275,
   "metadata": {},
   "outputs": [
    {
     "name": "stdout",
     "output_type": "stream",
     "text": [
      "new values: body_type\n",
      "fit        27647\n",
      "average    23424\n",
      "larger      8871\n",
      "unknown        1\n",
      "Name: count, dtype: int64\n"
     ]
    }
   ],
   "source": [
    "prop_imputer(variable='body_type')\n"
   ]
  },
  {
   "cell_type": "code",
   "execution_count": 276,
   "metadata": {},
   "outputs": [],
   "source": [
    "\n",
    "profiles['body_type'] = profiles['body_type'].replace('unknown', 'average')"
   ]
  },
  {
   "cell_type": "code",
   "execution_count": 277,
   "metadata": {},
   "outputs": [
    {
     "name": "stdout",
     "output_type": "stream",
     "text": [
      "body_type\n",
      "fit        27647\n",
      "average    23425\n",
      "larger      8871\n",
      "Name: count, dtype: int64\n"
     ]
    }
   ],
   "source": [
    "print(profiles['body_type'].value_counts(0))"
   ]
  },
  {
   "cell_type": "code",
   "execution_count": 278,
   "metadata": {},
   "outputs": [],
   "source": [
    "\n",
    "body_type_mapping = {\n",
    "    'fit': 0,\n",
    "    'average': 1,\n",
    "    'larger': 2\n",
    "}\n",
    "\n",
    "profiles['body_type'] = profiles['body_type'].map(body_type_mapping)"
   ]
  },
  {
   "cell_type": "code",
   "execution_count": 279,
   "metadata": {},
   "outputs": [
    {
     "name": "stdout",
     "output_type": "stream",
     "text": [
      "body_type\n",
      "0    27647\n",
      "1    23425\n",
      "2     8871\n",
      "Name: count, dtype: int64\n"
     ]
    }
   ],
   "source": [
    "print(profiles['body_type'].value_counts())"
   ]
  },
  {
   "cell_type": "markdown",
   "metadata": {},
   "source": [
    "#### Encoding 'diet'"
   ]
  },
  {
   "cell_type": "code",
   "execution_count": 280,
   "metadata": {},
   "outputs": [
    {
     "name": "stdout",
     "output_type": "stream",
     "text": [
      "Value counts for diet\n",
      "anything      27881\n",
      "unknown       24392\n",
      "vegetarian     4986\n",
      "other          1790\n",
      "vegan           702\n",
      "kosher          115\n",
      "halal            77\n",
      "Name: count, dtype: int64\n",
      "Proportions for diet\n",
      "anything      0.465125\n",
      "unknown       0.406920\n",
      "vegetarian    0.083179\n",
      "other         0.029862\n",
      "vegan         0.011711\n",
      "kosher        0.001918\n",
      "halal         0.001285\n",
      "Name: proportion, dtype: float64\n",
      "Proportions without the value 'unknown' diet\n",
      "anything      0.784254\n",
      "vegetarian    0.140249\n",
      "other         0.050350\n",
      "vegan         0.019746\n",
      "kosher        0.003235\n",
      "halal         0.002166\n",
      "Name: proportion, dtype: float64\n"
     ]
    }
   ],
   "source": [
    "#checking unique variables and proportions\n",
    "pre_encode_cat(variable='diet')"
   ]
  },
  {
   "cell_type": "markdown",
   "metadata": {},
   "source": [
    "Imputation of the value 'unknown' with the mode 'anything'"
   ]
  },
  {
   "cell_type": "code",
   "execution_count": 281,
   "metadata": {},
   "outputs": [],
   "source": [
    "profiles['diet'] = profiles['diet'].replace('unknown', 'anything')"
   ]
  },
  {
   "cell_type": "code",
   "execution_count": 282,
   "metadata": {},
   "outputs": [],
   "source": [
    "#One-Hot encoding for the value 'diet'\n",
    "profiles = pd.get_dummies(profiles, columns=['diet'])"
   ]
  },
  {
   "cell_type": "markdown",
   "metadata": {},
   "source": [
    "#### Encoding 'drinks'"
   ]
  },
  {
   "cell_type": "code",
   "execution_count": 283,
   "metadata": {},
   "outputs": [
    {
     "name": "stdout",
     "output_type": "stream",
     "text": [
      "Value counts for drinks\n",
      "a little      47737\n",
      "a lot          5957\n",
      "not at all     3267\n",
      "unknown        2982\n",
      "Name: count, dtype: int64\n",
      "Proportions for drinks\n",
      "a little      0.796373\n",
      "a lot         0.099378\n",
      "not at all    0.054502\n",
      "unknown       0.049747\n",
      "Name: proportion, dtype: float64\n",
      "Proportions without the value 'unknown' drinks\n",
      "a little      0.838065\n",
      "a lot         0.104580\n",
      "not at all    0.057355\n",
      "Name: proportion, dtype: float64\n"
     ]
    }
   ],
   "source": [
    "#checking unique variables and proportions\n",
    "pre_encode_cat(variable='drinks')"
   ]
  },
  {
   "cell_type": "code",
   "execution_count": 284,
   "metadata": {},
   "outputs": [],
   "source": [
    "#Imputation of the value 'unknown' with the mode 'a little'\n",
    "profiles['drinks'] = profiles['drinks'].replace('unknown', 'a little')"
   ]
  },
  {
   "cell_type": "code",
   "execution_count": 285,
   "metadata": {},
   "outputs": [],
   "source": [
    "drinks_mapping = {\n",
    "    'not at all': 0,\n",
    "    'a little': 1,\n",
    "    'a lot': 2    \n",
    "}\n",
    "\n",
    "profiles['drinks'] = profiles['drinks'].map(drinks_mapping)"
   ]
  },
  {
   "cell_type": "markdown",
   "metadata": {},
   "source": [
    "Encoding 'drugs'"
   ]
  },
  {
   "cell_type": "code",
   "execution_count": 286,
   "metadata": {},
   "outputs": [
    {
     "name": "stdout",
     "output_type": "stream",
     "text": [
      "Value counts for drugs\n",
      "never        37723\n",
      "unknown      14078\n",
      "sometimes     7732\n",
      "often          410\n",
      "Name: count, dtype: int64\n",
      "Proportions for drugs\n",
      "never        0.629315\n",
      "unknown      0.234856\n",
      "sometimes    0.128989\n",
      "often        0.006840\n",
      "Name: proportion, dtype: float64\n",
      "Proportions without the value 'unknown' drugs\n",
      "never        0.822479\n",
      "sometimes    0.168582\n",
      "often        0.008939\n",
      "Name: proportion, dtype: float64\n"
     ]
    }
   ],
   "source": [
    "#checking unique values with total counts\n",
    "pre_encode_cat(variable='drugs')"
   ]
  },
  {
   "cell_type": "markdown",
   "metadata": {},
   "source": [
    "Imputation will assign to 'unknown' three different values: 'never', 'sometimes', 'often' in the same proportions they repeat along the dataset. </br>\n",
    "That is, for all 14078 values the following substitutions: </br>"
   ]
  },
  {
   "cell_type": "code",
   "execution_count": 287,
   "metadata": {},
   "outputs": [
    {
     "name": "stdout",
     "output_type": "stream",
     "text": [
      "new values: drugs\n",
      "never        49302\n",
      "sometimes    10105\n",
      "often          536\n",
      "Name: count, dtype: int64\n"
     ]
    }
   ],
   "source": [
    "prop_imputer(variable='drugs')"
   ]
  },
  {
   "cell_type": "code",
   "execution_count": 288,
   "metadata": {},
   "outputs": [],
   "source": [
    "#ordinal encoding for 'drugs'\n",
    "drugs_mapping = {\n",
    "    'never': 0,\n",
    "    'sometimes': 1,\n",
    "    'often': 2    \n",
    "}\n",
    "\n",
    "profiles['drugs'] = profiles['drugs'].map(drugs_mapping)"
   ]
  },
  {
   "cell_type": "markdown",
   "metadata": {},
   "source": [
    "Encoding the variable 'smokes' "
   ]
  },
  {
   "cell_type": "code",
   "execution_count": 289,
   "metadata": {},
   "outputs": [
    {
     "name": "stdout",
     "output_type": "stream",
     "text": [
      "Value counts for smokes\n",
      "no              46126\n",
      "yes              8307\n",
      "not answered     5510\n",
      "Name: count, dtype: int64\n",
      "Proportions for smokes\n",
      "no              0.769498\n",
      "yes             0.138582\n",
      "not answered    0.091921\n",
      "Name: proportion, dtype: float64\n",
      "Proportions without the value 'unknown' smokes\n",
      "no              0.769498\n",
      "yes             0.138582\n",
      "not answered    0.091921\n",
      "Name: proportion, dtype: float64\n"
     ]
    }
   ],
   "source": [
    "pre_encode_cat('smokes')"
   ]
  },
  {
   "cell_type": "code",
   "execution_count": 290,
   "metadata": {},
   "outputs": [],
   "source": [
    "#replacing 'not answered' with 'unknown' to make the imputer function work\n",
    "profiles['smokes'] = profiles['smokes'].replace('not answered', 'unknown')\n"
   ]
  },
  {
   "cell_type": "markdown",
   "metadata": {},
   "source": [
    "Proportional imputation"
   ]
  },
  {
   "cell_type": "code",
   "execution_count": 291,
   "metadata": {},
   "outputs": [
    {
     "name": "stdout",
     "output_type": "stream",
     "text": [
      "new values: smokes\n",
      "no     50795\n",
      "yes     9148\n",
      "Name: count, dtype: int64\n"
     ]
    }
   ],
   "source": [
    "prop_imputer('smokes')"
   ]
  },
  {
   "cell_type": "code",
   "execution_count": 292,
   "metadata": {},
   "outputs": [
    {
     "data": {
      "text/plain": [
       "0    yes\n",
       "1     no\n",
       "2     no\n",
       "3     no\n",
       "4     no\n",
       "Name: smokes, dtype: object"
      ]
     },
     "execution_count": 292,
     "metadata": {},
     "output_type": "execute_result"
    }
   ],
   "source": [
    "profiles['smokes'].head()"
   ]
  },
  {
   "cell_type": "markdown",
   "metadata": {},
   "source": [
    "Binary encoding for the variable 'smokes'"
   ]
  },
  {
   "cell_type": "code",
   "execution_count": 293,
   "metadata": {},
   "outputs": [],
   "source": [
    "profiles['smokes'] = profiles['smokes'].map({'yes': 1, 'no': 0})\n"
   ]
  },
  {
   "cell_type": "markdown",
   "metadata": {},
   "source": [
    "Encoding the variable 'sex' as binary"
   ]
  },
  {
   "cell_type": "code",
   "execution_count": 294,
   "metadata": {},
   "outputs": [],
   "source": [
    "profiles['sex'] = profiles['sex'].map({'m': 1, 'f': 0})"
   ]
  },
  {
   "cell_type": "code",
   "execution_count": 295,
   "metadata": {},
   "outputs": [
    {
     "name": "stdout",
     "output_type": "stream",
     "text": [
      "Total number of features = 13\n"
     ]
    }
   ],
   "source": [
    "print(f\"Total number of features = {len(profiles.columns)}\")"
   ]
  },
  {
   "cell_type": "markdown",
   "metadata": {},
   "source": [
    "### 02.- Transformation of numerical variables"
   ]
  },
  {
   "cell_type": "code",
   "execution_count": 296,
   "metadata": {},
   "outputs": [
    {
     "name": "stdout",
     "output_type": "stream",
     "text": [
      "       age  body_type  drinks  drugs  height  sex  smokes\n",
      "0       22          2       1      0    75.0    1       1\n",
      "1       35          1       2      1    70.0    1       0\n",
      "2       38          1       1      0    68.0    1       0\n",
      "3       23          1       1      0    71.0    1       0\n",
      "4       29          0       1      0    66.0    1       0\n",
      "...    ...        ...     ...    ...     ...  ...     ...\n",
      "59938   59          0       1      0    62.0    0       0\n",
      "59939   24          0       2      1    72.0    1       0\n",
      "59940   42          1       0      0    71.0    1       0\n",
      "59941   27          0       1      2    73.0    1       1\n",
      "59942   39          1       1      0    68.0    1       1\n",
      "\n",
      "[59943 rows x 7 columns]\n"
     ]
    }
   ],
   "source": [
    "num_var = profiles.select_dtypes(include='number')\n",
    "print(num_var)"
   ]
  },
  {
   "cell_type": "code",
   "execution_count": 297,
   "metadata": {},
   "outputs": [
    {
     "data": {
      "text/html": [
       "<div>\n",
       "<style scoped>\n",
       "    .dataframe tbody tr th:only-of-type {\n",
       "        vertical-align: middle;\n",
       "    }\n",
       "\n",
       "    .dataframe tbody tr th {\n",
       "        vertical-align: top;\n",
       "    }\n",
       "\n",
       "    .dataframe thead th {\n",
       "        text-align: right;\n",
       "    }\n",
       "</style>\n",
       "<table border=\"1\" class=\"dataframe\">\n",
       "  <thead>\n",
       "    <tr style=\"text-align: right;\">\n",
       "      <th></th>\n",
       "      <th>age</th>\n",
       "      <th>body_type</th>\n",
       "      <th>drinks</th>\n",
       "      <th>drugs</th>\n",
       "      <th>height</th>\n",
       "      <th>sex</th>\n",
       "      <th>smokes</th>\n",
       "      <th>diet_anything</th>\n",
       "      <th>diet_halal</th>\n",
       "      <th>diet_kosher</th>\n",
       "      <th>diet_other</th>\n",
       "      <th>diet_vegan</th>\n",
       "      <th>diet_vegetarian</th>\n",
       "    </tr>\n",
       "  </thead>\n",
       "  <tbody>\n",
       "    <tr>\n",
       "      <th>0</th>\n",
       "      <td>22</td>\n",
       "      <td>2</td>\n",
       "      <td>1</td>\n",
       "      <td>0</td>\n",
       "      <td>75.0</td>\n",
       "      <td>1</td>\n",
       "      <td>1</td>\n",
       "      <td>True</td>\n",
       "      <td>False</td>\n",
       "      <td>False</td>\n",
       "      <td>False</td>\n",
       "      <td>False</td>\n",
       "      <td>False</td>\n",
       "    </tr>\n",
       "    <tr>\n",
       "      <th>1</th>\n",
       "      <td>35</td>\n",
       "      <td>1</td>\n",
       "      <td>2</td>\n",
       "      <td>1</td>\n",
       "      <td>70.0</td>\n",
       "      <td>1</td>\n",
       "      <td>0</td>\n",
       "      <td>False</td>\n",
       "      <td>False</td>\n",
       "      <td>False</td>\n",
       "      <td>True</td>\n",
       "      <td>False</td>\n",
       "      <td>False</td>\n",
       "    </tr>\n",
       "    <tr>\n",
       "      <th>2</th>\n",
       "      <td>38</td>\n",
       "      <td>1</td>\n",
       "      <td>1</td>\n",
       "      <td>0</td>\n",
       "      <td>68.0</td>\n",
       "      <td>1</td>\n",
       "      <td>0</td>\n",
       "      <td>True</td>\n",
       "      <td>False</td>\n",
       "      <td>False</td>\n",
       "      <td>False</td>\n",
       "      <td>False</td>\n",
       "      <td>False</td>\n",
       "    </tr>\n",
       "    <tr>\n",
       "      <th>3</th>\n",
       "      <td>23</td>\n",
       "      <td>1</td>\n",
       "      <td>1</td>\n",
       "      <td>0</td>\n",
       "      <td>71.0</td>\n",
       "      <td>1</td>\n",
       "      <td>0</td>\n",
       "      <td>False</td>\n",
       "      <td>False</td>\n",
       "      <td>False</td>\n",
       "      <td>False</td>\n",
       "      <td>False</td>\n",
       "      <td>True</td>\n",
       "    </tr>\n",
       "    <tr>\n",
       "      <th>4</th>\n",
       "      <td>29</td>\n",
       "      <td>0</td>\n",
       "      <td>1</td>\n",
       "      <td>0</td>\n",
       "      <td>66.0</td>\n",
       "      <td>1</td>\n",
       "      <td>0</td>\n",
       "      <td>True</td>\n",
       "      <td>False</td>\n",
       "      <td>False</td>\n",
       "      <td>False</td>\n",
       "      <td>False</td>\n",
       "      <td>False</td>\n",
       "    </tr>\n",
       "  </tbody>\n",
       "</table>\n",
       "</div>"
      ],
      "text/plain": [
       "   age  body_type  drinks  drugs  height  sex  smokes  diet_anything  \\\n",
       "0   22          2       1      0    75.0    1       1           True   \n",
       "1   35          1       2      1    70.0    1       0          False   \n",
       "2   38          1       1      0    68.0    1       0           True   \n",
       "3   23          1       1      0    71.0    1       0          False   \n",
       "4   29          0       1      0    66.0    1       0           True   \n",
       "\n",
       "   diet_halal  diet_kosher  diet_other  diet_vegan  diet_vegetarian  \n",
       "0       False        False       False       False            False  \n",
       "1       False        False        True       False            False  \n",
       "2       False        False       False       False            False  \n",
       "3       False        False       False       False             True  \n",
       "4       False        False       False       False            False  "
      ]
     },
     "execution_count": 297,
     "metadata": {},
     "output_type": "execute_result"
    }
   ],
   "source": [
    "profiles.head()"
   ]
  },
  {
   "cell_type": "markdown",
   "metadata": {},
   "source": [
    "### 03- Exporting the dataset for modeling"
   ]
  },
  {
   "cell_type": "code",
   "execution_count": 298,
   "metadata": {},
   "outputs": [],
   "source": [
    "profiles.to_csv('profiles_processed.csv')"
   ]
  }
 ],
 "metadata": {
  "kernelspec": {
   "display_name": "base",
   "language": "python",
   "name": "python3"
  },
  "language_info": {
   "codemirror_mode": {
    "name": "ipython",
    "version": 3
   },
   "file_extension": ".py",
   "mimetype": "text/x-python",
   "name": "python",
   "nbconvert_exporter": "python",
   "pygments_lexer": "ipython3",
   "version": "3.11.7"
  }
 },
 "nbformat": 4,
 "nbformat_minor": 4
}
