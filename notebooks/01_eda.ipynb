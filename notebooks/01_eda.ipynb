{
 "cells": [
  {
   "cell_type": "markdown",
   "metadata": {},
   "source": [
    "# 01.- Exploratory Data Analysis (EDA)"
   ]
  },
  {
   "cell_type": "code",
   "execution_count": 1,
   "metadata": {},
   "outputs": [],
   "source": [
    "#Importing all libraries\n",
    "import pandas as pd\n",
    "import numpy as np\n",
    "import matplotlib.pyplot as plt\n",
    "import seaborn as sns\n",
    "import math\n",
    "from itertools import combinations\n",
    "from scipy.stats import chi2_contingency"
   ]
  },
  {
   "cell_type": "code",
   "execution_count": 2,
   "metadata": {},
   "outputs": [],
   "source": [
    "# Importing the dataset *'profiles.csv'*\n",
    "profiles = pd.read_csv(r\"C:\\Users\\ntama\\Documentos\\Data Science\\Codecademy\\projects\\Data for dating app\\profiles.csv\")"
   ]
  },
  {
   "cell_type": "markdown",
   "metadata": {},
   "source": [
    "#### Description of features:</br>\n",
    "\n",
    "- body_type </br>\n",
    "- diet</br>\n",
    "- drinks</br>\n",
    "- drugs</br>\n",
    "- education</br>\n",
    "- ethnicity</br>\n",
    "- height</br>\n",
    "- income</br>\n",
    "- job</br>\n",
    "- offspring</br>\n",
    "- orientation</br>\n",
    "- pets</br>\n",
    "- religion</br>\n",
    "- sex</br>\n",
    "- sign</br>\n",
    "- smokes</br>\n",
    "- speaks</br>\n",
    "- status</br>\n",
    "\n",
    "And a set of open short-answer responses to :</br>\n",
    "\n",
    "- essay0 - My self-summary</br>\n",
    "- essay1 - What I’m doing with my life</br>\n",
    "- essay2 - I’m really good at…</br>\n",
    "- essay3 - The first thing people usually notice about me…</br>\n",
    "- essay4 - Favorite books, movies, show, music, and food</br>\n",
    "- essay5 - The six things I could never do without</br>\n",
    "- essay6 - I spend a lot of time thinking about…</br>\n",
    "- essay7 - On a typical Friday night I am…</br>\n",
    "- essay8 - The most private thing I am willing to admit</br>\n",
    "- essay9 - You should message me if…"
   ]
  },
  {
   "cell_type": "code",
   "execution_count": 3,
   "metadata": {},
   "outputs": [
    {
     "data": {
      "text/html": [
       "<div>\n",
       "<style scoped>\n",
       "    .dataframe tbody tr th:only-of-type {\n",
       "        vertical-align: middle;\n",
       "    }\n",
       "\n",
       "    .dataframe tbody tr th {\n",
       "        vertical-align: top;\n",
       "    }\n",
       "\n",
       "    .dataframe thead th {\n",
       "        text-align: right;\n",
       "    }\n",
       "</style>\n",
       "<table border=\"1\" class=\"dataframe\">\n",
       "  <thead>\n",
       "    <tr style=\"text-align: right;\">\n",
       "      <th></th>\n",
       "      <th>age</th>\n",
       "      <th>body_type</th>\n",
       "      <th>diet</th>\n",
       "      <th>drinks</th>\n",
       "      <th>drugs</th>\n",
       "      <th>education</th>\n",
       "      <th>essay0</th>\n",
       "      <th>essay1</th>\n",
       "      <th>essay2</th>\n",
       "      <th>essay3</th>\n",
       "      <th>...</th>\n",
       "      <th>location</th>\n",
       "      <th>offspring</th>\n",
       "      <th>orientation</th>\n",
       "      <th>pets</th>\n",
       "      <th>religion</th>\n",
       "      <th>sex</th>\n",
       "      <th>sign</th>\n",
       "      <th>smokes</th>\n",
       "      <th>speaks</th>\n",
       "      <th>status</th>\n",
       "    </tr>\n",
       "  </thead>\n",
       "  <tbody>\n",
       "    <tr>\n",
       "      <th>0</th>\n",
       "      <td>22</td>\n",
       "      <td>a little extra</td>\n",
       "      <td>strictly anything</td>\n",
       "      <td>socially</td>\n",
       "      <td>never</td>\n",
       "      <td>working on college/university</td>\n",
       "      <td>about me:&lt;br /&gt;\\n&lt;br /&gt;\\ni would love to think...</td>\n",
       "      <td>currently working as an international agent fo...</td>\n",
       "      <td>making people laugh.&lt;br /&gt;\\nranting about a go...</td>\n",
       "      <td>the way i look. i am a six foot half asian, ha...</td>\n",
       "      <td>...</td>\n",
       "      <td>south san francisco, california</td>\n",
       "      <td>doesn&amp;rsquo;t have kids, but might want them</td>\n",
       "      <td>straight</td>\n",
       "      <td>likes dogs and likes cats</td>\n",
       "      <td>agnosticism and very serious about it</td>\n",
       "      <td>m</td>\n",
       "      <td>gemini</td>\n",
       "      <td>sometimes</td>\n",
       "      <td>english</td>\n",
       "      <td>single</td>\n",
       "    </tr>\n",
       "    <tr>\n",
       "      <th>1</th>\n",
       "      <td>35</td>\n",
       "      <td>average</td>\n",
       "      <td>mostly other</td>\n",
       "      <td>often</td>\n",
       "      <td>sometimes</td>\n",
       "      <td>working on space camp</td>\n",
       "      <td>i am a chef: this is what that means.&lt;br /&gt;\\n1...</td>\n",
       "      <td>dedicating everyday to being an unbelievable b...</td>\n",
       "      <td>being silly. having ridiculous amonts of fun w...</td>\n",
       "      <td>NaN</td>\n",
       "      <td>...</td>\n",
       "      <td>oakland, california</td>\n",
       "      <td>doesn&amp;rsquo;t have kids, but might want them</td>\n",
       "      <td>straight</td>\n",
       "      <td>likes dogs and likes cats</td>\n",
       "      <td>agnosticism but not too serious about it</td>\n",
       "      <td>m</td>\n",
       "      <td>cancer</td>\n",
       "      <td>no</td>\n",
       "      <td>english (fluently), spanish (poorly), french (...</td>\n",
       "      <td>single</td>\n",
       "    </tr>\n",
       "    <tr>\n",
       "      <th>2</th>\n",
       "      <td>38</td>\n",
       "      <td>thin</td>\n",
       "      <td>anything</td>\n",
       "      <td>socially</td>\n",
       "      <td>NaN</td>\n",
       "      <td>graduated from masters program</td>\n",
       "      <td>i'm not ashamed of much, but writing public te...</td>\n",
       "      <td>i make nerdy software for musicians, artists, ...</td>\n",
       "      <td>improvising in different contexts. alternating...</td>\n",
       "      <td>my large jaw and large glasses are the physica...</td>\n",
       "      <td>...</td>\n",
       "      <td>san francisco, california</td>\n",
       "      <td>NaN</td>\n",
       "      <td>straight</td>\n",
       "      <td>has cats</td>\n",
       "      <td>NaN</td>\n",
       "      <td>m</td>\n",
       "      <td>pisces but it doesn&amp;rsquo;t matter</td>\n",
       "      <td>no</td>\n",
       "      <td>english, french, c++</td>\n",
       "      <td>available</td>\n",
       "    </tr>\n",
       "    <tr>\n",
       "      <th>3</th>\n",
       "      <td>23</td>\n",
       "      <td>thin</td>\n",
       "      <td>vegetarian</td>\n",
       "      <td>socially</td>\n",
       "      <td>NaN</td>\n",
       "      <td>working on college/university</td>\n",
       "      <td>i work in a library and go to school. . .</td>\n",
       "      <td>reading things written by old dead people</td>\n",
       "      <td>playing synthesizers and organizing books acco...</td>\n",
       "      <td>socially awkward but i do my best</td>\n",
       "      <td>...</td>\n",
       "      <td>berkeley, california</td>\n",
       "      <td>doesn&amp;rsquo;t want kids</td>\n",
       "      <td>straight</td>\n",
       "      <td>likes cats</td>\n",
       "      <td>NaN</td>\n",
       "      <td>m</td>\n",
       "      <td>pisces</td>\n",
       "      <td>no</td>\n",
       "      <td>english, german (poorly)</td>\n",
       "      <td>single</td>\n",
       "    </tr>\n",
       "    <tr>\n",
       "      <th>4</th>\n",
       "      <td>29</td>\n",
       "      <td>athletic</td>\n",
       "      <td>NaN</td>\n",
       "      <td>socially</td>\n",
       "      <td>never</td>\n",
       "      <td>graduated from college/university</td>\n",
       "      <td>hey how's it going? currently vague on the pro...</td>\n",
       "      <td>work work work work + play</td>\n",
       "      <td>creating imagery to look at:&lt;br /&gt;\\nhttp://bag...</td>\n",
       "      <td>i smile a lot and my inquisitive nature</td>\n",
       "      <td>...</td>\n",
       "      <td>san francisco, california</td>\n",
       "      <td>NaN</td>\n",
       "      <td>straight</td>\n",
       "      <td>likes dogs and likes cats</td>\n",
       "      <td>NaN</td>\n",
       "      <td>m</td>\n",
       "      <td>aquarius</td>\n",
       "      <td>no</td>\n",
       "      <td>english</td>\n",
       "      <td>single</td>\n",
       "    </tr>\n",
       "  </tbody>\n",
       "</table>\n",
       "<p>5 rows × 31 columns</p>\n",
       "</div>"
      ],
      "text/plain": [
       "   age       body_type               diet    drinks      drugs  \\\n",
       "0   22  a little extra  strictly anything  socially      never   \n",
       "1   35         average       mostly other     often  sometimes   \n",
       "2   38            thin           anything  socially        NaN   \n",
       "3   23            thin         vegetarian  socially        NaN   \n",
       "4   29        athletic                NaN  socially      never   \n",
       "\n",
       "                           education  \\\n",
       "0      working on college/university   \n",
       "1              working on space camp   \n",
       "2     graduated from masters program   \n",
       "3      working on college/university   \n",
       "4  graduated from college/university   \n",
       "\n",
       "                                              essay0  \\\n",
       "0  about me:<br />\\n<br />\\ni would love to think...   \n",
       "1  i am a chef: this is what that means.<br />\\n1...   \n",
       "2  i'm not ashamed of much, but writing public te...   \n",
       "3          i work in a library and go to school. . .   \n",
       "4  hey how's it going? currently vague on the pro...   \n",
       "\n",
       "                                              essay1  \\\n",
       "0  currently working as an international agent fo...   \n",
       "1  dedicating everyday to being an unbelievable b...   \n",
       "2  i make nerdy software for musicians, artists, ...   \n",
       "3          reading things written by old dead people   \n",
       "4                         work work work work + play   \n",
       "\n",
       "                                              essay2  \\\n",
       "0  making people laugh.<br />\\nranting about a go...   \n",
       "1  being silly. having ridiculous amonts of fun w...   \n",
       "2  improvising in different contexts. alternating...   \n",
       "3  playing synthesizers and organizing books acco...   \n",
       "4  creating imagery to look at:<br />\\nhttp://bag...   \n",
       "\n",
       "                                              essay3  ...  \\\n",
       "0  the way i look. i am a six foot half asian, ha...  ...   \n",
       "1                                                NaN  ...   \n",
       "2  my large jaw and large glasses are the physica...  ...   \n",
       "3                  socially awkward but i do my best  ...   \n",
       "4            i smile a lot and my inquisitive nature  ...   \n",
       "\n",
       "                          location  \\\n",
       "0  south san francisco, california   \n",
       "1              oakland, california   \n",
       "2        san francisco, california   \n",
       "3             berkeley, california   \n",
       "4        san francisco, california   \n",
       "\n",
       "                                      offspring orientation  \\\n",
       "0  doesn&rsquo;t have kids, but might want them    straight   \n",
       "1  doesn&rsquo;t have kids, but might want them    straight   \n",
       "2                                           NaN    straight   \n",
       "3                       doesn&rsquo;t want kids    straight   \n",
       "4                                           NaN    straight   \n",
       "\n",
       "                        pets                                  religion sex  \\\n",
       "0  likes dogs and likes cats     agnosticism and very serious about it   m   \n",
       "1  likes dogs and likes cats  agnosticism but not too serious about it   m   \n",
       "2                   has cats                                       NaN   m   \n",
       "3                 likes cats                                       NaN   m   \n",
       "4  likes dogs and likes cats                                       NaN   m   \n",
       "\n",
       "                                 sign     smokes  \\\n",
       "0                              gemini  sometimes   \n",
       "1                              cancer         no   \n",
       "2  pisces but it doesn&rsquo;t matter         no   \n",
       "3                              pisces         no   \n",
       "4                            aquarius         no   \n",
       "\n",
       "                                              speaks     status  \n",
       "0                                            english     single  \n",
       "1  english (fluently), spanish (poorly), french (...     single  \n",
       "2                               english, french, c++  available  \n",
       "3                           english, german (poorly)     single  \n",
       "4                                            english     single  \n",
       "\n",
       "[5 rows x 31 columns]"
      ]
     },
     "execution_count": 3,
     "metadata": {},
     "output_type": "execute_result"
    }
   ],
   "source": [
    "profiles.head()"
   ]
  },
  {
   "cell_type": "markdown",
   "metadata": {},
   "source": [
    "We are not working with essay-type features in our project scope, for that reason, 'essay0' to 'essay9' will be removed from the dataset"
   ]
  },
  {
   "cell_type": "code",
   "execution_count": 4,
   "metadata": {},
   "outputs": [],
   "source": [
    "for i in range(10):\n",
    "    col = f'essay{i}'\n",
    "    if col in profiles.columns:\n",
    "        profiles.drop(columns=col, inplace=True)\n"
   ]
  },
  {
   "cell_type": "markdown",
   "metadata": {},
   "source": [
    "### 02.- Checking missingness in the dataset"
   ]
  },
  {
   "cell_type": "code",
   "execution_count": 5,
   "metadata": {},
   "outputs": [
    {
     "name": "stdout",
     "output_type": "stream",
     "text": [
      "<class 'pandas.core.frame.DataFrame'>\n",
      "RangeIndex: 59946 entries, 0 to 59945\n",
      "Data columns (total 21 columns):\n",
      " #   Column       Non-Null Count  Dtype  \n",
      "---  ------       --------------  -----  \n",
      " 0   age          59946 non-null  int64  \n",
      " 1   body_type    54650 non-null  object \n",
      " 2   diet         35551 non-null  object \n",
      " 3   drinks       56961 non-null  object \n",
      " 4   drugs        45866 non-null  object \n",
      " 5   education    53318 non-null  object \n",
      " 6   ethnicity    54266 non-null  object \n",
      " 7   height       59943 non-null  float64\n",
      " 8   income       59946 non-null  int64  \n",
      " 9   job          51748 non-null  object \n",
      " 10  last_online  59946 non-null  object \n",
      " 11  location     59946 non-null  object \n",
      " 12  offspring    24385 non-null  object \n",
      " 13  orientation  59946 non-null  object \n",
      " 14  pets         40025 non-null  object \n",
      " 15  religion     39720 non-null  object \n",
      " 16  sex          59946 non-null  object \n",
      " 17  sign         48890 non-null  object \n",
      " 18  smokes       54434 non-null  object \n",
      " 19  speaks       59896 non-null  object \n",
      " 20  status       59946 non-null  object \n",
      "dtypes: float64(1), int64(2), object(18)\n",
      "memory usage: 9.6+ MB\n"
     ]
    }
   ],
   "source": [
    "profiles.info()\n"
   ]
  },
  {
   "cell_type": "code",
   "execution_count": 6,
   "metadata": {},
   "outputs": [
    {
     "name": "stdout",
     "output_type": "stream",
     "text": [
      "Missing values for age:\n",
      "0\n",
      "0.0%\n",
      "Missing values for body_type:\n",
      "5296\n",
      "9.0%\n",
      "Missing values for diet:\n",
      "24395\n",
      "41.0%\n",
      "Missing values for drinks:\n",
      "2985\n",
      "5.0%\n",
      "Missing values for drugs:\n",
      "14080\n",
      "23.0%\n",
      "Missing values for education:\n",
      "6628\n",
      "11.0%\n",
      "Missing values for ethnicity:\n",
      "5680\n",
      "9.0%\n",
      "Missing values for height:\n",
      "3\n",
      "0.0%\n",
      "Missing values for income:\n",
      "0\n",
      "0.0%\n",
      "Missing values for job:\n",
      "8198\n",
      "14.000000000000002%\n",
      "Missing values for last_online:\n",
      "0\n",
      "0.0%\n",
      "Missing values for location:\n",
      "0\n",
      "0.0%\n",
      "Missing values for offspring:\n",
      "35561\n",
      "59.0%\n",
      "Missing values for orientation:\n",
      "0\n",
      "0.0%\n",
      "Missing values for pets:\n",
      "19921\n",
      "33.0%\n",
      "Missing values for religion:\n",
      "20226\n",
      "34.0%\n",
      "Missing values for sex:\n",
      "0\n",
      "0.0%\n",
      "Missing values for sign:\n",
      "11056\n",
      "18.0%\n",
      "Missing values for smokes:\n",
      "5512\n",
      "9.0%\n",
      "Missing values for speaks:\n",
      "50\n",
      "0.0%\n",
      "Missing values for status:\n",
      "0\n",
      "0.0%\n"
     ]
    }
   ],
   "source": [
    "for column in profiles.columns:\n",
    "    print(f\"Missing values for {column}:\")\n",
    "    missing = np.sum(profiles[column].isna())\n",
    "    total = len(profiles)\n",
    "    print(missing)\n",
    "    print(f\"{(round((missing / total),2))*100}%\")"
   ]
  },
  {
   "cell_type": "code",
   "execution_count": 7,
   "metadata": {},
   "outputs": [
    {
     "name": "stdout",
     "output_type": "stream",
     "text": [
      "Index(['age', 'body_type', 'diet', 'drinks', 'drugs', 'education', 'ethnicity',\n",
      "       'height', 'income', 'job', 'last_online', 'location', 'offspring',\n",
      "       'orientation', 'pets', 'religion', 'sex', 'sign', 'smokes', 'speaks',\n",
      "       'status'],\n",
      "      dtype='object')\n"
     ]
    }
   ],
   "source": [
    "print(profiles.columns)"
   ]
  },
  {
   "cell_type": "markdown",
   "metadata": {},
   "source": [
    "### 03.- Description of main metrics for numerical values"
   ]
  },
  {
   "cell_type": "code",
   "execution_count": 8,
   "metadata": {},
   "outputs": [
    {
     "name": "stdout",
     "output_type": "stream",
     "text": [
      "                age        height          income\n",
      "count  59946.000000  59943.000000    59946.000000\n",
      "mean      32.340290     68.295281    20033.222534\n",
      "std        9.452779      3.994803    97346.192104\n",
      "min       18.000000      1.000000       -1.000000\n",
      "25%       26.000000     66.000000       -1.000000\n",
      "50%       30.000000     68.000000       -1.000000\n",
      "75%       37.000000     71.000000       -1.000000\n",
      "max      110.000000     95.000000  1000000.000000\n"
     ]
    }
   ],
   "source": [
    "print(profiles.describe())"
   ]
  },
  {
   "cell_type": "markdown",
   "metadata": {},
   "source": [
    "### 04.- Univariate and bivariate analysis"
   ]
  },
  {
   "cell_type": "markdown",
   "metadata": {},
   "source": [
    "#### 04.1 - Distribution of age among the dataset"
   ]
  },
  {
   "cell_type": "code",
   "execution_count": 9,
   "metadata": {},
   "outputs": [
    {
     "name": "stderr",
     "output_type": "stream",
     "text": [
      "c:\\Users\\ntama\\anaconda3\\Lib\\site-packages\\seaborn\\_oldcore.py:1119: FutureWarning: use_inf_as_na option is deprecated and will be removed in a future version. Convert inf values to NaN before operating instead.\n",
      "  with pd.option_context('mode.use_inf_as_na', True):\n"
     ]
    },
    {
     "data": {
      "image/png": "[encoded data removed]",
      "text/plain": [
       "<Figure size 640x480 with 1 Axes>"
      ]
     },
     "metadata": {},
     "output_type": "display_data"
    }
   ],
   "source": [
    "#plotting the distribution, age has no missing values\n",
    "sns.histplot(data=profiles, x='age')\n",
    "plt.xlabel('Age')\n",
    "plt.title('Distribution of Age among population')\n",
    "plt.show()\n"
   ]
  },
  {
   "cell_type": "code",
   "execution_count": 10,
   "metadata": {},
   "outputs": [
    {
     "name": "stdout",
     "output_type": "stream",
     "text": [
      "Table 1: Frequency table for age.\n",
      "age\n",
      "[25, 30)      17818\n",
      "[30, 35)      12579\n",
      "[20, 25)      10003\n",
      "[35, 40)       7267\n",
      "[40, 45)       4648\n",
      "[45, 50)       2690\n",
      "[50, 55)       1650\n",
      "[55, 60)       1210\n",
      "[15, 20)        920\n",
      "[60, 65)        789\n",
      "[65, 70)        370\n",
      "[105, 110)        1\n",
      "[110, 115)        1\n",
      "[5, 10)           0\n",
      "[70, 75)          0\n",
      "[75, 80)          0\n",
      "[80, 85)          0\n",
      "[85, 90)          0\n",
      "[90, 95)          0\n",
      "[95, 100)         0\n",
      "[100, 105)        0\n",
      "[10, 15)          0\n",
      "[0, 5)            0\n",
      "Name: count, dtype: int64\n"
     ]
    }
   ],
   "source": [
    "#Binning our data to check the counts in 10-year intervals\n",
    "print('Table 1: Frequency table for age.')\n",
    "\n",
    "age_list = list(range(0,120,5))\n",
    "binned_age = pd.cut(profiles['age'], age_list, right=False)\n",
    "print(binned_age.value_counts())"
   ]
  },
  {
   "cell_type": "markdown",
   "metadata": {},
   "source": [
    "There are two values with over 100 year-old"
   ]
  },
  {
   "cell_type": "code",
   "execution_count": 11,
   "metadata": {},
   "outputs": [
    {
     "name": "stdout",
     "output_type": "stream",
     "text": [
      "2\n"
     ]
    }
   ],
   "source": [
    "print(np.sum(profiles['age'] > 100))"
   ]
  },
  {
   "cell_type": "code",
   "execution_count": 12,
   "metadata": {},
   "outputs": [
    {
     "name": "stdout",
     "output_type": "stream",
     "text": [
      "age\n",
      "[25, 30)    0.297234\n",
      "[30, 35)    0.209839\n",
      "[20, 25)    0.166867\n",
      "Name: count, dtype: float64\n"
     ]
    }
   ],
   "source": [
    "#calculating proportions for top 3 age groups\n",
    "age_counts = binned_age.value_counts().sort_index()\n",
    "\n",
    "age_proportions = age_counts / age_counts.sum()\n",
    "\n",
    "top_3_proportions = age_proportions.sort_values(ascending=False).head(3)\n",
    "\n",
    "print(top_3_proportions)\n"
   ]
  },
  {
   "cell_type": "markdown",
   "metadata": {},
   "source": [
    "##### Q2: Grouping age groups by their income"
   ]
  },
  {
   "cell_type": "code",
   "execution_count": 13,
   "metadata": {},
   "outputs": [
    {
     "name": "stdout",
     "output_type": "stream",
     "text": [
      "Correlation between age and income: -0.009\n"
     ]
    }
   ],
   "source": [
    "filtered = profiles[profiles['income'] > 0]\n",
    "correlation = filtered['age'].corr(filtered['income'])\n",
    "print(f\"Correlation between age and income: {correlation:.3f}\")"
   ]
  },
  {
   "cell_type": "markdown",
   "metadata": {},
   "source": [
    "No correlation is observed between age and income"
   ]
  },
  {
   "cell_type": "markdown",
   "metadata": {},
   "source": [
    "#### 04.2 - Distribution of height among the dataset"
   ]
  },
  {
   "cell_type": "code",
   "execution_count": 14,
   "metadata": {},
   "outputs": [],
   "source": [
    "profiles['height'] = pd.to_numeric(profiles['height'])"
   ]
  },
  {
   "cell_type": "markdown",
   "metadata": {},
   "source": [
    "There is an invalid object at position 36428 for the variable 'height'"
   ]
  },
  {
   "cell_type": "code",
   "execution_count": 15,
   "metadata": {},
   "outputs": [
    {
     "name": "stdout",
     "output_type": "stream",
     "text": [
      "nan\n"
     ]
    }
   ],
   "source": [
    "print(profiles.iloc[36428]['height'])"
   ]
  },
  {
   "cell_type": "code",
   "execution_count": 16,
   "metadata": {},
   "outputs": [],
   "source": [
    "profiles['height'] = profiles['height'].fillna(profiles['height'].mean())"
   ]
  },
  {
   "cell_type": "code",
   "execution_count": 17,
   "metadata": {},
   "outputs": [
    {
     "name": "stderr",
     "output_type": "stream",
     "text": [
      "c:\\Users\\ntama\\anaconda3\\Lib\\site-packages\\seaborn\\_oldcore.py:1119: FutureWarning: use_inf_as_na option is deprecated and will be removed in a future version. Convert inf values to NaN before operating instead.\n",
      "  with pd.option_context('mode.use_inf_as_na', True):\n"
     ]
    },
    {
     "data": {
      "image/png": "[encoded data removed]",
      "text/plain": [
       "<Figure size 640x480 with 1 Axes>"
      ]
     },
     "metadata": {},
     "output_type": "display_data"
    },
    {
     "data": {
      "image/png": "[encoded data removed]",
      "text/plain": [
       "<Figure size 640x480 with 1 Axes>"
      ]
     },
     "metadata": {},
     "output_type": "display_data"
    }
   ],
   "source": [
    "sns.histplot(data=profiles, x='height')\n",
    "plt.xlabel('Height')\n",
    "plt.title('Distribution of height among population')\n",
    "plt.axis()\n",
    "plt.tight_layout()\n",
    "plt.show()\n",
    "\n",
    "plt.clf()\n",
    "sns.boxplot(data=profiles, y='height')\n",
    "plt.show()\n"
   ]
  },
  {
   "cell_type": "markdown",
   "metadata": {},
   "source": [
    "#### 04.3 - Distribution and proportion of all different sexual orientations\n"
   ]
  },
  {
   "cell_type": "code",
   "execution_count": 18,
   "metadata": {},
   "outputs": [
    {
     "data": {
      "image/png": "[encoded data removed]",
      "text/plain": [
       "<Figure size 640x480 with 1 Axes>"
      ]
     },
     "metadata": {},
     "output_type": "display_data"
    }
   ],
   "source": [
    "#plotting the countplot for sexual orientation\n",
    "ax = sns.countplot(x='orientation', data=profiles, palette='colorblind', hue='orientation')\n",
    "total = profiles['orientation'].count()\n",
    "\n",
    "for p in ax.patches:\n",
    "    height = p.get_height()\n",
    "    proportion = height / total \n",
    "    ax.text(p.get_x() + p.get_width() / 2, height + 50,  \n",
    "            f'{proportion:.2%}',  \n",
    "            ha='center', va='bottom', fontsize=12)\n",
    "\n",
    "plt.title('Proportions of Sexual Orientations')\n",
    "plt.show()"
   ]
  },
  {
   "cell_type": "markdown",
   "metadata": {},
   "source": [
    "#### 04.4 - Relationship between ethnicity and income"
   ]
  },
  {
   "cell_type": "code",
   "execution_count": 19,
   "metadata": {},
   "outputs": [
    {
     "name": "stdout",
     "output_type": "stream",
     "text": [
      "ethnicity\n",
      "False    54266\n",
      "True      5680\n",
      "Name: count, dtype: int64\n",
      "age\n",
      "18     0.100324\n",
      "19     0.101473\n",
      "20     0.089192\n",
      "21     0.095944\n",
      "22     0.088935\n",
      "23     0.107639\n",
      "24     0.089759\n",
      "25     0.099122\n",
      "26     0.096402\n",
      "27     0.108277\n",
      "28     0.107452\n",
      "29     0.105615\n",
      "30     0.109876\n",
      "31     0.102742\n",
      "32     0.107074\n",
      "33     0.102901\n",
      "34     0.097792\n",
      "35     0.095157\n",
      "36     0.073910\n",
      "37     0.092502\n",
      "38     0.083459\n",
      "39     0.091297\n",
      "40     0.080583\n",
      "41     0.075510\n",
      "42     0.091418\n",
      "43     0.081585\n",
      "44     0.093220\n",
      "45     0.065319\n",
      "46     0.070934\n",
      "47     0.094518\n",
      "48     0.056133\n",
      "49     0.061002\n",
      "50     0.059497\n",
      "51     0.062857\n",
      "52     0.069767\n",
      "53     0.107143\n",
      "54     0.044944\n",
      "55     0.094340\n",
      "56     0.062731\n",
      "57     0.050781\n",
      "58     0.050761\n",
      "59     0.076923\n",
      "60     0.076923\n",
      "61     0.056818\n",
      "62     0.047904\n",
      "63     0.050725\n",
      "64     0.079646\n",
      "65     0.064220\n",
      "66     0.057143\n",
      "67     0.060606\n",
      "68     0.000000\n",
      "69     0.161290\n",
      "109    1.000000\n",
      "110    1.000000\n",
      "Name: ethnicity, dtype: float64\n",
      "orientation\n",
      "bisexual    0.133357\n",
      "gay         0.081105\n",
      "straight    0.094156\n",
      "Name: ethnicity, dtype: float64\n",
      "religion\n",
      "agnosticism                                   0.092511\n",
      "agnosticism and laughing about it             0.078526\n",
      "agnosticism and somewhat serious about it     0.095016\n",
      "agnosticism and very serious about it         0.082803\n",
      "agnosticism but not too serious about it      0.051593\n",
      "atheism                                       0.093793\n",
      "atheism and laughing about it                 0.085824\n",
      "atheism and somewhat serious about it         0.051887\n",
      "atheism and very serious about it             0.071930\n",
      "atheism but not too serious about it          0.062215\n",
      "buddhism                                      0.096774\n",
      "buddhism and laughing about it                0.098712\n",
      "buddhism and somewhat serious about it        0.036212\n",
      "buddhism and very serious about it            0.014286\n",
      "buddhism but not too serious about it         0.049231\n",
      "catholicism                                   0.080827\n",
      "catholicism and laughing about it             0.049587\n",
      "catholicism and somewhat serious about it     0.060219\n",
      "catholicism and very serious about it         0.058824\n",
      "catholicism but not too serious about it      0.041415\n",
      "christianity                                  0.061829\n",
      "christianity and laughing about it            0.032172\n",
      "christianity and somewhat serious about it    0.042071\n",
      "christianity and very serious about it        0.055363\n",
      "christianity but not too serious about it     0.027664\n",
      "hinduism                                      0.018692\n",
      "hinduism and laughing about it                0.022727\n",
      "hinduism and somewhat serious about it        0.017241\n",
      "hinduism and very serious about it            0.071429\n",
      "hinduism but not too serious about it         0.048458\n",
      "islam                                         0.104167\n",
      "islam and laughing about it                   0.062500\n",
      "islam and somewhat serious about it           0.000000\n",
      "islam and very serious about it               0.000000\n",
      "islam but not too serious about it            0.050000\n",
      "judaism                                       0.124183\n",
      "judaism and laughing about it                 0.085169\n",
      "judaism and somewhat serious about it         0.082707\n",
      "judaism and very serious about it             0.045455\n",
      "judaism but not too serious about it          0.075148\n",
      "other                                         0.075065\n",
      "other and laughing about it                   0.094856\n",
      "other and somewhat serious about it           0.070922\n",
      "other and very serious about it               0.101313\n",
      "other but not too serious about it            0.050193\n",
      "Name: ethnicity, dtype: float64\n",
      "sex\n",
      "f    0.100137\n",
      "m    0.091127\n",
      "Name: ethnicity, dtype: float64\n",
      "income\n",
      "-1          0.102390\n",
      " 20000      0.062331\n",
      " 30000      0.048664\n",
      " 40000      0.053731\n",
      " 50000      0.057436\n",
      " 60000      0.050272\n",
      " 70000      0.073550\n",
      " 80000      0.067507\n",
      " 100000     0.061073\n",
      " 150000     0.049128\n",
      " 250000     0.087248\n",
      " 500000     0.125000\n",
      " 1000000    0.119002\n",
      "Name: ethnicity, dtype: float64\n"
     ]
    }
   ],
   "source": [
    "#From previous dataset info, it is known that ethnicity has missing values\n",
    "\n",
    "#how many missing values?\n",
    "\n",
    "print(profiles['ethnicity'].isna().value_counts())\n",
    "\n",
    "#Is ethnicity missing more often for certain age groups, gender, orientation, or essay length?\n",
    "print(profiles['ethnicity'].isna().groupby(profiles['age']).mean())\n",
    "print(profiles['ethnicity'].isna().groupby(profiles['orientation']).mean())\n",
    "print(profiles['ethnicity'].isna().groupby(profiles['religion']).mean())\n",
    "print(profiles['ethnicity'].isna().groupby(profiles['sex']).mean())\n",
    "print(profiles['ethnicity'].isna().groupby(profiles['income']).mean())"
   ]
  },
  {
   "cell_type": "code",
   "execution_count": 20,
   "metadata": {},
   "outputs": [
    {
     "name": "stdout",
     "output_type": "stream",
     "text": [
      "ethnicity\n",
      "white                                                                 32831\n",
      "asian                                                                  6134\n",
      "unknown                                                                5680\n",
      "hispanic / latin                                                       2823\n",
      "black                                                                  2008\n",
      "                                                                      ...  \n",
      "middle eastern, indian, white                                             1\n",
      "asian, middle eastern, black, white, other                                1\n",
      "asian, middle eastern, indian, hispanic / latin, white, other             1\n",
      "black, native american, indian, pacific islander, hispanic / latin        1\n",
      "asian, black, indian                                                      1\n",
      "Name: count, Length: 218, dtype: int64\n"
     ]
    }
   ],
   "source": [
    "#From proportions above, we can assume MCAR, since there's no clear reason why the data is missing and all proportions are roughly equal.\n",
    "\n",
    "#Every missing value will be replaced with 'unknown'\n",
    "\n",
    "#new dataset that only contains ethnicity and income\n",
    "eth_inc_filtered = profiles[['ethnicity', 'income']]\n",
    "\n",
    "#filling NaN with 'unknown'\n",
    "eth_inc_filtered = eth_inc_filtered.fillna(value={'ethnicity': 'unknown'})\n",
    "\n",
    "#plotting the proportions of ethnicities\n",
    "#getting unique values of ethnicities\n",
    "print(eth_inc_filtered['ethnicity'].value_counts())\n",
    "\n",
    "#There are 218 possible values for ethnicity, let's keep a maximum of 2 mixes to simplify the dataset (i.e black, white)\n",
    "eth_inc_filtered['simple_ethnicity'] = eth_inc_filtered['ethnicity'].apply(\n",
    "    lambda x: 1 if isinstance(x, str) and x.count(',') <= 1 else 0\n",
    ")\n",
    "\n",
    "#updating the ethnicities with more than two mixes with the word 'mixed ethnicity'\n",
    "eth_inc_filtered['ethnicity'] = eth_inc_filtered.apply(lambda x: x['ethnicity'] if x['simple_ethnicity'] == 1\n",
    "                                                                    else \"mixed ethnicity\", axis=1)\n",
    "\n",
    "\n"
   ]
  },
  {
   "cell_type": "code",
   "execution_count": 21,
   "metadata": {},
   "outputs": [
    {
     "name": "stdout",
     "output_type": "stream",
     "text": [
      "                  ethnicity  income  simple_ethnicity\n",
      "0              asian, white      -1                 1\n",
      "1                     white   80000                 1\n",
      "2                   unknown      -1                 1\n",
      "3                     white   20000                 1\n",
      "4           mixed ethnicity      -1                 0\n",
      "5                     white      -1                 1\n",
      "6              white, other      -1                 1\n",
      "7                     white      -1                 1\n",
      "8                     white      -1                 1\n",
      "9                     white      -1                 1\n",
      "10                    white      -1                 1\n",
      "11                    white   40000                 1\n",
      "12                    white      -1                 1\n",
      "13                    white   30000                 1\n",
      "14  hispanic / latin, white   50000                 1\n",
      "15                    white      -1                 1\n",
      "16                    white      -1                 1\n",
      "17         hispanic / latin      -1                 1\n",
      "18                    white      -1                 1\n",
      "19                    white      -1                 1\n",
      "47\n"
     ]
    }
   ],
   "source": [
    "#new dataset with a column with an indicator: 1 if simple ethnicity or maximum two mixed. The rest are zero\n",
    "print(eth_inc_filtered.head(20))\n",
    "print(len(eth_inc_filtered['ethnicity'].value_counts()))\n",
    "\n",
    "##Exporting these values to use it later in another notebook\n",
    "\n",
    "eth_inc_filtered[['ethnicity']].to_csv('ethnicity_base.csv', index=False)\n"
   ]
  },
  {
   "cell_type": "code",
   "execution_count": 22,
   "metadata": {},
   "outputs": [
    {
     "name": "stdout",
     "output_type": "stream",
     "text": [
      "59946\n",
      "48442\n"
     ]
    }
   ],
   "source": [
    "print(len(eth_inc_filtered))\n",
    "print(np.sum(eth_inc_filtered['income'] == -1))\n",
    "\n",
    "#Since there are 48.442 missing values for income, the only option is to drop them all, or imputation. \n",
    "# With 81% missing, imputation is likely to introduce bias or noise"
   ]
  },
  {
   "cell_type": "markdown",
   "metadata": {},
   "source": [
    "Conclusion on Q4: With 81% missing for the income feature, imputation is likely to introduce bias or noise, the best practice would be to drop the variable"
   ]
  },
  {
   "cell_type": "markdown",
   "metadata": {},
   "source": [
    "#### 04.5 - Relationship between orientation and religion"
   ]
  },
  {
   "cell_type": "code",
   "execution_count": 23,
   "metadata": {},
   "outputs": [
    {
     "name": "stdout",
     "output_type": "stream",
     "text": [
      "religion\n",
      "agnosticism                                   2724\n",
      "other                                         2691\n",
      "agnosticism but not too serious about it      2636\n",
      "agnosticism and laughing about it             2496\n",
      "catholicism but not too serious about it      2318\n",
      "atheism                                       2175\n",
      "other and laughing about it                   2119\n",
      "atheism and laughing about it                 2074\n",
      "christianity                                  1957\n",
      "christianity but not too serious about it     1952\n",
      "other but not too serious about it            1554\n",
      "judaism but not too serious about it          1517\n",
      "atheism but not too serious about it          1318\n",
      "catholicism                                   1064\n",
      "christianity and somewhat serious about it     927\n",
      "atheism and somewhat serious about it          848\n",
      "other and somewhat serious about it            846\n",
      "catholicism and laughing about it              726\n",
      "judaism and laughing about it                  681\n",
      "buddhism but not too serious about it          650\n",
      "agnosticism and somewhat serious about it      642\n",
      "judaism                                        612\n",
      "christianity and very serious about it         578\n",
      "atheism and very serious about it              570\n",
      "catholicism and somewhat serious about it      548\n",
      "other and very serious about it                533\n",
      "buddhism and laughing about it                 466\n",
      "buddhism                                       403\n",
      "christianity and laughing about it             373\n",
      "buddhism and somewhat serious about it         359\n",
      "agnosticism and very serious about it          314\n",
      "judaism and somewhat serious about it          266\n",
      "hinduism but not too serious about it          227\n",
      "hinduism                                       107\n",
      "catholicism and very serious about it          102\n",
      "buddhism and very serious about it              70\n",
      "hinduism and somewhat serious about it          58\n",
      "islam                                           48\n",
      "hinduism and laughing about it                  44\n",
      "islam but not too serious about it              40\n",
      "judaism and very serious about it               22\n",
      "islam and somewhat serious about it             22\n",
      "islam and laughing about it                     16\n",
      "hinduism and very serious about it              14\n",
      "islam and very serious about it                 13\n",
      "Name: count, dtype: int64\n",
      "45\n"
     ]
    }
   ],
   "source": [
    "#new dataset that only contains orientation and religion\n",
    "ort_relg_filtered = profiles[['orientation', 'religion']]\n",
    "\n",
    "#value counts for religion to check the nature of missing values\n",
    "print(ort_relg_filtered['religion'].value_counts())\n",
    "print(len(ort_relg_filtered['religion'].value_counts()))"
   ]
  },
  {
   "cell_type": "code",
   "execution_count": 24,
   "metadata": {},
   "outputs": [
    {
     "name": "stdout",
     "output_type": "stream",
     "text": [
      "Number of missing values for religion: 20226\n"
     ]
    }
   ],
   "source": [
    "#There are 45 categories in religion, how many missing values?\n",
    "print(f\"Number of missing values for religion: {np.sum(ort_relg_filtered['religion'].isna())}\")"
   ]
  },
  {
   "cell_type": "code",
   "execution_count": 25,
   "metadata": {},
   "outputs": [
    {
     "name": "stderr",
     "output_type": "stream",
     "text": [
      "C:\\Users\\ntama\\AppData\\Local\\Temp\\ipykernel_31200\\757562915.py:2: SettingWithCopyWarning: \n",
      "A value is trying to be set on a copy of a slice from a DataFrame.\n",
      "Try using .loc[row_indexer,col_indexer] = value instead\n",
      "\n",
      "See the caveats in the documentation: https://pandas.pydata.org/pandas-docs/stable/user_guide/indexing.html#returning-a-view-versus-a-copy\n",
      "  ort_relg_filtered['religion_base'] = ort_relg_filtered['religion'].str.extract(r'^(\\w+)')\n"
     ]
    }
   ],
   "source": [
    "#Grouping by religion base with regex, regardless the level of strictness about it\n",
    "ort_relg_filtered['religion_base'] = ort_relg_filtered['religion'].str.extract(r'^(\\w+)')"
   ]
  },
  {
   "cell_type": "code",
   "execution_count": 26,
   "metadata": {},
   "outputs": [
    {
     "name": "stdout",
     "output_type": "stream",
     "text": [
      "orientation    bisexual  gay  straight\n",
      "religion_base                         \n",
      "agnosticism         445  782      7585\n",
      "atheism             510  663      5812\n",
      "buddhism            134  275      1539\n",
      "catholicism          79  415      4264\n",
      "christianity        140  393      5254\n",
      "hinduism              9   26       415\n",
      "islam                 5    9       125\n",
      "judaism             129  232      2737\n",
      "other               620  828      6295\n"
     ]
    }
   ],
   "source": [
    "#contingency table of frequencies (observed)\n",
    "freq_ort_relg = pd.crosstab(ort_relg_filtered['religion_base'], ort_relg_filtered['orientation'])\n",
    "print(freq_ort_relg)"
   ]
  },
  {
   "cell_type": "code",
   "execution_count": 27,
   "metadata": {},
   "outputs": [
    {
     "name": "stdout",
     "output_type": "stream",
     "text": [
      "orientation    bisexual       gay  straight\n",
      "religion_base                              \n",
      "agnosticism    0.007423  0.013045  0.126531\n",
      "atheism        0.008508  0.011060  0.096954\n",
      "buddhism       0.002235  0.004587  0.025673\n",
      "catholicism    0.001318  0.006923  0.071131\n",
      "christianity   0.002335  0.006556  0.087646\n",
      "hinduism       0.000150  0.000434  0.006923\n",
      "islam          0.000083  0.000150  0.002085\n",
      "judaism        0.002152  0.003870  0.045658\n",
      "other          0.010343  0.013812  0.105011\n"
     ]
    }
   ],
   "source": [
    "#contingency table with proportions (observed)\n",
    "props_ort_relg = freq_ort_relg/len(ort_relg_filtered)\n",
    "print(props_ort_relg)"
   ]
  },
  {
   "cell_type": "code",
   "execution_count": 28,
   "metadata": {},
   "outputs": [
    {
     "name": "stdout",
     "output_type": "stream",
     "text": [
      "religion_base\n",
      "agnosticism     0.146999\n",
      "atheism         0.116522\n",
      "buddhism        0.032496\n",
      "catholicism     0.079371\n",
      "christianity    0.096537\n",
      "hinduism        0.007507\n",
      "islam           0.002319\n",
      "judaism         0.051680\n",
      "other           0.129166\n",
      "dtype: float64\n",
      "orientation\n",
      "bisexual    0.034548\n",
      "gay         0.060438\n",
      "straight    0.567611\n",
      "dtype: float64\n"
     ]
    }
   ],
   "source": [
    "#Marginal proportions \n",
    "religion_marginals = props_ort_relg.sum(axis=1)\n",
    "orientation_marginals = props_ort_relg.sum(axis=0)\n",
    "print(religion_marginals)\n",
    "print(orientation_marginals)"
   ]
  },
  {
   "cell_type": "code",
   "execution_count": 29,
   "metadata": {},
   "outputs": [
    {
     "name": "stdout",
     "output_type": "stream",
     "text": [
      "4.3420009116351463e-116\n",
      "[[4.59457503e+02 8.03773313e+02 7.54876918e+03]\n",
      " [3.64197759e+02 6.37126259e+02 5.98367598e+03]\n",
      " [1.01568681e+02 1.77683887e+02 1.66874743e+03]\n",
      " [2.48082024e+02 4.33993807e+02 4.07592417e+03]\n",
      " [3.01734063e+02 5.27852492e+02 4.95741344e+03]\n",
      " [2.34629909e+01 4.10460725e+01 3.85490937e+02]\n",
      " [7.24745720e+00 1.26786757e+01 1.19073867e+02]\n",
      " [1.61529658e+02 2.82579406e+02 2.65389094e+03]\n",
      " [4.03719864e+02 7.06266088e+02 6.63301405e+03]]\n"
     ]
    }
   ],
   "source": [
    "#Expected contingency table with proportions\n",
    "from scipy.stats import chi2_contingency\n",
    "chi2, pval, dof, expected = chi2_contingency(freq_ort_relg)\n",
    "print(pval)\n",
    "print(expected)"
   ]
  },
  {
   "cell_type": "markdown",
   "metadata": {},
   "source": [
    "Conclusion on Q5: Since p-value is significantly inferior to 0,05 and observed and expected frequencies are significantly different, there is likely a statistically significant association between religion and orientation."
   ]
  },
  {
   "cell_type": "markdown",
   "metadata": {},
   "source": [
    "---\n",
    "##### EDA Continued: Correlation between age and income.\n"
   ]
  },
  {
   "cell_type": "code",
   "execution_count": 30,
   "metadata": {},
   "outputs": [
    {
     "data": {
      "image/png": "[encoded data removed]",
      "text/plain": [
       "<Figure size 640x480 with 1 Axes>"
      ]
     },
     "metadata": {},
     "output_type": "display_data"
    },
    {
     "name": "stdout",
     "output_type": "stream",
     "text": [
      "The correlation coefficient between age and income is: -0.001003839875436117\n"
     ]
    }
   ],
   "source": [
    "plt.scatter(data=profiles, x='age', y='income', alpha=0.5)\n",
    "plt.xlabel('Age')\n",
    "plt.ylabel('income')\n",
    "plt.title('Age vs. Income')\n",
    "plt.axis([10, 100, 0, 1100000])\n",
    "plt.show()\n",
    "\n",
    "#getting the correlation coefficient\n",
    "from scipy.stats import pearsonr\n",
    "corr_age_income, p = pearsonr(profiles['age'], profiles['income'])\n",
    "print(f\"The correlation coefficient between age and income is: {corr_age_income}\")"
   ]
  },
  {
   "cell_type": "markdown",
   "metadata": {},
   "source": [
    "There is no clear correlation between age and income in this dataset"
   ]
  },
  {
   "cell_type": "markdown",
   "metadata": {},
   "source": [
    "#### 04.6 - Correlation between numerical variables"
   ]
  },
  {
   "cell_type": "markdown",
   "metadata": {},
   "source": [
    "\n",
    "##### Pairplots for all numerical variables"
   ]
  },
  {
   "cell_type": "code",
   "execution_count": 31,
   "metadata": {},
   "outputs": [
    {
     "name": "stderr",
     "output_type": "stream",
     "text": [
      "c:\\Users\\ntama\\anaconda3\\Lib\\site-packages\\seaborn\\_oldcore.py:1119: FutureWarning: use_inf_as_na option is deprecated and will be removed in a future version. Convert inf values to NaN before operating instead.\n",
      "  with pd.option_context('mode.use_inf_as_na', True):\n",
      "c:\\Users\\ntama\\anaconda3\\Lib\\site-packages\\seaborn\\_oldcore.py:1119: FutureWarning: use_inf_as_na option is deprecated and will be removed in a future version. Convert inf values to NaN before operating instead.\n",
      "  with pd.option_context('mode.use_inf_as_na', True):\n",
      "c:\\Users\\ntama\\anaconda3\\Lib\\site-packages\\seaborn\\_oldcore.py:1119: FutureWarning: use_inf_as_na option is deprecated and will be removed in a future version. Convert inf values to NaN before operating instead.\n",
      "  with pd.option_context('mode.use_inf_as_na', True):\n"
     ]
    },
    {
     "data": {
      "text/plain": [
       "<Figure size 1200x800 with 0 Axes>"
      ]
     },
     "metadata": {},
     "output_type": "display_data"
    },
    {
     "data": {
      "image/png": "[encoded data removed]",
      "text/plain": [
       "<Figure size 750x750 with 12 Axes>"
      ]
     },
     "metadata": {},
     "output_type": "display_data"
    }
   ],
   "source": [
    "plt.figure(figsize=(12,8))\n",
    "sns.pairplot(profiles)\n",
    "plt.show()\n"
   ]
  },
  {
   "cell_type": "markdown",
   "metadata": {},
   "source": [
    "##### Pearson's correlation coefficients for all numerical variables:"
   ]
  },
  {
   "cell_type": "code",
   "execution_count": 32,
   "metadata": {},
   "outputs": [
    {
     "data": {
      "text/html": [
       "<div>\n",
       "<style scoped>\n",
       "    .dataframe tbody tr th:only-of-type {\n",
       "        vertical-align: middle;\n",
       "    }\n",
       "\n",
       "    .dataframe tbody tr th {\n",
       "        vertical-align: top;\n",
       "    }\n",
       "\n",
       "    .dataframe thead th {\n",
       "        text-align: right;\n",
       "    }\n",
       "</style>\n",
       "<table border=\"1\" class=\"dataframe\">\n",
       "  <thead>\n",
       "    <tr style=\"text-align: right;\">\n",
       "      <th></th>\n",
       "      <th>age</th>\n",
       "      <th>height</th>\n",
       "      <th>income</th>\n",
       "    </tr>\n",
       "  </thead>\n",
       "  <tbody>\n",
       "    <tr>\n",
       "      <th>age</th>\n",
       "      <td>1.000000</td>\n",
       "      <td>-0.022261</td>\n",
       "      <td>-0.001004</td>\n",
       "    </tr>\n",
       "    <tr>\n",
       "      <th>height</th>\n",
       "      <td>-0.022261</td>\n",
       "      <td>1.000000</td>\n",
       "      <td>0.065049</td>\n",
       "    </tr>\n",
       "    <tr>\n",
       "      <th>income</th>\n",
       "      <td>-0.001004</td>\n",
       "      <td>0.065049</td>\n",
       "      <td>1.000000</td>\n",
       "    </tr>\n",
       "  </tbody>\n",
       "</table>\n",
       "</div>"
      ],
      "text/plain": [
       "             age    height    income\n",
       "age     1.000000 -0.022261 -0.001004\n",
       "height -0.022261  1.000000  0.065049\n",
       "income -0.001004  0.065049  1.000000"
      ]
     },
     "execution_count": 32,
     "metadata": {},
     "output_type": "execute_result"
    }
   ],
   "source": [
    "corr_matr = profiles.corr(numeric_only=True)\n",
    "corr_matr"
   ]
  },
  {
   "cell_type": "markdown",
   "metadata": {},
   "source": [
    "No direct correlation between numerical variables is observed"
   ]
  },
  {
   "cell_type": "code",
   "execution_count": 33,
   "metadata": {},
   "outputs": [
    {
     "data": {
      "text/plain": [
       "income\n",
       "-1          0.808094\n",
       " 20000      0.049244\n",
       " 100000     0.027041\n",
       " 80000      0.018533\n",
       " 30000      0.017482\n",
       " 40000      0.016765\n",
       " 50000      0.016265\n",
       " 60000      0.012278\n",
       " 70000      0.011794\n",
       " 150000     0.010526\n",
       " 1000000    0.008691\n",
       " 250000     0.002486\n",
       " 500000     0.000801\n",
       "Name: proportion, dtype: float64"
      ]
     },
     "execution_count": 33,
     "metadata": {},
     "output_type": "execute_result"
    }
   ],
   "source": [
    "profiles['income'].value_counts(1)"
   ]
  },
  {
   "cell_type": "markdown",
   "metadata": {},
   "source": [
    "Feature *'income'* has 81% missing values or reported as \"-1\". imputation is likely to introduce noise. "
   ]
  },
  {
   "cell_type": "code",
   "execution_count": 34,
   "metadata": {},
   "outputs": [
    {
     "name": "stdout",
     "output_type": "stream",
     "text": [
      "height\n",
      "70.0    6074\n",
      "68.0    5449\n",
      "67.0    5354\n",
      "72.0    5315\n",
      "69.0    5179\n",
      "        ... \n",
      "3.0        1\n",
      "8.0        1\n",
      "93.0       1\n",
      "52.0       1\n",
      "4.0        1\n",
      "Name: count, Length: 61, dtype: int64\n"
     ]
    }
   ],
   "source": [
    "print(profiles['height'].value_counts(0))"
   ]
  },
  {
   "cell_type": "code",
   "execution_count": 35,
   "metadata": {},
   "outputs": [],
   "source": [
    "#replacing 3 missing values on the feature 'height' with the mean\n",
    "profiles['height'] = profiles['height'].fillna(profiles['height'].mean)"
   ]
  },
  {
   "cell_type": "code",
   "execution_count": 36,
   "metadata": {},
   "outputs": [
    {
     "name": "stdout",
     "output_type": "stream",
     "text": [
      "<class 'pandas.core.series.Series'>\n",
      "RangeIndex: 59946 entries, 0 to 59945\n",
      "Series name: height\n",
      "Non-Null Count  Dtype  \n",
      "--------------  -----  \n",
      "59946 non-null  float64\n",
      "dtypes: float64(1)\n",
      "memory usage: 468.5 KB\n",
      "None\n"
     ]
    }
   ],
   "source": [
    "print(profiles['height'].info())"
   ]
  },
  {
   "cell_type": "code",
   "execution_count": 37,
   "metadata": {},
   "outputs": [
    {
     "name": "stdout",
     "output_type": "stream",
     "text": [
      "['body_type', 'diet', 'drinks', 'drugs', 'education', 'ethnicity', 'job', 'last_online', 'location', 'offspring', 'orientation', 'pets', 'religion', 'sex', 'sign', 'smokes', 'speaks', 'status']\n",
      "body_type      object\n",
      "diet           object\n",
      "drinks         object\n",
      "drugs          object\n",
      "education      object\n",
      "ethnicity      object\n",
      "job            object\n",
      "last_online    object\n",
      "location       object\n",
      "offspring      object\n",
      "orientation    object\n",
      "pets           object\n",
      "religion       object\n",
      "sex            object\n",
      "sign           object\n",
      "smokes         object\n",
      "speaks         object\n",
      "status         object\n",
      "dtype: object\n"
     ]
    },
    {
     "name": "stderr",
     "output_type": "stream",
     "text": [
      "c:\\Users\\ntama\\anaconda3\\Lib\\site-packages\\numpy\\core\\fromnumeric.py:86: FutureWarning: The behavior of DataFrame.sum with axis=None is deprecated, in a future version this will reduce over both axes and return a scalar. To retain the old behavior, pass axis=0 (or do not pass axis)\n",
      "  return reduction(axis=axis, out=out, **passkwargs)\n"
     ]
    }
   ],
   "source": [
    "#turning categorical variables into a list\n",
    "categ_var = list((profiles.select_dtypes(include=object)))\n",
    "\n",
    "#checking missing values after tidying and processing the data\n",
    "np.sum(profiles[categ_var].isna())\n",
    "\n",
    "print(categ_var)\n",
    "print(profiles[categ_var].dtypes)\n"
   ]
  },
  {
   "cell_type": "markdown",
   "metadata": {},
   "source": [
    "Checking three values for categorical correlation: Chi2, p-value, Cramer's V"
   ]
  },
  {
   "cell_type": "code",
   "execution_count": 38,
   "metadata": {},
   "outputs": [],
   "source": [
    "#Cramer's V function\n",
    "def cramers_v(confusion_matrix):\n",
    "    chi2, _, _, _ = chi2_contingency(confusion_matrix)\n",
    "    n = confusion_matrix.sum().sum()\n",
    "    phi2 = chi2 / n\n",
    "    r, k = confusion_matrix.shape\n",
    "    return np.sqrt(phi2 / min(k - 1, r - 1))"
   ]
  },
  {
   "cell_type": "code",
   "execution_count": 39,
   "metadata": {},
   "outputs": [],
   "source": [
    "#looping for p-value and chi2 \n",
    "#for var_a, var_b in combinations(categ_var, 2):\n",
    "   # table = pd.crosstab(profiles[var_a], profiles[var_b])\n",
    "    #chi2, p, dof, expected = chi2_contingency(table)\n",
    "    #if cramers_v(table) >= 0.4:\n",
    "        #print(f\"{var_a} vs {var_b}: Chi² = {chi2:.2f}, p = {p:.6f}, Cramer's V = {cramers_v(table)}\")\n"
   ]
  },
  {
   "cell_type": "markdown",
   "metadata": {},
   "source": [
    "Conclusion: Categorical variables have very weak associations except for dogs vs cats (as expected)"
   ]
  },
  {
   "cell_type": "code",
   "execution_count": 40,
   "metadata": {},
   "outputs": [
    {
     "name": "stdout",
     "output_type": "stream",
     "text": [
      "   age       body_type               diet    drinks      drugs  \\\n",
      "0   22  a little extra  strictly anything  socially      never   \n",
      "1   35         average       mostly other     often  sometimes   \n",
      "2   38            thin           anything  socially        NaN   \n",
      "3   23            thin         vegetarian  socially        NaN   \n",
      "4   29        athletic                NaN  socially      never   \n",
      "\n",
      "                           education            ethnicity  height  income  \\\n",
      "0      working on college/university         asian, white    75.0      -1   \n",
      "1              working on space camp                white    70.0   80000   \n",
      "2     graduated from masters program                  NaN    68.0      -1   \n",
      "3      working on college/university                white    71.0   20000   \n",
      "4  graduated from college/university  asian, black, other    66.0      -1   \n",
      "\n",
      "                           job  ...                         location  \\\n",
      "0               transportation  ...  south san francisco, california   \n",
      "1         hospitality / travel  ...              oakland, california   \n",
      "2                          NaN  ...        san francisco, california   \n",
      "3                      student  ...             berkeley, california   \n",
      "4  artistic / musical / writer  ...        san francisco, california   \n",
      "\n",
      "                                      offspring orientation  \\\n",
      "0  doesn&rsquo;t have kids, but might want them    straight   \n",
      "1  doesn&rsquo;t have kids, but might want them    straight   \n",
      "2                                           NaN    straight   \n",
      "3                       doesn&rsquo;t want kids    straight   \n",
      "4                                           NaN    straight   \n",
      "\n",
      "                        pets                                  religion sex  \\\n",
      "0  likes dogs and likes cats     agnosticism and very serious about it   m   \n",
      "1  likes dogs and likes cats  agnosticism but not too serious about it   m   \n",
      "2                   has cats                                       NaN   m   \n",
      "3                 likes cats                                       NaN   m   \n",
      "4  likes dogs and likes cats                                       NaN   m   \n",
      "\n",
      "                                 sign     smokes  \\\n",
      "0                              gemini  sometimes   \n",
      "1                              cancer         no   \n",
      "2  pisces but it doesn&rsquo;t matter         no   \n",
      "3                              pisces         no   \n",
      "4                            aquarius         no   \n",
      "\n",
      "                                              speaks     status  \n",
      "0                                            english     single  \n",
      "1  english (fluently), spanish (poorly), french (...     single  \n",
      "2                               english, french, c++  available  \n",
      "3                           english, german (poorly)     single  \n",
      "4                                            english     single  \n",
      "\n",
      "[5 rows x 21 columns]\n"
     ]
    }
   ],
   "source": [
    "print(profiles.head())"
   ]
  },
  {
   "cell_type": "markdown",
   "metadata": {},
   "source": [
    "#### 04.8 - Exporting EDA's dataset"
   ]
  },
  {
   "cell_type": "code",
   "execution_count": 41,
   "metadata": {},
   "outputs": [],
   "source": [
    "profiles.to_csv('profiles_eda.csv')"
   ]
  },
  {
   "cell_type": "code",
   "execution_count": 42,
   "metadata": {},
   "outputs": [
    {
     "data": {
      "text/html": [
       "<div>\n",
       "<style scoped>\n",
       "    .dataframe tbody tr th:only-of-type {\n",
       "        vertical-align: middle;\n",
       "    }\n",
       "\n",
       "    .dataframe tbody tr th {\n",
       "        vertical-align: top;\n",
       "    }\n",
       "\n",
       "    .dataframe thead th {\n",
       "        text-align: right;\n",
       "    }\n",
       "</style>\n",
       "<table border=\"1\" class=\"dataframe\">\n",
       "  <thead>\n",
       "    <tr style=\"text-align: right;\">\n",
       "      <th></th>\n",
       "      <th>age</th>\n",
       "      <th>body_type</th>\n",
       "      <th>diet</th>\n",
       "      <th>drinks</th>\n",
       "      <th>drugs</th>\n",
       "      <th>education</th>\n",
       "      <th>ethnicity</th>\n",
       "      <th>height</th>\n",
       "      <th>income</th>\n",
       "      <th>job</th>\n",
       "      <th>...</th>\n",
       "      <th>location</th>\n",
       "      <th>offspring</th>\n",
       "      <th>orientation</th>\n",
       "      <th>pets</th>\n",
       "      <th>religion</th>\n",
       "      <th>sex</th>\n",
       "      <th>sign</th>\n",
       "      <th>smokes</th>\n",
       "      <th>speaks</th>\n",
       "      <th>status</th>\n",
       "    </tr>\n",
       "  </thead>\n",
       "  <tbody>\n",
       "    <tr>\n",
       "      <th>0</th>\n",
       "      <td>22</td>\n",
       "      <td>a little extra</td>\n",
       "      <td>strictly anything</td>\n",
       "      <td>socially</td>\n",
       "      <td>never</td>\n",
       "      <td>working on college/university</td>\n",
       "      <td>asian, white</td>\n",
       "      <td>75.0</td>\n",
       "      <td>-1</td>\n",
       "      <td>transportation</td>\n",
       "      <td>...</td>\n",
       "      <td>south san francisco, california</td>\n",
       "      <td>doesn&amp;rsquo;t have kids, but might want them</td>\n",
       "      <td>straight</td>\n",
       "      <td>likes dogs and likes cats</td>\n",
       "      <td>agnosticism and very serious about it</td>\n",
       "      <td>m</td>\n",
       "      <td>gemini</td>\n",
       "      <td>sometimes</td>\n",
       "      <td>english</td>\n",
       "      <td>single</td>\n",
       "    </tr>\n",
       "    <tr>\n",
       "      <th>1</th>\n",
       "      <td>35</td>\n",
       "      <td>average</td>\n",
       "      <td>mostly other</td>\n",
       "      <td>often</td>\n",
       "      <td>sometimes</td>\n",
       "      <td>working on space camp</td>\n",
       "      <td>white</td>\n",
       "      <td>70.0</td>\n",
       "      <td>80000</td>\n",
       "      <td>hospitality / travel</td>\n",
       "      <td>...</td>\n",
       "      <td>oakland, california</td>\n",
       "      <td>doesn&amp;rsquo;t have kids, but might want them</td>\n",
       "      <td>straight</td>\n",
       "      <td>likes dogs and likes cats</td>\n",
       "      <td>agnosticism but not too serious about it</td>\n",
       "      <td>m</td>\n",
       "      <td>cancer</td>\n",
       "      <td>no</td>\n",
       "      <td>english (fluently), spanish (poorly), french (...</td>\n",
       "      <td>single</td>\n",
       "    </tr>\n",
       "    <tr>\n",
       "      <th>2</th>\n",
       "      <td>38</td>\n",
       "      <td>thin</td>\n",
       "      <td>anything</td>\n",
       "      <td>socially</td>\n",
       "      <td>NaN</td>\n",
       "      <td>graduated from masters program</td>\n",
       "      <td>NaN</td>\n",
       "      <td>68.0</td>\n",
       "      <td>-1</td>\n",
       "      <td>NaN</td>\n",
       "      <td>...</td>\n",
       "      <td>san francisco, california</td>\n",
       "      <td>NaN</td>\n",
       "      <td>straight</td>\n",
       "      <td>has cats</td>\n",
       "      <td>NaN</td>\n",
       "      <td>m</td>\n",
       "      <td>pisces but it doesn&amp;rsquo;t matter</td>\n",
       "      <td>no</td>\n",
       "      <td>english, french, c++</td>\n",
       "      <td>available</td>\n",
       "    </tr>\n",
       "    <tr>\n",
       "      <th>3</th>\n",
       "      <td>23</td>\n",
       "      <td>thin</td>\n",
       "      <td>vegetarian</td>\n",
       "      <td>socially</td>\n",
       "      <td>NaN</td>\n",
       "      <td>working on college/university</td>\n",
       "      <td>white</td>\n",
       "      <td>71.0</td>\n",
       "      <td>20000</td>\n",
       "      <td>student</td>\n",
       "      <td>...</td>\n",
       "      <td>berkeley, california</td>\n",
       "      <td>doesn&amp;rsquo;t want kids</td>\n",
       "      <td>straight</td>\n",
       "      <td>likes cats</td>\n",
       "      <td>NaN</td>\n",
       "      <td>m</td>\n",
       "      <td>pisces</td>\n",
       "      <td>no</td>\n",
       "      <td>english, german (poorly)</td>\n",
       "      <td>single</td>\n",
       "    </tr>\n",
       "    <tr>\n",
       "      <th>4</th>\n",
       "      <td>29</td>\n",
       "      <td>athletic</td>\n",
       "      <td>NaN</td>\n",
       "      <td>socially</td>\n",
       "      <td>never</td>\n",
       "      <td>graduated from college/university</td>\n",
       "      <td>asian, black, other</td>\n",
       "      <td>66.0</td>\n",
       "      <td>-1</td>\n",
       "      <td>artistic / musical / writer</td>\n",
       "      <td>...</td>\n",
       "      <td>san francisco, california</td>\n",
       "      <td>NaN</td>\n",
       "      <td>straight</td>\n",
       "      <td>likes dogs and likes cats</td>\n",
       "      <td>NaN</td>\n",
       "      <td>m</td>\n",
       "      <td>aquarius</td>\n",
       "      <td>no</td>\n",
       "      <td>english</td>\n",
       "      <td>single</td>\n",
       "    </tr>\n",
       "  </tbody>\n",
       "</table>\n",
       "<p>5 rows × 21 columns</p>\n",
       "</div>"
      ],
      "text/plain": [
       "   age       body_type               diet    drinks      drugs  \\\n",
       "0   22  a little extra  strictly anything  socially      never   \n",
       "1   35         average       mostly other     often  sometimes   \n",
       "2   38            thin           anything  socially        NaN   \n",
       "3   23            thin         vegetarian  socially        NaN   \n",
       "4   29        athletic                NaN  socially      never   \n",
       "\n",
       "                           education            ethnicity  height  income  \\\n",
       "0      working on college/university         asian, white    75.0      -1   \n",
       "1              working on space camp                white    70.0   80000   \n",
       "2     graduated from masters program                  NaN    68.0      -1   \n",
       "3      working on college/university                white    71.0   20000   \n",
       "4  graduated from college/university  asian, black, other    66.0      -1   \n",
       "\n",
       "                           job  ...                         location  \\\n",
       "0               transportation  ...  south san francisco, california   \n",
       "1         hospitality / travel  ...              oakland, california   \n",
       "2                          NaN  ...        san francisco, california   \n",
       "3                      student  ...             berkeley, california   \n",
       "4  artistic / musical / writer  ...        san francisco, california   \n",
       "\n",
       "                                      offspring orientation  \\\n",
       "0  doesn&rsquo;t have kids, but might want them    straight   \n",
       "1  doesn&rsquo;t have kids, but might want them    straight   \n",
       "2                                           NaN    straight   \n",
       "3                       doesn&rsquo;t want kids    straight   \n",
       "4                                           NaN    straight   \n",
       "\n",
       "                        pets                                  religion sex  \\\n",
       "0  likes dogs and likes cats     agnosticism and very serious about it   m   \n",
       "1  likes dogs and likes cats  agnosticism but not too serious about it   m   \n",
       "2                   has cats                                       NaN   m   \n",
       "3                 likes cats                                       NaN   m   \n",
       "4  likes dogs and likes cats                                       NaN   m   \n",
       "\n",
       "                                 sign     smokes  \\\n",
       "0                              gemini  sometimes   \n",
       "1                              cancer         no   \n",
       "2  pisces but it doesn&rsquo;t matter         no   \n",
       "3                              pisces         no   \n",
       "4                            aquarius         no   \n",
       "\n",
       "                                              speaks     status  \n",
       "0                                            english     single  \n",
       "1  english (fluently), spanish (poorly), french (...     single  \n",
       "2                               english, french, c++  available  \n",
       "3                           english, german (poorly)     single  \n",
       "4                                            english     single  \n",
       "\n",
       "[5 rows x 21 columns]"
      ]
     },
     "execution_count": 42,
     "metadata": {},
     "output_type": "execute_result"
    }
   ],
   "source": [
    "profiles.head()"
   ]
  }
 ],
 "metadata": {
  "kernelspec": {
   "display_name": "base",
   "language": "python",
   "name": "python3"
  },
  "language_info": {
   "codemirror_mode": {
    "name": "ipython",
    "version": 3
   },
   "file_extension": ".py",
   "mimetype": "text/x-python",
   "name": "python",
   "nbconvert_exporter": "python",
   "pygments_lexer": "ipython3",
   "version": "3.11.7"
  }
 },
 "nbformat": 4,
 "nbformat_minor": 4
}
