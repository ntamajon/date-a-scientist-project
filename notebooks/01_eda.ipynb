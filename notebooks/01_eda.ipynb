{
 "cells": [
  {
   "cell_type": "code",
   "execution_count": 2,
   "metadata": {},
   "outputs": [],
   "source": [
    "#Importing all libraries\n",
    "import pandas as pd\n",
    "import numpy as np\n",
    "import matplotlib.pyplot as plt\n",
    "import seaborn as sns\n",
    "import math"
   ]
  },
  {
   "cell_type": "markdown",
   "metadata": {},
   "source": [
    "### 1 - Importing the dataset *'profiles.csv'*"
   ]
  },
  {
   "cell_type": "code",
   "execution_count": 7,
   "metadata": {},
   "outputs": [],
   "source": [
    "profiles = pd.read_csv(r\"C:\\Users\\ntama\\Documentos\\Data Science\\Codecademy\\projects\\Date-A-Scientist - Final Project\\OKCupid-Date-A-Scientist-Starter\\date-a-scientist-project\\data\\profiles.csv\")"
   ]
  },
  {
   "cell_type": "markdown",
   "metadata": {},
   "source": [
    "#### 2 - Looking at the first rows or datapoints, here's a description of the features:</br>\n",
    "\n",
    "---\n",
    "\n",
    "- body_type </br>\n",
    "- diet</br>\n",
    "- drinks</br>\n",
    "- drugs</br>\n",
    "- education</br>\n",
    "- ethnicity</br>\n",
    "- height</br>\n",
    "- income</br>\n",
    "- job</br>\n",
    "- offspring</br>\n",
    "- orientation</br>\n",
    "- pets</br>\n",
    "- religion</br>\n",
    "- sex</br>\n",
    "- sign</br>\n",
    "- smokes</br>\n",
    "- speaks</br>\n",
    "- status</br>\n",
    "\n",
    "And a set of open short-answer responses to :</br>\n",
    "\n",
    "- essay0 - My self-summary</br>\n",
    "- essay1 - What I’m doing with my life</br>\n",
    "- essay2 - I’m really good at…</br>\n",
    "- essay3 - The first thing people usually notice about me…</br>\n",
    "- essay4 - Favorite books, movies, show, music, and food</br>\n",
    "- essay5 - The six things I could never do without</br>\n",
    "- essay6 - I spend a lot of time thinking about…</br>\n",
    "- essay7 - On a typical Friday night I am…</br>\n",
    "- essay8 - The most private thing I am willing to admit</br>\n",
    "- essay9 - You should message me if…"
   ]
  },
  {
   "cell_type": "code",
   "execution_count": 8,
   "metadata": {},
   "outputs": [
    {
     "name": "stdout",
     "output_type": "stream",
     "text": [
      "   age       body_type               diet    drinks      drugs  \\\n",
      "0   22  a little extra  strictly anything  socially      never   \n",
      "1   35         average       mostly other     often  sometimes   \n",
      "2   38            thin           anything  socially        NaN   \n",
      "3   23            thin         vegetarian  socially        NaN   \n",
      "4   29        athletic                NaN  socially      never   \n",
      "\n",
      "                           education  \\\n",
      "0      working on college/university   \n",
      "1              working on space camp   \n",
      "2     graduated from masters program   \n",
      "3      working on college/university   \n",
      "4  graduated from college/university   \n",
      "\n",
      "                                              essay0  \\\n",
      "0  about me:<br />\\n<br />\\ni would love to think...   \n",
      "1  i am a chef: this is what that means.<br />\\n1...   \n",
      "2  i'm not ashamed of much, but writing public te...   \n",
      "3          i work in a library and go to school. . .   \n",
      "4  hey how's it going? currently vague on the pro...   \n",
      "\n",
      "                                              essay1  \\\n",
      "0  currently working as an international agent fo...   \n",
      "1  dedicating everyday to being an unbelievable b...   \n",
      "2  i make nerdy software for musicians, artists, ...   \n",
      "3          reading things written by old dead people   \n",
      "4                         work work work work + play   \n",
      "\n",
      "                                              essay2  \\\n",
      "0  making people laugh.<br />\\nranting about a go...   \n",
      "1  being silly. having ridiculous amonts of fun w...   \n",
      "2  improvising in different contexts. alternating...   \n",
      "3  playing synthesizers and organizing books acco...   \n",
      "4  creating imagery to look at:<br />\\nhttp://bag...   \n",
      "\n",
      "                                              essay3  ...  \\\n",
      "0  the way i look. i am a six foot half asian, ha...  ...   \n",
      "1                                                NaN  ...   \n",
      "2  my large jaw and large glasses are the physica...  ...   \n",
      "3                  socially awkward but i do my best  ...   \n",
      "4            i smile a lot and my inquisitive nature  ...   \n",
      "\n",
      "                          location  \\\n",
      "0  south san francisco, california   \n",
      "1              oakland, california   \n",
      "2        san francisco, california   \n",
      "3             berkeley, california   \n",
      "4        san francisco, california   \n",
      "\n",
      "                                      offspring orientation  \\\n",
      "0  doesn&rsquo;t have kids, but might want them    straight   \n",
      "1  doesn&rsquo;t have kids, but might want them    straight   \n",
      "2                                           NaN    straight   \n",
      "3                       doesn&rsquo;t want kids    straight   \n",
      "4                                           NaN    straight   \n",
      "\n",
      "                        pets                                  religion sex  \\\n",
      "0  likes dogs and likes cats     agnosticism and very serious about it   m   \n",
      "1  likes dogs and likes cats  agnosticism but not too serious about it   m   \n",
      "2                   has cats                                       NaN   m   \n",
      "3                 likes cats                                       NaN   m   \n",
      "4  likes dogs and likes cats                                       NaN   m   \n",
      "\n",
      "                                 sign     smokes  \\\n",
      "0                              gemini  sometimes   \n",
      "1                              cancer         no   \n",
      "2  pisces but it doesn&rsquo;t matter         no   \n",
      "3                              pisces         no   \n",
      "4                            aquarius         no   \n",
      "\n",
      "                                              speaks     status  \n",
      "0                                            english     single  \n",
      "1  english (fluently), spanish (poorly), french (...     single  \n",
      "2                               english, french, c++  available  \n",
      "3                           english, german (poorly)     single  \n",
      "4                                            english     single  \n",
      "\n",
      "[5 rows x 31 columns]\n"
     ]
    }
   ],
   "source": [
    "print(profiles.head())"
   ]
  },
  {
   "cell_type": "markdown",
   "metadata": {},
   "source": [
    "#### 3 - Checking roughly if there are any missing values in the dataset"
   ]
  },
  {
   "cell_type": "code",
   "execution_count": 9,
   "metadata": {},
   "outputs": [
    {
     "name": "stdout",
     "output_type": "stream",
     "text": [
      "<class 'pandas.core.frame.DataFrame'>\n",
      "RangeIndex: 59946 entries, 0 to 59945\n",
      "Data columns (total 31 columns):\n",
      " #   Column       Non-Null Count  Dtype  \n",
      "---  ------       --------------  -----  \n",
      " 0   age          59946 non-null  int64  \n",
      " 1   body_type    54650 non-null  object \n",
      " 2   diet         35551 non-null  object \n",
      " 3   drinks       56961 non-null  object \n",
      " 4   drugs        45866 non-null  object \n",
      " 5   education    53318 non-null  object \n",
      " 6   essay0       54458 non-null  object \n",
      " 7   essay1       52374 non-null  object \n",
      " 8   essay2       50308 non-null  object \n",
      " 9   essay3       48470 non-null  object \n",
      " 10  essay4       49409 non-null  object \n",
      " 11  essay5       49096 non-null  object \n",
      " 12  essay6       46175 non-null  object \n",
      " 13  essay7       47495 non-null  object \n",
      " 14  essay8       40721 non-null  object \n",
      " 15  essay9       47343 non-null  object \n",
      " 16  ethnicity    54266 non-null  object \n",
      " 17  height       59943 non-null  float64\n",
      " 18  income       59946 non-null  int64  \n",
      " 19  job          51748 non-null  object \n",
      " 20  last_online  59946 non-null  object \n",
      " 21  location     59946 non-null  object \n",
      " 22  offspring    24385 non-null  object \n",
      " 23  orientation  59946 non-null  object \n",
      " 24  pets         40025 non-null  object \n",
      " 25  religion     39720 non-null  object \n",
      " 26  sex          59946 non-null  object \n",
      " 27  sign         48890 non-null  object \n",
      " 28  smokes       54434 non-null  object \n",
      " 29  speaks       59896 non-null  object \n",
      " 30  status       59946 non-null  object \n",
      "dtypes: float64(1), int64(2), object(28)\n",
      "memory usage: 14.2+ MB\n"
     ]
    }
   ],
   "source": [
    "profiles.info()\n"
   ]
  },
  {
   "cell_type": "code",
   "execution_count": 10,
   "metadata": {},
   "outputs": [
    {
     "name": "stdout",
     "output_type": "stream",
     "text": [
      "Index(['age', 'body_type', 'diet', 'drinks', 'drugs', 'education', 'essay0',\n",
      "       'essay1', 'essay2', 'essay3', 'essay4', 'essay5', 'essay6', 'essay7',\n",
      "       'essay8', 'essay9', 'ethnicity', 'height', 'income', 'job',\n",
      "       'last_online', 'location', 'offspring', 'orientation', 'pets',\n",
      "       'religion', 'sex', 'sign', 'smokes', 'speaks', 'status'],\n",
      "      dtype='object')\n"
     ]
    }
   ],
   "source": [
    "print(profiles.columns)"
   ]
  },
  {
   "cell_type": "code",
   "execution_count": 16,
   "metadata": {},
   "outputs": [
    {
     "name": "stdout",
     "output_type": "stream",
     "text": [
      "                age        height          income\n",
      "count  59946.000000  59943.000000    59946.000000\n",
      "mean      32.340290     68.295281    20033.222534\n",
      "std        9.452779      3.994803    97346.192104\n",
      "min       18.000000      1.000000       -1.000000\n",
      "25%       26.000000     66.000000       -1.000000\n",
      "50%       30.000000     68.000000       -1.000000\n",
      "75%       37.000000     71.000000       -1.000000\n",
      "max      110.000000     95.000000  1000000.000000\n"
     ]
    }
   ],
   "source": [
    "print(profiles.describe())"
   ]
  },
  {
   "cell_type": "markdown",
   "metadata": {},
   "source": [
    "#### 4 - Answering questions about the data </br>\n",
    "##### Q1: What is the distribution of ages among the dataset"
   ]
  },
  {
   "cell_type": "code",
   "execution_count": 25,
   "metadata": {},
   "outputs": [
    {
     "name": "stderr",
     "output_type": "stream",
     "text": [
      "c:\\Users\\ntama\\anaconda3\\Lib\\site-packages\\seaborn\\_oldcore.py:1119: FutureWarning: use_inf_as_na option is deprecated and will be removed in a future version. Convert inf values to NaN before operating instead.\n",
      "  with pd.option_context('mode.use_inf_as_na', True):\n"
     ]
    },
    {
     "data": {
      "image/png": "[encoded data removed]",
      "text/plain": [
       "<Figure size 640x480 with 1 Axes>"
      ]
     },
     "metadata": {},
     "output_type": "display_data"
    }
   ],
   "source": [
    "#plotting the distribution, age has no missing values\n",
    "sns.histplot(data=profiles, x='age')\n",
    "plt.xlabel('Age')\n",
    "plt.title('Distribution of Age among population')\n",
    "plt.show()\n"
   ]
  },
  {
   "cell_type": "code",
   "execution_count": 40,
   "metadata": {},
   "outputs": [
    {
     "name": "stdout",
     "output_type": "stream",
     "text": [
      "Table 1: Frequency table for age.\n",
      "age\n",
      "[25, 30)     17818\n",
      "[30, 35)     12579\n",
      "[20, 25)     10003\n",
      "[35, 40)      7267\n",
      "[40, 45)      4648\n",
      "[45, 50)      2690\n",
      "[50, 55)      1650\n",
      "[55, 60)      1210\n",
      "[15, 20)       920\n",
      "[60, 65)       789\n",
      "[65, 70)       370\n",
      "[75, 80)         0\n",
      "[90, 95)         0\n",
      "[85, 90)         0\n",
      "[80, 85)         0\n",
      "[0, 5)           0\n",
      "[70, 75)         0\n",
      "[5, 10)          0\n",
      "[10, 15)         0\n",
      "[95, 100)        0\n",
      "Name: count, dtype: int64\n"
     ]
    }
   ],
   "source": [
    "#Binning our data to check the counts in 10 years intervals\n",
    "print('Table 1: Frequency table for age.')\n",
    "\n",
    "age_list = list(range(0,101,5))\n",
    "binned_age = pd.cut(profiles['age'], age_list, right=False)\n",
    "print(binned_age.value_counts())"
   ]
  },
  {
   "cell_type": "code",
   "execution_count": 55,
   "metadata": {},
   "outputs": [
    {
     "name": "stdout",
     "output_type": "stream",
     "text": [
      "age\n",
      "[25, 30)    0.297244\n",
      "[30, 35)    0.209846\n",
      "[20, 25)    0.166872\n",
      "Name: count, dtype: float64\n"
     ]
    }
   ],
   "source": [
    "#calculating proportions for top 3 age groups\n",
    "age_counts = binned_age.value_counts().sort_index()\n",
    "\n",
    "age_proportions = age_counts / age_counts.sum()\n",
    "\n",
    "top_3_proportions = age_proportions.sort_values(ascending=False).head(3)\n",
    "\n",
    "print(top_3_proportions)\n"
   ]
  },
  {
   "cell_type": "markdown",
   "metadata": {},
   "source": [
    "##### Q2: Grouping age groups by their income"
   ]
  },
  {
   "cell_type": "code",
   "execution_count": 71,
   "metadata": {},
   "outputs": [
    {
     "name": "stdout",
     "output_type": "stream",
     "text": [
      "Correlation between age and income: -0.009\n"
     ]
    }
   ],
   "source": [
    "filtered = profiles[profiles['income'] > 0]\n",
    "correlation = filtered['age'].corr(filtered['income'])\n",
    "print(f\"Correlation between age and income: {correlation:.3f}\")\n",
    "\n",
    "#Since there's no correlation, there's no point in grouping them out"
   ]
  },
  {
   "cell_type": "markdown",
   "metadata": {},
   "source": [
    "#### Q3: Distribution and proportion of all different sexual orientations\n"
   ]
  },
  {
   "cell_type": "code",
   "execution_count": 95,
   "metadata": {},
   "outputs": [
    {
     "data": {
      "image/png": "[encoded data removed]",
      "text/plain": [
       "<Figure size 640x480 with 1 Axes>"
      ]
     },
     "metadata": {},
     "output_type": "display_data"
    }
   ],
   "source": [
    "#plotting the countplot for sexual orientations\n",
    "ax = sns.countplot(x='orientation', data=profiles, palette='colorblind', hue='orientation')\n",
    "total = profiles['orientation'].count()\n",
    "\n",
    "for p in ax.patches:\n",
    "    height = p.get_height()\n",
    "    proportion = height / total \n",
    "    ax.text(p.get_x() + p.get_width() / 2, height + 50,  \n",
    "            f'{proportion:.2%}',  \n",
    "            ha='center', va='bottom', fontsize=12)\n",
    "\n",
    "plt.title('Proportions of Sexual Orientations')\n",
    "plt.show()"
   ]
  },
  {
   "cell_type": "markdown",
   "metadata": {},
   "source": [
    "#### Q4: Relationship between ethnicity and income"
   ]
  },
  {
   "cell_type": "code",
   "execution_count": 107,
   "metadata": {},
   "outputs": [
    {
     "name": "stdout",
     "output_type": "stream",
     "text": [
      "ethnicity\n",
      "False    54266\n",
      "True      5680\n",
      "Name: count, dtype: int64\n",
      "age\n",
      "18     0.100324\n",
      "19     0.101473\n",
      "20     0.089192\n",
      "21     0.095944\n",
      "22     0.088935\n",
      "23     0.107639\n",
      "24     0.089759\n",
      "25     0.099122\n",
      "26     0.096402\n",
      "27     0.108277\n",
      "28     0.107452\n",
      "29     0.105615\n",
      "30     0.109876\n",
      "31     0.102742\n",
      "32     0.107074\n",
      "33     0.102901\n",
      "34     0.097792\n",
      "35     0.095157\n",
      "36     0.073910\n",
      "37     0.092502\n",
      "38     0.083459\n",
      "39     0.091297\n",
      "40     0.080583\n",
      "41     0.075510\n",
      "42     0.091418\n",
      "43     0.081585\n",
      "44     0.093220\n",
      "45     0.065319\n",
      "46     0.070934\n",
      "47     0.094518\n",
      "48     0.056133\n",
      "49     0.061002\n",
      "50     0.059497\n",
      "51     0.062857\n",
      "52     0.069767\n",
      "53     0.107143\n",
      "54     0.044944\n",
      "55     0.094340\n",
      "56     0.062731\n",
      "57     0.050781\n",
      "58     0.050761\n",
      "59     0.076923\n",
      "60     0.076923\n",
      "61     0.056818\n",
      "62     0.047904\n",
      "63     0.050725\n",
      "64     0.079646\n",
      "65     0.064220\n",
      "66     0.057143\n",
      "67     0.060606\n",
      "68     0.000000\n",
      "69     0.161290\n",
      "109    1.000000\n",
      "110    1.000000\n",
      "Name: ethnicity, dtype: float64\n",
      "orientation\n",
      "bisexual    0.133357\n",
      "gay         0.081105\n",
      "straight    0.094156\n",
      "Name: ethnicity, dtype: float64\n",
      "religion\n",
      "agnosticism                                   0.092511\n",
      "agnosticism and laughing about it             0.078526\n",
      "agnosticism and somewhat serious about it     0.095016\n",
      "agnosticism and very serious about it         0.082803\n",
      "agnosticism but not too serious about it      0.051593\n",
      "atheism                                       0.093793\n",
      "atheism and laughing about it                 0.085824\n",
      "atheism and somewhat serious about it         0.051887\n",
      "atheism and very serious about it             0.071930\n",
      "atheism but not too serious about it          0.062215\n",
      "buddhism                                      0.096774\n",
      "buddhism and laughing about it                0.098712\n",
      "buddhism and somewhat serious about it        0.036212\n",
      "buddhism and very serious about it            0.014286\n",
      "buddhism but not too serious about it         0.049231\n",
      "catholicism                                   0.080827\n",
      "catholicism and laughing about it             0.049587\n",
      "catholicism and somewhat serious about it     0.060219\n",
      "catholicism and very serious about it         0.058824\n",
      "catholicism but not too serious about it      0.041415\n",
      "christianity                                  0.061829\n",
      "christianity and laughing about it            0.032172\n",
      "christianity and somewhat serious about it    0.042071\n",
      "christianity and very serious about it        0.055363\n",
      "christianity but not too serious about it     0.027664\n",
      "hinduism                                      0.018692\n",
      "hinduism and laughing about it                0.022727\n",
      "hinduism and somewhat serious about it        0.017241\n",
      "hinduism and very serious about it            0.071429\n",
      "hinduism but not too serious about it         0.048458\n",
      "islam                                         0.104167\n",
      "islam and laughing about it                   0.062500\n",
      "islam and somewhat serious about it           0.000000\n",
      "islam and very serious about it               0.000000\n",
      "islam but not too serious about it            0.050000\n",
      "judaism                                       0.124183\n",
      "judaism and laughing about it                 0.085169\n",
      "judaism and somewhat serious about it         0.082707\n",
      "judaism and very serious about it             0.045455\n",
      "judaism but not too serious about it          0.075148\n",
      "other                                         0.075065\n",
      "other and laughing about it                   0.094856\n",
      "other and somewhat serious about it           0.070922\n",
      "other and very serious about it               0.101313\n",
      "other but not too serious about it            0.050193\n",
      "Name: ethnicity, dtype: float64\n",
      "sex\n",
      "f    0.100137\n",
      "m    0.091127\n",
      "Name: ethnicity, dtype: float64\n",
      "income\n",
      "-1          0.102390\n",
      " 20000      0.062331\n",
      " 30000      0.048664\n",
      " 40000      0.053731\n",
      " 50000      0.057436\n",
      " 60000      0.050272\n",
      " 70000      0.073550\n",
      " 80000      0.067507\n",
      " 100000     0.061073\n",
      " 150000     0.049128\n",
      " 250000     0.087248\n",
      " 500000     0.125000\n",
      " 1000000    0.119002\n",
      "Name: ethnicity, dtype: float64\n"
     ]
    }
   ],
   "source": [
    "#From previous dataset info, it is known that ethnicity has missing values\n",
    "\n",
    "#how many missing values?\n",
    "\n",
    "print(profiles['ethnicity'].isna().value_counts())\n",
    "\n",
    "#Is ethnicity missing more often for certain age groups, genders, orientations, or essay lengths?\n",
    "print(profiles['ethnicity'].isna().groupby(profiles['age']).mean())\n",
    "print(profiles['ethnicity'].isna().groupby(profiles['orientation']).mean())\n",
    "print(profiles['ethnicity'].isna().groupby(profiles['religion']).mean())\n",
    "print(profiles['ethnicity'].isna().groupby(profiles['sex']).mean())\n",
    "print(profiles['ethnicity'].isna().groupby(profiles['income']).mean())"
   ]
  },
  {
   "cell_type": "code",
   "execution_count": 144,
   "metadata": {},
   "outputs": [
    {
     "name": "stdout",
     "output_type": "stream",
     "text": [
      "ethnicity\n",
      "white                                                                 32831\n",
      "asian                                                                  6134\n",
      "unknown                                                                5680\n",
      "hispanic / latin                                                       2823\n",
      "black                                                                  2008\n",
      "                                                                      ...  \n",
      "middle eastern, indian, white                                             1\n",
      "asian, middle eastern, black, white, other                                1\n",
      "asian, middle eastern, indian, hispanic / latin, white, other             1\n",
      "black, native american, indian, pacific islander, hispanic / latin        1\n",
      "asian, black, indian                                                      1\n",
      "Name: count, Length: 218, dtype: int64\n"
     ]
    }
   ],
   "source": [
    "#From proportions above, we can assume MCAR, since there's no clear reason why the data is missing and all proportions are roughly equal.\n",
    "\n",
    "#Every missing value will be replaced with 'unknown'\n",
    "\n",
    "#new dataset that only contains ethnicity and income\n",
    "eth_inc_filtered = profiles[['ethnicity', 'income']]\n",
    "\n",
    "#filling NaN with 'unknown'\n",
    "eth_inc_filtered = eth_inc_filtered.fillna(value={'ethnicity': 'unknown'})\n",
    "\n",
    "#plotting the proportions of ethnicities\n",
    "#getting unique values of ethnicities\n",
    "print(eth_inc_filtered['ethnicity'].value_counts())\n",
    "\n",
    "#There are 218 possible values for ethnicity, let's keep a maximum of 2 mixes to simplify the dataset (i.e black, white)\n",
    "eth_inc_filtered['simple_ethnicity'] = eth_inc_filtered['ethnicity'].apply(\n",
    "    lambda x: 1 if isinstance(x, str) and x.count(',') <= 1 else 0\n",
    ")\n",
    "\n",
    "#updating the ethnicities with more than two mixes with the word 'mixed ethnicity'\n",
    "eth_inc_filtered['ethnicity'] = eth_inc_filtered.apply(lambda x: x['ethnicity'] if x['simple_ethnicity'] == 1\n",
    "                                                                    else \"mixed ethnicity\", axis=1)\n",
    "\n",
    "\n"
   ]
  },
  {
   "cell_type": "code",
   "execution_count": null,
   "metadata": {},
   "outputs": [
    {
     "name": "stdout",
     "output_type": "stream",
     "text": [
      "                  ethnicity  income  simple_ethnicity\n",
      "0              asian, white      -1                 1\n",
      "1                     white   80000                 1\n",
      "2                   unknown      -1                 1\n",
      "3                     white   20000                 1\n",
      "4           mixed ethnicity      -1                 0\n",
      "5                     white      -1                 1\n",
      "6              white, other      -1                 1\n",
      "7                     white      -1                 1\n",
      "8                     white      -1                 1\n",
      "9                     white      -1                 1\n",
      "10                    white      -1                 1\n",
      "11                    white   40000                 1\n",
      "12                    white      -1                 1\n",
      "13                    white   30000                 1\n",
      "14  hispanic / latin, white   50000                 1\n",
      "15                    white      -1                 1\n",
      "16                    white      -1                 1\n",
      "17         hispanic / latin      -1                 1\n",
      "18                    white      -1                 1\n",
      "19                    white      -1                 1\n",
      "47\n"
     ]
    }
   ],
   "source": [
    "#new dataset with a column with an indicator: 1 if simple ethnicity or maximum two mixed. The rest are zero\n",
    "print(eth_inc_filtered.head(20))\n",
    "print(len(eth_inc_filtered['ethnicity'].value_counts()))"
   ]
  },
  {
   "cell_type": "code",
   "execution_count": 152,
   "metadata": {},
   "outputs": [
    {
     "name": "stdout",
     "output_type": "stream",
     "text": [
      "59946\n",
      "48442\n"
     ]
    }
   ],
   "source": [
    "print(len(eth_inc_filtered))\n",
    "print(np.sum(eth_inc_filtered['income'] == -1))\n",
    "\n",
    "#Since there are 48.442 missing values for income, the only option is to drop them all, or imputation. \n",
    "# With 81% missing, imputation is likely to introduce bias or noise"
   ]
  },
  {
   "cell_type": "markdown",
   "metadata": {},
   "source": [
    "#### Conclusion on Q4: With 81% missing for the income feature, imputation is likely to introduce bias or noise"
   ]
  },
  {
   "cell_type": "markdown",
   "metadata": {},
   "source": [
    "#### Q5 : Relationship between orientation and religion"
   ]
  },
  {
   "cell_type": "code",
   "execution_count": 163,
   "metadata": {},
   "outputs": [
    {
     "name": "stdout",
     "output_type": "stream",
     "text": [
      "religion\n",
      "agnosticism                                   2724\n",
      "other                                         2691\n",
      "agnosticism but not too serious about it      2636\n",
      "agnosticism and laughing about it             2496\n",
      "catholicism but not too serious about it      2318\n",
      "atheism                                       2175\n",
      "other and laughing about it                   2119\n",
      "atheism and laughing about it                 2074\n",
      "christianity                                  1957\n",
      "christianity but not too serious about it     1952\n",
      "other but not too serious about it            1554\n",
      "judaism but not too serious about it          1517\n",
      "atheism but not too serious about it          1318\n",
      "catholicism                                   1064\n",
      "christianity and somewhat serious about it     927\n",
      "atheism and somewhat serious about it          848\n",
      "other and somewhat serious about it            846\n",
      "catholicism and laughing about it              726\n",
      "judaism and laughing about it                  681\n",
      "buddhism but not too serious about it          650\n",
      "agnosticism and somewhat serious about it      642\n",
      "judaism                                        612\n",
      "christianity and very serious about it         578\n",
      "atheism and very serious about it              570\n",
      "catholicism and somewhat serious about it      548\n",
      "other and very serious about it                533\n",
      "buddhism and laughing about it                 466\n",
      "buddhism                                       403\n",
      "christianity and laughing about it             373\n",
      "buddhism and somewhat serious about it         359\n",
      "agnosticism and very serious about it          314\n",
      "judaism and somewhat serious about it          266\n",
      "hinduism but not too serious about it          227\n",
      "hinduism                                       107\n",
      "catholicism and very serious about it          102\n",
      "buddhism and very serious about it              70\n",
      "hinduism and somewhat serious about it          58\n",
      "islam                                           48\n",
      "hinduism and laughing about it                  44\n",
      "islam but not too serious about it              40\n",
      "judaism and very serious about it               22\n",
      "islam and somewhat serious about it             22\n",
      "islam and laughing about it                     16\n",
      "hinduism and very serious about it              14\n",
      "islam and very serious about it                 13\n",
      "Name: count, dtype: int64\n",
      "45\n"
     ]
    }
   ],
   "source": [
    "#new dataset that only contains orientation and religion\n",
    "ort_relg_filtered = profiles[['orientation', 'religion']]\n",
    "\n",
    "#value counts for religion to check the nature of missing values\n",
    "print(ort_relg_filtered['religion'].value_counts())\n",
    "print(len(ort_relg_filtered['religion'].value_counts()))"
   ]
  },
  {
   "cell_type": "code",
   "execution_count": 168,
   "metadata": {},
   "outputs": [
    {
     "name": "stdout",
     "output_type": "stream",
     "text": [
      "Number of missing values for religion: 20226\n"
     ]
    }
   ],
   "source": [
    "#There are 45 categories in religion, how many missing values?\n",
    "print(f\"Number of missing values for religion: {np.sum(ort_relg_filtered['religion'].isna())}\")"
   ]
  },
  {
   "cell_type": "code",
   "execution_count": 171,
   "metadata": {},
   "outputs": [
    {
     "name": "stderr",
     "output_type": "stream",
     "text": [
      "C:\\Users\\ntama\\AppData\\Local\\Temp\\ipykernel_16544\\757562915.py:2: SettingWithCopyWarning: \n",
      "A value is trying to be set on a copy of a slice from a DataFrame.\n",
      "Try using .loc[row_indexer,col_indexer] = value instead\n",
      "\n",
      "See the caveats in the documentation: https://pandas.pydata.org/pandas-docs/stable/user_guide/indexing.html#returning-a-view-versus-a-copy\n",
      "  ort_relg_filtered['religion_base'] = ort_relg_filtered['religion'].str.extract(r'^(\\w+)')\n"
     ]
    }
   ],
   "source": [
    "#Grouping by religion base with regex, regardless the level of strictness about it\n",
    "ort_relg_filtered['religion_base'] = ort_relg_filtered['religion'].str.extract(r'^(\\w+)')"
   ]
  },
  {
   "cell_type": "code",
   "execution_count": 173,
   "metadata": {},
   "outputs": [
    {
     "name": "stdout",
     "output_type": "stream",
     "text": [
      "orientation    bisexual  gay  straight\n",
      "religion_base                         \n",
      "agnosticism         445  782      7585\n",
      "atheism             510  663      5812\n",
      "buddhism            134  275      1539\n",
      "catholicism          79  415      4264\n",
      "christianity        140  393      5254\n",
      "hinduism              9   26       415\n",
      "islam                 5    9       125\n",
      "judaism             129  232      2737\n",
      "other               620  828      6295\n"
     ]
    }
   ],
   "source": [
    "grouped = ort_relg_filtered.groupby(['religion_base', 'orientation']).size().unstack(fill_value=0)\n",
    "print(grouped)\n"
   ]
  },
  {
   "cell_type": "code",
   "execution_count": null,
   "metadata": {},
   "outputs": [
    {
     "name": "stdout",
     "output_type": "stream",
     "text": [
      "orientation    bisexual  gay  straight\n",
      "religion_base                         \n",
      "agnosticism         445  782      7585\n",
      "atheism             510  663      5812\n",
      "buddhism            134  275      1539\n",
      "catholicism          79  415      4264\n",
      "christianity        140  393      5254\n",
      "hinduism              9   26       415\n",
      "islam                 5    9       125\n",
      "judaism             129  232      2737\n",
      "other               620  828      6295\n"
     ]
    }
   ],
   "source": [
    "#contingency table (observed)\n",
    "cross_ort_relg = pd.crosstab(ort_relg_filtered['religion_base'], ort_relg_filtered['orientation'])\n",
    "print(cross_ort_relg)"
   ]
  },
  {
   "cell_type": "code",
   "execution_count": null,
   "metadata": {},
   "outputs": [
    {
     "name": "stdout",
     "output_type": "stream",
     "text": [
      "orientation    bisexual       gay  straight\n",
      "religion_base                              \n",
      "agnosticism    0.007423  0.013045  0.126531\n",
      "atheism        0.008508  0.011060  0.096954\n",
      "buddhism       0.002235  0.004587  0.025673\n",
      "catholicism    0.001318  0.006923  0.071131\n",
      "christianity   0.002335  0.006556  0.087646\n",
      "hinduism       0.000150  0.000434  0.006923\n",
      "islam          0.000083  0.000150  0.002085\n",
      "judaism        0.002152  0.003870  0.045658\n",
      "other          0.010343  0.013812  0.105011\n"
     ]
    }
   ],
   "source": [
    "#contingency table with proportions (observed)\n",
    "props_ort_relg = cross_ort_relg/len(ort_relg_filtered)\n",
    "print(props_ort_relg)"
   ]
  },
  {
   "cell_type": "code",
   "execution_count": 183,
   "metadata": {},
   "outputs": [
    {
     "name": "stdout",
     "output_type": "stream",
     "text": [
      "religion_base\n",
      "agnosticism     0.146999\n",
      "atheism         0.116522\n",
      "buddhism        0.032496\n",
      "catholicism     0.079371\n",
      "christianity    0.096537\n",
      "hinduism        0.007507\n",
      "islam           0.002319\n",
      "judaism         0.051680\n",
      "other           0.129166\n",
      "dtype: float64\n",
      "orientation\n",
      "bisexual    0.034548\n",
      "gay         0.060438\n",
      "straight    0.567611\n",
      "dtype: float64\n"
     ]
    }
   ],
   "source": [
    "#Marginal proportions \n",
    "religion_marginals = props_ort_relg.sum(axis=1)\n",
    "orientation_marginals = props_ort_relg.sum(axis=0)\n",
    "print(religion_marginals)\n",
    "print(orientation_marginals)"
   ]
  },
  {
   "cell_type": "code",
   "execution_count": null,
   "metadata": {},
   "outputs": [],
   "source": [
    "#Expected contingency table with proportions\n"
   ]
  }
 ],
 "metadata": {
  "kernelspec": {
   "display_name": "Python (Anaconda Base)",
   "language": "python",
   "name": "base"
  },
  "language_info": {
   "codemirror_mode": {
    "name": "ipython",
    "version": 3
   },
   "file_extension": ".py",
   "mimetype": "text/x-python",
   "name": "python",
   "nbconvert_exporter": "python",
   "pygments_lexer": "ipython3",
   "version": "3.11.7"
  }
 },
 "nbformat": 4,
 "nbformat_minor": 4
}
