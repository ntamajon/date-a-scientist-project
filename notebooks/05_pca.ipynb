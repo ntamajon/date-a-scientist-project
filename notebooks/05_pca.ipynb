{
 "cells": [
  {
   "cell_type": "markdown",
   "id": "922def24",
   "metadata": {},
   "source": [
    "# Dimensionality Reduction with PCA"
   ]
  },
  {
   "cell_type": "code",
   "execution_count": 21,
   "id": "9e5afce7",
   "metadata": {},
   "outputs": [],
   "source": [
    "#Importing all libraries\n",
    "import pandas as pd\n",
    "import numpy as np\n",
    "import matplotlib.pyplot as plt\n",
    "import seaborn as sns\n",
    "import math\n",
    "import os\n",
    "from itertools import combinations\n",
    "from sklearn.model_selection import train_test_split\n",
    "from sklearn.metrics import accuracy_score\n",
    "from sklearn.metrics import precision_score\n",
    "from sklearn.metrics import recall_score\n",
    "from sklearn.metrics import f1_score\n",
    "from sklearn.model_selection import GridSearchCV\n",
    "from sklearn.metrics import confusion_matrix\n",
    "from sklearn.metrics import classification_report, make_scorer\n",
    "from sklearn.utils.class_weight import compute_sample_weight\n",
    "from sklearn.ensemble import RandomForestClassifier\n",
    "from sklearn.decomposition import PCA"
   ]
  },
  {
   "cell_type": "code",
   "execution_count": 22,
   "id": "2e227777",
   "metadata": {},
   "outputs": [
    {
     "name": "stdout",
     "output_type": "stream",
     "text": [
      "c:\\Users\\ntama\\Documentos\\Data Science\\Codecademy\\projects\\Date-A-Scientist - Final Project\\OKCupid-Date-A-Scientist-Starter\\date-a-scientist-project\\notebooks\n"
     ]
    }
   ],
   "source": [
    "print(os.getcwd())"
   ]
  },
  {
   "cell_type": "markdown",
   "id": "678efebe",
   "metadata": {},
   "source": [
    "## Importing predictors and target - train, test and validation subsets"
   ]
  },
  {
   "cell_type": "code",
   "execution_count": 23,
   "id": "78b9731f",
   "metadata": {},
   "outputs": [],
   "source": [
    "X_train = pd.read_csv(\"../data/X_train.csv\", index_col=False)\n",
    "X_train = X_train.loc[:, ~X_train.columns.str.contains('^Unnamed')]\n",
    "\n",
    "X_val = pd.read_csv(\"../data/X_val.csv\", index_col=False)\n",
    "X_val = X_val.loc[:, ~X_val.columns.str.contains('^Unnamed')]\n",
    "\n",
    "X_test = pd.read_csv(\"../data/X_test.csv\", index_col=False)\n",
    "X_test = X_test.loc[:, ~X_test.columns.str.contains('^Unnamed')]\n",
    "\n",
    "y_train = pd.read_csv(\"../data/y_train.csv\", index_col=False)\n",
    "y_train = y_train.loc[:, ~y_train.columns.str.contains('^Unnamed')]\n",
    "\n",
    "y_val = pd.read_csv(\"../data/y_val.csv\", index_col=False)\n",
    "y_val = y_val.loc[:, ~y_val.columns.str.contains('^Unnamed')]\n",
    "\n",
    "y_test = pd.read_csv(\"../data/y_test.csv\", index_col=False)\n",
    "y_test = y_test.loc[:, ~y_test.columns.str.contains('^Unnamed')]"
   ]
  },
  {
   "cell_type": "code",
   "execution_count": 24,
   "id": "ac1500e5",
   "metadata": {},
   "outputs": [],
   "source": [
    "pca = PCA(n_components=0.95, random_state=42)  # o un número fijo de componentes\n",
    "X_train_pca = pca.fit_transform(X_train)       # fit sólo con train\n",
    "X_val_pca = pca.transform(X_val)               # transform con val y test\n",
    "X_test_pca = pca.transform(X_test)"
   ]
  },
  {
   "cell_type": "code",
   "execution_count": 25,
   "id": "f07489ca",
   "metadata": {},
   "outputs": [
    {
     "name": "stderr",
     "output_type": "stream",
     "text": [
      "c:\\Users\\ntama\\anaconda3\\Lib\\site-packages\\sklearn\\base.py:1389: DataConversionWarning: A column-vector y was passed when a 1d array was expected. Please change the shape of y to (n_samples,), for example using ravel().\n",
      "  return fit_method(estimator, *args, **kwargs)\n"
     ]
    },
    {
     "name": "stdout",
     "output_type": "stream",
     "text": [
      "Evaluación con PCA:\n",
      "              precision    recall  f1-score   support\n",
      "\n",
      "           0       0.53      0.53      0.53      4147\n",
      "           1       0.41      0.29      0.34      3514\n",
      "           2       0.22      0.39      0.28      1331\n",
      "\n",
      "    accuracy                           0.42      8992\n",
      "   macro avg       0.39      0.40      0.38      8992\n",
      "weighted avg       0.44      0.42      0.42      8992\n",
      "\n",
      "[[2197 1083  867]\n",
      " [1531 1030  953]\n",
      " [ 425  389  517]]\n"
     ]
    }
   ],
   "source": [
    "rf = RandomForestClassifier(class_weight='balanced', random_state=42, n_jobs=-1)\n",
    "rf.fit(X_train_pca, y_train)\n",
    "\n",
    "y_val_pred = rf.predict(X_val_pca)\n",
    "print(\"Evaluación con PCA:\")\n",
    "print(classification_report(y_val, y_val_pred))\n",
    "print(confusion_matrix(y_val, y_val_pred))"
   ]
  },
  {
   "cell_type": "markdown",
   "id": "46068dac",
   "metadata": {},
   "source": [
    "## Checking class imbalance"
   ]
  },
  {
   "cell_type": "code",
   "execution_count": 26,
   "id": "14cc0f73",
   "metadata": {},
   "outputs": [
    {
     "name": "stdout",
     "output_type": "stream",
     "text": [
      "body_type\n",
      "0            19354\n",
      "1            16398\n",
      "2             6210\n",
      "Name: count, dtype: int64\n"
     ]
    }
   ],
   "source": [
    "print(y_train.value_counts())"
   ]
  },
  {
   "cell_type": "markdown",
   "id": "baddbb65",
   "metadata": {},
   "source": [
    "Classes 2 and 3 are minoritarian."
   ]
  }
 ],
 "metadata": {
  "kernelspec": {
   "display_name": "Python (Anaconda Base)",
   "language": "python",
   "name": "base"
  },
  "language_info": {
   "codemirror_mode": {
    "name": "ipython",
    "version": 3
   },
   "file_extension": ".py",
   "mimetype": "text/x-python",
   "name": "python",
   "nbconvert_exporter": "python",
   "pygments_lexer": "ipython3",
   "version": "3.11.7"
  }
 },
 "nbformat": 4,
 "nbformat_minor": 5
}
