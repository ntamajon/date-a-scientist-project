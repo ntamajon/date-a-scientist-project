{
 "cells": [
  {
   "cell_type": "code",
   "execution_count": 443,
   "metadata": {},
   "outputs": [],
   "source": [
    "#Importing all libraries\n",
    "import pandas as pd\n",
    "import numpy as np\n",
    "import matplotlib.pyplot as plt\n",
    "import seaborn as sns\n",
    "import math\n",
    "import os\n",
    "from itertools import combinations\n",
    "from scipy.stats import chi2_contingency\n",
    "import category_encoders as ce\n",
    "from sklearn.preprocessing import StandardScaler\n"
   ]
  },
  {
   "cell_type": "code",
   "execution_count": 382,
   "metadata": {},
   "outputs": [
    {
     "data": {
      "text/html": [
       "<div>\n",
       "<style scoped>\n",
       "    .dataframe tbody tr th:only-of-type {\n",
       "        vertical-align: middle;\n",
       "    }\n",
       "\n",
       "    .dataframe tbody tr th {\n",
       "        vertical-align: top;\n",
       "    }\n",
       "\n",
       "    .dataframe thead th {\n",
       "        text-align: right;\n",
       "    }\n",
       "</style>\n",
       "<table border=\"1\" class=\"dataframe\">\n",
       "  <thead>\n",
       "    <tr style=\"text-align: right;\">\n",
       "      <th></th>\n",
       "      <th>age</th>\n",
       "      <th>body_type</th>\n",
       "      <th>diet</th>\n",
       "      <th>drinks</th>\n",
       "      <th>drugs</th>\n",
       "      <th>education</th>\n",
       "      <th>ethnicity</th>\n",
       "      <th>height</th>\n",
       "      <th>job</th>\n",
       "      <th>offspring</th>\n",
       "      <th>orientation</th>\n",
       "      <th>religion</th>\n",
       "      <th>sex</th>\n",
       "      <th>sign</th>\n",
       "      <th>smokes</th>\n",
       "      <th>status</th>\n",
       "      <th>dogs</th>\n",
       "      <th>cats</th>\n",
       "    </tr>\n",
       "  </thead>\n",
       "  <tbody>\n",
       "    <tr>\n",
       "      <th>0</th>\n",
       "      <td>22</td>\n",
       "      <td>larger</td>\n",
       "      <td>anything</td>\n",
       "      <td>a little</td>\n",
       "      <td>never</td>\n",
       "      <td>college</td>\n",
       "      <td>asian</td>\n",
       "      <td>75.0</td>\n",
       "      <td>service</td>\n",
       "      <td>no kids</td>\n",
       "      <td>straight</td>\n",
       "      <td>agnosticism</td>\n",
       "      <td>m</td>\n",
       "      <td>gemini</td>\n",
       "      <td>yes</td>\n",
       "      <td>single</td>\n",
       "      <td>likes dogs</td>\n",
       "      <td>likes cats</td>\n",
       "    </tr>\n",
       "    <tr>\n",
       "      <th>1</th>\n",
       "      <td>35</td>\n",
       "      <td>average</td>\n",
       "      <td>other</td>\n",
       "      <td>a lot</td>\n",
       "      <td>sometimes</td>\n",
       "      <td>other</td>\n",
       "      <td>white</td>\n",
       "      <td>70.0</td>\n",
       "      <td>service</td>\n",
       "      <td>no kids</td>\n",
       "      <td>straight</td>\n",
       "      <td>agnosticism</td>\n",
       "      <td>m</td>\n",
       "      <td>cancer</td>\n",
       "      <td>no</td>\n",
       "      <td>single</td>\n",
       "      <td>likes dogs</td>\n",
       "      <td>likes cats</td>\n",
       "    </tr>\n",
       "    <tr>\n",
       "      <th>2</th>\n",
       "      <td>38</td>\n",
       "      <td>thin</td>\n",
       "      <td>anything</td>\n",
       "      <td>a little</td>\n",
       "      <td>unknown</td>\n",
       "      <td>masters</td>\n",
       "      <td>unknown</td>\n",
       "      <td>68.0</td>\n",
       "      <td>unknown</td>\n",
       "      <td>unknown</td>\n",
       "      <td>straight</td>\n",
       "      <td>unknown</td>\n",
       "      <td>m</td>\n",
       "      <td>pisces</td>\n",
       "      <td>no</td>\n",
       "      <td>available</td>\n",
       "      <td>no dogs</td>\n",
       "      <td>has cats</td>\n",
       "    </tr>\n",
       "    <tr>\n",
       "      <th>3</th>\n",
       "      <td>23</td>\n",
       "      <td>thin</td>\n",
       "      <td>vegetarian</td>\n",
       "      <td>a little</td>\n",
       "      <td>unknown</td>\n",
       "      <td>college</td>\n",
       "      <td>white</td>\n",
       "      <td>71.0</td>\n",
       "      <td>student</td>\n",
       "      <td>unsure</td>\n",
       "      <td>straight</td>\n",
       "      <td>unknown</td>\n",
       "      <td>m</td>\n",
       "      <td>pisces</td>\n",
       "      <td>no</td>\n",
       "      <td>single</td>\n",
       "      <td>no dogs</td>\n",
       "      <td>likes cats</td>\n",
       "    </tr>\n",
       "    <tr>\n",
       "      <th>4</th>\n",
       "      <td>29</td>\n",
       "      <td>fit</td>\n",
       "      <td>unknown</td>\n",
       "      <td>a little</td>\n",
       "      <td>never</td>\n",
       "      <td>college</td>\n",
       "      <td>asian</td>\n",
       "      <td>66.0</td>\n",
       "      <td>creative</td>\n",
       "      <td>unknown</td>\n",
       "      <td>straight</td>\n",
       "      <td>unknown</td>\n",
       "      <td>m</td>\n",
       "      <td>aquarius</td>\n",
       "      <td>no</td>\n",
       "      <td>single</td>\n",
       "      <td>likes dogs</td>\n",
       "      <td>likes cats</td>\n",
       "    </tr>\n",
       "  </tbody>\n",
       "</table>\n",
       "</div>"
      ],
      "text/plain": [
       "   age body_type        diet    drinks      drugs education ethnicity  height  \\\n",
       "0   22    larger    anything  a little      never   college     asian    75.0   \n",
       "1   35   average       other     a lot  sometimes     other     white    70.0   \n",
       "2   38      thin    anything  a little    unknown   masters   unknown    68.0   \n",
       "3   23      thin  vegetarian  a little    unknown   college     white    71.0   \n",
       "4   29       fit     unknown  a little      never   college     asian    66.0   \n",
       "\n",
       "        job offspring orientation     religion sex      sign smokes  \\\n",
       "0   service   no kids    straight  agnosticism   m    gemini    yes   \n",
       "1   service   no kids    straight  agnosticism   m    cancer     no   \n",
       "2   unknown   unknown    straight      unknown   m    pisces     no   \n",
       "3   student    unsure    straight      unknown   m    pisces     no   \n",
       "4  creative   unknown    straight      unknown   m  aquarius     no   \n",
       "\n",
       "      status        dogs        cats  \n",
       "0     single  likes dogs  likes cats  \n",
       "1     single  likes dogs  likes cats  \n",
       "2  available     no dogs    has cats  \n",
       "3     single     no dogs  likes cats  \n",
       "4     single  likes dogs  likes cats  "
      ]
     },
     "execution_count": 382,
     "metadata": {},
     "output_type": "execute_result"
    }
   ],
   "source": [
    "#Importing dataset cleaned and filtered from EDA\n",
    "profiles = pd.read_csv('../data/profiles_eda.csv', index_col=False)\n",
    "profiles = profiles.loc[:, ~profiles.columns.str.contains('^Unnamed')]\n",
    "profiles.head()"
   ]
  },
  {
   "cell_type": "markdown",
   "metadata": {},
   "source": [
    "### 01.- Encoding categorical variables"
   ]
  },
  {
   "cell_type": "markdown",
   "metadata": {},
   "source": [
    "#### Encoding 'body_type'"
   ]
  },
  {
   "cell_type": "code",
   "execution_count": 383,
   "metadata": {},
   "outputs": [
    {
     "name": "stdout",
     "output_type": "stream",
     "text": [
      "body_type\n",
      "fit        24951\n",
      "average    14652\n",
      "thin        6488\n",
      "unknown     5293\n",
      "curvy       4933\n",
      "larger      3073\n",
      "other        553\n",
      "Name: count, dtype: int64\n"
     ]
    }
   ],
   "source": [
    "#checking unique variables\n",
    "print(profiles['body_type'].value_counts())"
   ]
  },
  {
   "cell_type": "markdown",
   "metadata": {},
   "source": [
    "Ordinal encoding seems to be the best option for this variable (degree of fitness). the value 'unknown' introduces a type of body that does not follow any order among the body types. Imputation with the mode would introduce bias to the variable, so best option is to impute by assuming 'unknown' = 'average'"
   ]
  },
  {
   "cell_type": "code",
   "execution_count": 384,
   "metadata": {},
   "outputs": [],
   "source": [
    "profiles['body_type'] = profiles['body_type'].replace('unknown', 'average')\n",
    "profiles['body_type'] = profiles['body_type'].replace('other', 'average')\n",
    "body_type_mapping = {\n",
    "    'thin': 0,\n",
    "    'average': 1,\n",
    "    'fit': 2,\n",
    "    'curvy': 3,\n",
    "    'larger': 4\n",
    "}\n",
    "\n",
    "profiles['body_type'] = profiles['body_type'].map(body_type_mapping)"
   ]
  },
  {
   "cell_type": "code",
   "execution_count": 385,
   "metadata": {},
   "outputs": [
    {
     "name": "stdout",
     "output_type": "stream",
     "text": [
      "body_type\n",
      "2    24951\n",
      "1    20498\n",
      "0     6488\n",
      "3     4933\n",
      "4     3073\n",
      "Name: count, dtype: int64\n"
     ]
    }
   ],
   "source": [
    "print(profiles['body_type'].value_counts())"
   ]
  },
  {
   "cell_type": "markdown",
   "metadata": {},
   "source": [
    "#### Encoding 'diet'"
   ]
  },
  {
   "cell_type": "code",
   "execution_count": 386,
   "metadata": {},
   "outputs": [
    {
     "name": "stdout",
     "output_type": "stream",
     "text": [
      "diet\n",
      "anything      27881\n",
      "unknown       24392\n",
      "vegetarian     4986\n",
      "other          1790\n",
      "vegan           702\n",
      "kosher          115\n",
      "halal            77\n",
      "Name: count, dtype: int64\n"
     ]
    }
   ],
   "source": [
    "#checking unique variables\n",
    "print(profiles['diet'].value_counts())"
   ]
  },
  {
   "cell_type": "markdown",
   "metadata": {},
   "source": [
    "Imputation of the value 'unknown' with the mode assuming people give a lot of importance to saying their diet in very specific cases"
   ]
  },
  {
   "cell_type": "code",
   "execution_count": 387,
   "metadata": {},
   "outputs": [],
   "source": [
    "profiles['diet'] = profiles['diet'].replace('unknown', 'anything')"
   ]
  },
  {
   "cell_type": "code",
   "execution_count": 388,
   "metadata": {},
   "outputs": [],
   "source": [
    "#One-Hot encoding for the value 'diet'\n",
    "profiles = pd.get_dummies(profiles, columns=['diet'])"
   ]
  },
  {
   "cell_type": "markdown",
   "metadata": {},
   "source": [
    "#### Encoding 'drinks'"
   ]
  },
  {
   "cell_type": "code",
   "execution_count": 389,
   "metadata": {},
   "outputs": [
    {
     "name": "stdout",
     "output_type": "stream",
     "text": [
      "drinks\n",
      "a little      47737\n",
      "a lot          5957\n",
      "not at all     3267\n",
      "unknown        2982\n",
      "Name: count, dtype: int64\n"
     ]
    }
   ],
   "source": [
    "#checking unique variables\n",
    "print(profiles['drinks'].value_counts())"
   ]
  },
  {
   "cell_type": "code",
   "execution_count": 390,
   "metadata": {},
   "outputs": [],
   "source": [
    "#Imputation of the value 'unknown' with the mode 'a little'\n",
    "profiles['drinks'] = profiles['drinks'].replace('unknown', 'a little')"
   ]
  },
  {
   "cell_type": "code",
   "execution_count": 391,
   "metadata": {},
   "outputs": [],
   "source": [
    "drinks_mapping = {\n",
    "    'not at all': 0,\n",
    "    'a little': 1,\n",
    "    'a lot': 2    \n",
    "}\n",
    "\n",
    "profiles['drinks'] = profiles['drinks'].map(drinks_mapping)"
   ]
  },
  {
   "cell_type": "markdown",
   "metadata": {},
   "source": [
    "Encoding 'drugs'"
   ]
  },
  {
   "cell_type": "code",
   "execution_count": 392,
   "metadata": {},
   "outputs": [
    {
     "name": "stdout",
     "output_type": "stream",
     "text": [
      "drugs\n",
      "never        37723\n",
      "unknown      14078\n",
      "sometimes     7732\n",
      "often          410\n",
      "Name: count, dtype: int64\n",
      "drugs\n",
      "never        0.629315\n",
      "unknown      0.234856\n",
      "sometimes    0.128989\n",
      "often        0.006840\n",
      "Name: proportion, dtype: float64\n"
     ]
    }
   ],
   "source": [
    "#checking unique values with total counts\n",
    "count_drg_unk = profiles['drugs'].value_counts(0)\n",
    "print(count_drg_unk)\n",
    "#checking unique values with proportions\n",
    "print(profiles['drugs'].value_counts(1))"
   ]
  },
  {
   "cell_type": "code",
   "execution_count": 393,
   "metadata": {},
   "outputs": [
    {
     "name": "stdout",
     "output_type": "stream",
     "text": [
      "drugs\n",
      "never        0.822479\n",
      "sometimes    0.168582\n",
      "often        0.008939\n",
      "Name: proportion, dtype: float64\n"
     ]
    }
   ],
   "source": [
    "#checking unique variables\n",
    "proportions_drugs = profiles.loc[profiles['drugs'] != 'unknown', 'drugs'].value_counts(normalize=True)\n",
    "print(proportions_drugs)"
   ]
  },
  {
   "cell_type": "markdown",
   "metadata": {},
   "source": [
    "Imputation will assign to 'unknown' three different values: 'never', 'sometimes', 'often' in the same proportions they repeat along the dataset. </br>\n",
    "That is, for all 14078 values the following substitutions: </br>"
   ]
  },
  {
   "cell_type": "code",
   "execution_count": 394,
   "metadata": {},
   "outputs": [
    {
     "name": "stdout",
     "output_type": "stream",
     "text": [
      "'never': 11579 values\n",
      "'sometimes': 2373 values\n",
      "'often': 126 values\n"
     ]
    }
   ],
   "source": [
    "print(f\"'never': {int(round(count_drg_unk.iloc[1] * proportions_drugs.iloc[0],0))} values\")\n",
    "print(f\"'sometimes': {int(round(count_drg_unk.iloc[1] * proportions_drugs.iloc[1],0))} values\")\n",
    "print(f\"'often': {int(round(count_drg_unk.iloc[1] * proportions_drugs.iloc[2],0))} values\")\n"
   ]
  },
  {
   "cell_type": "code",
   "execution_count": 395,
   "metadata": {},
   "outputs": [],
   "source": [
    "# Find the indices where drugs == 'unknown'\n",
    "unknown_idx = profiles[profiles['drugs'] == 'unknown'].index\n",
    "\n",
    "# Number of unknowns\n",
    "n_unknown = len(unknown_idx)\n",
    "\n",
    "# Calculate how many to assign each new value\n",
    "n_never = int(round(proportions_drugs.iloc[0],0) * n_unknown)\n",
    "n_sometimes = int(round(proportions_drugs.iloc[1],0) * n_unknown)\n",
    "n_often = int((round(proportions_drugs.iloc[2],0) * n_unknown)+2)\n",
    "\n",
    "# Shuffle indices for random assignment\n",
    "shuffled_idx = np.random.permutation(unknown_idx)\n",
    "\n",
    "# Assign 'never'\n",
    "profiles.loc[shuffled_idx[:n_never], 'drugs'] = 'never'\n",
    "\n",
    "# Assign 'sometimes'\n",
    "profiles.loc[shuffled_idx[n_never:n_never+n_sometimes], 'drugs'] = 'sometimes'\n",
    "\n",
    "# Assign 'often'\n",
    "profiles.loc[shuffled_idx[n_never+n_sometimes:n_never+n_sometimes+n_often], 'drugs'] = 'often'"
   ]
  },
  {
   "cell_type": "code",
   "execution_count": 396,
   "metadata": {},
   "outputs": [
    {
     "data": {
      "text/plain": [
       "drugs\n",
       "never        51801\n",
       "sometimes     7732\n",
       "often          410\n",
       "Name: count, dtype: int64"
      ]
     },
     "execution_count": 396,
     "metadata": {},
     "output_type": "execute_result"
    }
   ],
   "source": [
    "profiles['drugs'].value_counts()"
   ]
  },
  {
   "cell_type": "code",
   "execution_count": 397,
   "metadata": {},
   "outputs": [],
   "source": [
    "#ordinal encoding for 'drugs'\n",
    "drugs_mapping = {\n",
    "    'never': 0,\n",
    "    'sometimes': 1,\n",
    "    'often': 2    \n",
    "}\n",
    "\n",
    "profiles['drugs'] = profiles['drugs'].map(drugs_mapping)"
   ]
  },
  {
   "cell_type": "markdown",
   "metadata": {},
   "source": [
    "Encoding 'education'"
   ]
  },
  {
   "cell_type": "code",
   "execution_count": 398,
   "metadata": {},
   "outputs": [
    {
     "name": "stdout",
     "output_type": "stream",
     "text": [
      "education\n",
      "college             31467\n",
      "masters             10920\n",
      "unknown              6625\n",
      "two_year_college     3018\n",
      "phd                  2408\n",
      "high_school          1713\n",
      "other                1683\n",
      "law                  1428\n",
      "med                   681\n",
      "Name: count, dtype: int64\n"
     ]
    }
   ],
   "source": [
    "print(profiles['education'].value_counts())"
   ]
  },
  {
   "cell_type": "code",
   "execution_count": 399,
   "metadata": {},
   "outputs": [
    {
     "name": "stdout",
     "output_type": "stream",
     "text": [
      "education\n",
      "college             31467\n",
      "masters             10920\n",
      "unknown              6625\n",
      "two_year_college     3018\n",
      "phd                  2408\n",
      "high_school          1713\n",
      "other                1683\n",
      "law                  1428\n",
      "med                   681\n",
      "Name: count, dtype: int64\n",
      "education\n",
      "college             0.524949\n",
      "masters             0.182173\n",
      "unknown             0.110522\n",
      "two_year_college    0.050348\n",
      "phd                 0.040171\n",
      "high_school         0.028577\n",
      "other               0.028077\n",
      "law                 0.023823\n",
      "med                 0.011361\n",
      "Name: proportion, dtype: float64\n"
     ]
    }
   ],
   "source": [
    "count_educ = profiles['education'].value_counts()\n",
    "print(count_educ)\n",
    "\n",
    "print(profiles['education'].value_counts(1))"
   ]
  },
  {
   "cell_type": "code",
   "execution_count": 400,
   "metadata": {},
   "outputs": [
    {
     "name": "stdout",
     "output_type": "stream",
     "text": [
      "education\n",
      "college             0.590176\n",
      "masters             0.204809\n",
      "two_year_college    0.056604\n",
      "phd                 0.045163\n",
      "high_school         0.032128\n",
      "other               0.031565\n",
      "law                 0.026783\n",
      "med                 0.012772\n",
      "Name: proportion, dtype: float64\n"
     ]
    }
   ],
   "source": [
    "proportions_educ = (profiles.loc[profiles['education'] != 'unknown', 'education']).value_counts(1)\n",
    "print(proportions_educ)"
   ]
  },
  {
   "cell_type": "code",
   "execution_count": 401,
   "metadata": {},
   "outputs": [
    {
     "data": {
      "text/plain": [
       "'college'"
      ]
     },
     "execution_count": 401,
     "metadata": {},
     "output_type": "execute_result"
    }
   ],
   "source": [
    "proportions_educ.index[0]"
   ]
  },
  {
   "cell_type": "markdown",
   "metadata": {},
   "source": [
    "Defining a function for imputation of 'unknown' value according to the distribution of the rest of the values"
   ]
  },
  {
   "cell_type": "code",
   "execution_count": 402,
   "metadata": {},
   "outputs": [],
   "source": [
    "def prop_imputer(variable):\n",
    "    proportions = (profiles.loc[profiles[variable] != 'unknown', variable]).value_counts(1)\n",
    "    # Find the indices where variable == 'unknown'\n",
    "    unknown_idx = profiles[profiles[variable] == 'unknown'].index\n",
    "    # Shuffle indices for random assignment\n",
    "    shuffled_idx = np.random.permutation(unknown_idx)\n",
    "    # Number of unknowns\n",
    "    n_unknown = len(unknown_idx)\n",
    "    # Calculate how many to assign each new value\n",
    "    n_assign = []\n",
    "    for props in range(len(proportions)):\n",
    "        n_assign.append(int(round(proportions.iloc[props] * n_unknown, 0)))\n",
    "        start = 0\n",
    "        for i in range(len(n_assign)):\n",
    "            # Assign value\n",
    "            profiles.loc[shuffled_idx[start:start + n_assign[i]], variable] = proportions.index[i]\n",
    "            start += n_assign[i]\n",
    "    return print(f\"new values: {profiles[variable].value_counts()}\")\n",
    "    "
   ]
  },
  {
   "cell_type": "code",
   "execution_count": 403,
   "metadata": {},
   "outputs": [
    {
     "name": "stdout",
     "output_type": "stream",
     "text": [
      "new values: education\n",
      "college             35377\n",
      "masters             12277\n",
      "two_year_college     3393\n",
      "phd                  2707\n",
      "high_school          1926\n",
      "other                1892\n",
      "law                  1605\n",
      "med                   766\n",
      "Name: count, dtype: int64\n"
     ]
    }
   ],
   "source": [
    "prop_imputer(variable = 'education')"
   ]
  },
  {
   "cell_type": "markdown",
   "metadata": {},
   "source": [
    "Ordinal encoding for the variable 'education'"
   ]
  },
  {
   "cell_type": "code",
   "execution_count": 404,
   "metadata": {},
   "outputs": [
    {
     "data": {
      "text/plain": [
       "education\n",
       "3    35377\n",
       "4    12277\n",
       "2     3393\n",
       "5     2707\n",
       "1     1926\n",
       "0     1892\n",
       "6     1605\n",
       "7      766\n",
       "Name: count, dtype: int64"
      ]
     },
     "execution_count": 404,
     "metadata": {},
     "output_type": "execute_result"
    }
   ],
   "source": [
    "#mapping the variable 'education'\n",
    "education_mapping = {\n",
    "    'other': 0,\n",
    "    'high_school': 1,\n",
    "    'two_year_college': 2,\n",
    "    'college': 3,\n",
    "    'masters': 4,\n",
    "    'phd': 5,\n",
    "    'law': 6,\n",
    "    'med': 7\n",
    "}\n",
    "\n",
    "profiles['education'] = profiles['education'].map(education_mapping)\n",
    "profiles['education'].value_counts()"
   ]
  },
  {
   "cell_type": "markdown",
   "metadata": {},
   "source": [
    "Encoding 'ethnicity'"
   ]
  },
  {
   "cell_type": "code",
   "execution_count": 405,
   "metadata": {},
   "outputs": [],
   "source": [
    "#defining a function for reusable code\n",
    "def pre_encode_cat(variable): #this function prints the preliminar proportions and counts before encoding\n",
    "    count = profiles[variable].value_counts()\n",
    "    print(f\"Value counts for {count}\")\n",
    "    print(f\"Proportions for {profiles[variable].value_counts(1)}\")\n",
    "    proportions = (profiles.loc[profiles[variable] != 'unknown', variable]).value_counts(1)\n",
    "    print(f\"Proportions without the value 'unknown' {proportions}\")"
   ]
  },
  {
   "cell_type": "code",
   "execution_count": 406,
   "metadata": {},
   "outputs": [
    {
     "name": "stdout",
     "output_type": "stream",
     "text": [
      "Value counts for ethnicity\n",
      "white       33472\n",
      "asian        8205\n",
      "unknown      5679\n",
      "hispanic     4378\n",
      "black        3071\n",
      "other        1705\n",
      "indian       1196\n",
      "middle        811\n",
      "pacific       717\n",
      "native        709\n",
      "Name: count, dtype: int64\n",
      "Proportions for ethnicity\n",
      "white       0.558397\n",
      "asian       0.136880\n",
      "unknown     0.094740\n",
      "hispanic    0.073036\n",
      "black       0.051232\n",
      "other       0.028444\n",
      "indian      0.019952\n",
      "middle      0.013530\n",
      "pacific     0.011961\n",
      "native      0.011828\n",
      "Name: proportion, dtype: float64\n",
      "Proportions without the value 'unknown' ethnicity\n",
      "white       0.616836\n",
      "asian       0.151205\n",
      "hispanic    0.080680\n",
      "black       0.056594\n",
      "other       0.031420\n",
      "indian      0.022040\n",
      "middle      0.014945\n",
      "pacific     0.013213\n",
      "native      0.013066\n",
      "Name: proportion, dtype: float64\n"
     ]
    }
   ],
   "source": [
    "#counts and proportions for variable 'ethnicity'\n",
    "pre_encode_cat('ethnicity')\n"
   ]
  },
  {
   "cell_type": "code",
   "execution_count": 407,
   "metadata": {},
   "outputs": [
    {
     "name": "stdout",
     "output_type": "stream",
     "text": [
      "new values: ethnicity\n",
      "white       36975\n",
      "asian        9064\n",
      "hispanic     4836\n",
      "black        3392\n",
      "other        1883\n",
      "indian       1321\n",
      "middle        896\n",
      "pacific       792\n",
      "native        783\n",
      "unknown         1\n",
      "Name: count, dtype: int64\n"
     ]
    }
   ],
   "source": [
    "#imputation of the variable 'ethnicity' using the function prop_imputer\n",
    "prop_imputer('ethnicity')\n"
   ]
  },
  {
   "cell_type": "code",
   "execution_count": 408,
   "metadata": {},
   "outputs": [
    {
     "name": "stdout",
     "output_type": "stream",
     "text": [
      "ethnicity\n",
      "white       36976\n",
      "asian        9064\n",
      "hispanic     4836\n",
      "black        3392\n",
      "other        1883\n",
      "indian       1321\n",
      "middle        896\n",
      "pacific       792\n",
      "native        783\n",
      "Name: count, dtype: int64\n"
     ]
    }
   ],
   "source": [
    "#forcing the remaining unknown value to be equal to the mode (to be fixed later)\n",
    "profiles['ethnicity'] = profiles['ethnicity'].replace('unknown', 'white')\n",
    "print(profiles['ethnicity'].value_counts())"
   ]
  },
  {
   "cell_type": "code",
   "execution_count": 409,
   "metadata": {},
   "outputs": [],
   "source": [
    "#One-Hot encoding for the value 'diet'\n",
    "profiles = pd.get_dummies(profiles, columns=['ethnicity'])"
   ]
  },
  {
   "cell_type": "markdown",
   "metadata": {},
   "source": [
    "Encoding the variable 'job'"
   ]
  },
  {
   "cell_type": "code",
   "execution_count": 410,
   "metadata": {},
   "outputs": [
    {
     "name": "stdout",
     "output_type": "stream",
     "text": [
      "Value counts for job\n",
      "unknown        16221\n",
      "stem            9557\n",
      "business        9030\n",
      "creative        6688\n",
      "student         4882\n",
      "health          3680\n",
      "service         3556\n",
      "education       3513\n",
      "law             1381\n",
      "government       912\n",
      "not_working      523\n",
      "Name: count, dtype: int64\n",
      "Proportions for job\n",
      "unknown        0.270607\n",
      "stem           0.159435\n",
      "business       0.150643\n",
      "creative       0.111573\n",
      "student        0.081444\n",
      "health         0.061392\n",
      "service        0.059323\n",
      "education      0.058606\n",
      "law            0.023039\n",
      "government     0.015214\n",
      "not_working    0.008725\n",
      "Name: proportion, dtype: float64\n",
      "Proportions without the value 'unknown' job\n",
      "stem           0.218586\n",
      "business       0.206532\n",
      "creative       0.152966\n",
      "student        0.111660\n",
      "health         0.084168\n",
      "service        0.081332\n",
      "education      0.080349\n",
      "law            0.031586\n",
      "government     0.020859\n",
      "not_working    0.011962\n",
      "Name: proportion, dtype: float64\n"
     ]
    }
   ],
   "source": [
    "pre_encode_cat('job')"
   ]
  },
  {
   "cell_type": "markdown",
   "metadata": {},
   "source": [
    "One-hot encoding for tha variable 'job' without imputation of unknown variables, considering the amount of missingness, 'unknown' will have its own category"
   ]
  },
  {
   "cell_type": "code",
   "execution_count": 411,
   "metadata": {},
   "outputs": [],
   "source": [
    "profiles = pd.get_dummies(profiles, columns=['job'])"
   ]
  },
  {
   "cell_type": "markdown",
   "metadata": {},
   "source": [
    "Encoding the variable 'offspring'"
   ]
  },
  {
   "cell_type": "code",
   "execution_count": 412,
   "metadata": {},
   "outputs": [
    {
     "name": "stdout",
     "output_type": "stream",
     "text": [
      "Value counts for offspring\n",
      "unknown     35559\n",
      "no kids     16131\n",
      "has kids     4919\n",
      "unsure       3334\n",
      "Name: count, dtype: int64\n",
      "Proportions for offspring\n",
      "unknown     0.593214\n",
      "no kids     0.269106\n",
      "has kids    0.082061\n",
      "unsure      0.055620\n",
      "Name: proportion, dtype: float64\n",
      "Proportions without the value 'unknown' offspring\n",
      "no kids     0.661540\n",
      "has kids    0.201731\n",
      "unsure      0.136729\n",
      "Name: proportion, dtype: float64\n"
     ]
    }
   ],
   "source": [
    "pre_encode_cat('offspring')"
   ]
  },
  {
   "cell_type": "markdown",
   "metadata": {},
   "source": [
    "Merging 'unknown' and 'unsure' as 'unknown', then One-Hot encoding, so 'unknown' will have its own category"
   ]
  },
  {
   "cell_type": "code",
   "execution_count": 413,
   "metadata": {},
   "outputs": [],
   "source": [
    "profiles['offspring'] = profiles['offspring'].replace('unsure', 'unknown')\n",
    "profiles = pd.get_dummies(profiles, columns=['offspring'])"
   ]
  },
  {
   "cell_type": "markdown",
   "metadata": {},
   "source": [
    "One-Hot Encoding 'orientation' since it has no 'unknown' values"
   ]
  },
  {
   "cell_type": "code",
   "execution_count": 414,
   "metadata": {},
   "outputs": [],
   "source": [
    "profiles = pd.get_dummies(profiles, columns=['orientation'])"
   ]
  },
  {
   "cell_type": "code",
   "execution_count": 415,
   "metadata": {},
   "outputs": [
    {
     "name": "stdout",
     "output_type": "stream",
     "text": [
      "Value counts for religion\n",
      "unknown         20223\n",
      "agnosticism      8812\n",
      "other            7743\n",
      "atheism          6985\n",
      "christianity     5787\n",
      "catholicism      4758\n",
      "judaism          3098\n",
      "buddhism         1948\n",
      "hinduism          450\n",
      "islam             139\n",
      "Name: count, dtype: int64\n",
      "Proportions for religion\n",
      "unknown         0.337371\n",
      "agnosticism     0.147006\n",
      "other           0.129173\n",
      "atheism         0.116527\n",
      "christianity    0.096542\n",
      "catholicism     0.079375\n",
      "judaism         0.051682\n",
      "buddhism        0.032498\n",
      "hinduism        0.007507\n",
      "islam           0.002319\n",
      "Name: proportion, dtype: float64\n",
      "Proportions without the value 'unknown' religion\n",
      "agnosticism     0.221853\n",
      "other           0.194940\n",
      "atheism         0.175856\n",
      "christianity    0.145695\n",
      "catholicism     0.119789\n",
      "judaism         0.077996\n",
      "buddhism        0.049043\n",
      "hinduism        0.011329\n",
      "islam           0.003499\n",
      "Name: proportion, dtype: float64\n"
     ]
    }
   ],
   "source": [
    "pre_encode_cat('religion')"
   ]
  },
  {
   "cell_type": "code",
   "execution_count": 416,
   "metadata": {},
   "outputs": [],
   "source": [
    "#Merging 'other' and 'unknown'\n",
    "profiles['religion'] = profiles['religion'].replace('other', 'unknown')"
   ]
  },
  {
   "cell_type": "code",
   "execution_count": 417,
   "metadata": {},
   "outputs": [],
   "source": [
    "#One-hot encoding religion\n",
    "profiles = pd.get_dummies(profiles, columns=['religion'])"
   ]
  },
  {
   "cell_type": "markdown",
   "metadata": {},
   "source": [
    "Encoding 'sign' with One-Hot"
   ]
  },
  {
   "cell_type": "code",
   "execution_count": 418,
   "metadata": {},
   "outputs": [
    {
     "name": "stdout",
     "output_type": "stream",
     "text": [
      "Value counts for sign\n",
      "unknown        11054\n",
      "leo             4374\n",
      "gemini          4310\n",
      "libra           4207\n",
      "cancer          4206\n",
      "virgo           4141\n",
      "taurus          4140\n",
      "scorpio         4134\n",
      "aries           3988\n",
      "pisces          3946\n",
      "sagittarius     3942\n",
      "aquarius        3928\n",
      "capricorn       3573\n",
      "Name: count, dtype: int64\n",
      "Proportions for sign\n",
      "unknown        0.184409\n",
      "leo            0.072969\n",
      "gemini         0.071902\n",
      "libra          0.070183\n",
      "cancer         0.070167\n",
      "virgo          0.069082\n",
      "taurus         0.069066\n",
      "scorpio        0.068966\n",
      "aries          0.066530\n",
      "pisces         0.065829\n",
      "sagittarius    0.065762\n",
      "aquarius       0.065529\n",
      "capricorn      0.059607\n",
      "Name: proportion, dtype: float64\n",
      "Proportions without the value 'unknown' sign\n",
      "leo            0.089468\n",
      "gemini         0.088159\n",
      "libra          0.086052\n",
      "cancer         0.086032\n",
      "virgo          0.084702\n",
      "taurus         0.084682\n",
      "scorpio        0.084559\n",
      "aries          0.081573\n",
      "pisces         0.080713\n",
      "sagittarius    0.080632\n",
      "aquarius       0.080345\n",
      "capricorn      0.073084\n",
      "Name: proportion, dtype: float64\n"
     ]
    }
   ],
   "source": [
    "pre_encode_cat('sign')"
   ]
  },
  {
   "cell_type": "markdown",
   "metadata": {},
   "source": [
    "The frequencies are roughly equally distributed, therefore imputation of the value 'unknown' will be split proportionally for each sign, so the final variable will still be equally distributed"
   ]
  },
  {
   "cell_type": "code",
   "execution_count": 419,
   "metadata": {},
   "outputs": [
    {
     "name": "stdout",
     "output_type": "stream",
     "text": [
      "new values: sign\n",
      "leo            5363\n",
      "gemini         5285\n",
      "libra          5158\n",
      "cancer         5157\n",
      "virgo          5077\n",
      "taurus         5076\n",
      "scorpio        5069\n",
      "aries          4890\n",
      "pisces         4838\n",
      "sagittarius    4833\n",
      "aquarius       4816\n",
      "capricorn      4381\n",
      "Name: count, dtype: int64\n"
     ]
    }
   ],
   "source": [
    "prop_imputer('sign')"
   ]
  },
  {
   "cell_type": "markdown",
   "metadata": {},
   "source": [
    "One-Hot encoding the variable 'sign'"
   ]
  },
  {
   "cell_type": "code",
   "execution_count": 420,
   "metadata": {},
   "outputs": [],
   "source": [
    "profiles = pd.get_dummies(profiles, columns=['sign'])"
   ]
  },
  {
   "cell_type": "markdown",
   "metadata": {},
   "source": [
    "Encoding the variable 'smokes' "
   ]
  },
  {
   "cell_type": "code",
   "execution_count": 421,
   "metadata": {},
   "outputs": [
    {
     "name": "stdout",
     "output_type": "stream",
     "text": [
      "Value counts for smokes\n",
      "no              46126\n",
      "yes              8307\n",
      "not answered     5510\n",
      "Name: count, dtype: int64\n",
      "Proportions for smokes\n",
      "no              0.769498\n",
      "yes             0.138582\n",
      "not answered    0.091921\n",
      "Name: proportion, dtype: float64\n",
      "Proportions without the value 'unknown' smokes\n",
      "no              0.769498\n",
      "yes             0.138582\n",
      "not answered    0.091921\n",
      "Name: proportion, dtype: float64\n"
     ]
    }
   ],
   "source": [
    "pre_encode_cat('smokes')"
   ]
  },
  {
   "cell_type": "code",
   "execution_count": 422,
   "metadata": {},
   "outputs": [],
   "source": [
    "#replacing 'not answered' with 'unknown' to make the imputer function work\n",
    "profiles['smokes'] = profiles['smokes'].replace('not answered', 'unknown')\n"
   ]
  },
  {
   "cell_type": "markdown",
   "metadata": {},
   "source": [
    "Proportional imputation"
   ]
  },
  {
   "cell_type": "code",
   "execution_count": 423,
   "metadata": {},
   "outputs": [
    {
     "name": "stdout",
     "output_type": "stream",
     "text": [
      "new values: smokes\n",
      "no     50795\n",
      "yes     9148\n",
      "Name: count, dtype: int64\n"
     ]
    }
   ],
   "source": [
    "prop_imputer('smokes')"
   ]
  },
  {
   "cell_type": "code",
   "execution_count": 424,
   "metadata": {},
   "outputs": [
    {
     "data": {
      "text/plain": [
       "0    yes\n",
       "1     no\n",
       "2     no\n",
       "3     no\n",
       "4     no\n",
       "Name: smokes, dtype: object"
      ]
     },
     "execution_count": 424,
     "metadata": {},
     "output_type": "execute_result"
    }
   ],
   "source": [
    "profiles['smokes'].head()"
   ]
  },
  {
   "cell_type": "markdown",
   "metadata": {},
   "source": [
    "Binary encoding for the variable 'smokes'"
   ]
  },
  {
   "cell_type": "code",
   "execution_count": 425,
   "metadata": {},
   "outputs": [],
   "source": [
    "profiles['smokes'] = profiles['smokes'].map({'yes': 1, 'no': 0})\n"
   ]
  },
  {
   "cell_type": "code",
   "execution_count": 426,
   "metadata": {},
   "outputs": [
    {
     "name": "stdout",
     "output_type": "stream",
     "text": [
      "Value counts for status\n",
      "single            55694\n",
      "seeing someone     2064\n",
      "available          1865\n",
      "married             310\n",
      "unknown              10\n",
      "Name: count, dtype: int64\n",
      "Proportions for status\n",
      "single            0.929116\n",
      "seeing someone    0.034433\n",
      "available         0.031113\n",
      "married           0.005172\n",
      "unknown           0.000167\n",
      "Name: proportion, dtype: float64\n",
      "Proportions without the value 'unknown' status\n",
      "single            0.929271\n",
      "seeing someone    0.034438\n",
      "available         0.031118\n",
      "married           0.005172\n",
      "Name: proportion, dtype: float64\n"
     ]
    }
   ],
   "source": [
    "pre_encode_cat('status')"
   ]
  },
  {
   "cell_type": "markdown",
   "metadata": {},
   "source": [
    "'unknown' only represents 0,01% of the total, let's replace those values with the mode 'single'"
   ]
  },
  {
   "cell_type": "code",
   "execution_count": 427,
   "metadata": {},
   "outputs": [
    {
     "name": "stderr",
     "output_type": "stream",
     "text": [
      "C:\\Users\\ntama\\AppData\\Local\\Temp\\ipykernel_23852\\966450551.py:1: FutureWarning: Series.replace without 'value' and with non-dict-like 'to_replace' is deprecated and will raise in a future version. Explicitly specify the new values instead.\n",
      "  profiles['status'] = profiles['status'].replace('unknown')\n"
     ]
    }
   ],
   "source": [
    "profiles['status'] = profiles['status'].replace('unknown')"
   ]
  },
  {
   "cell_type": "markdown",
   "metadata": {},
   "source": [
    "One-hot encoding for the variable 'status'"
   ]
  },
  {
   "cell_type": "code",
   "execution_count": 428,
   "metadata": {},
   "outputs": [],
   "source": [
    "profiles = pd.get_dummies(profiles, columns=['status'])"
   ]
  },
  {
   "cell_type": "markdown",
   "metadata": {},
   "source": [
    "Encoding the variable 'sex' as binary"
   ]
  },
  {
   "cell_type": "code",
   "execution_count": 431,
   "metadata": {},
   "outputs": [],
   "source": [
    "profiles['sex'] = profiles['sex'].map({'m': 1, 'f': 0})"
   ]
  },
  {
   "cell_type": "markdown",
   "metadata": {},
   "source": [
    "Encoding the variables 'dogs' and 'cats' with One-Hot Encoding"
   ]
  },
  {
   "cell_type": "code",
   "execution_count": 436,
   "metadata": {},
   "outputs": [],
   "source": [
    "profiles = pd.get_dummies(profiles, columns=['dogs'])\n",
    "profiles = pd.get_dummies(profiles, columns=['cats'])"
   ]
  },
  {
   "cell_type": "code",
   "execution_count": 438,
   "metadata": {},
   "outputs": [
    {
     "name": "stdout",
     "output_type": "stream",
     "text": [
      "Total number of features = 71\n"
     ]
    }
   ],
   "source": [
    "print(f\"Total number of features = {len(profiles.columns)}\")"
   ]
  },
  {
   "cell_type": "markdown",
   "metadata": {},
   "source": [
    "### 02.- Transformation of numerical variables"
   ]
  },
  {
   "cell_type": "code",
   "execution_count": 441,
   "metadata": {},
   "outputs": [
    {
     "name": "stdout",
     "output_type": "stream",
     "text": [
      "       age  body_type  drinks  drugs  education  height  sex  smokes\n",
      "0       22          4       1      0          3    75.0    1       1\n",
      "1       35          1       2      1          0    70.0    1       0\n",
      "2       38          0       1      0          4    68.0    1       0\n",
      "3       23          0       1      0          3    71.0    1       0\n",
      "4       29          2       1      0          3    66.0    1       0\n",
      "...    ...        ...     ...    ...        ...     ...  ...     ...\n",
      "59938   59          1       1      0          3    62.0    0       0\n",
      "59939   24          2       2      1          3    72.0    1       0\n",
      "59940   42          1       0      0          4    71.0    1       0\n",
      "59941   27          2       1      2          3    73.0    1       1\n",
      "59942   39          1       1      0          4    68.0    1       1\n",
      "\n",
      "[59943 rows x 8 columns]\n"
     ]
    }
   ],
   "source": [
    "num_var = profiles.select_dtypes(include='number')\n",
    "print(num_var)"
   ]
  },
  {
   "cell_type": "code",
   "execution_count": 442,
   "metadata": {},
   "outputs": [
    {
     "name": "stdout",
     "output_type": "stream",
     "text": [
      "   age  body_type  drinks  drugs  education  height  sex  smokes  \\\n",
      "0   22          4       1      0          3    75.0    1       1   \n",
      "1   35          1       2      1          0    70.0    1       0   \n",
      "2   38          0       1      0          4    68.0    1       0   \n",
      "3   23          0       1      0          3    71.0    1       0   \n",
      "4   29          2       1      0          3    66.0    1       0   \n",
      "\n",
      "   diet_anything  diet_halal  ...  status_available  status_married  \\\n",
      "0           True       False  ...             False           False   \n",
      "1          False       False  ...             False           False   \n",
      "2           True       False  ...              True           False   \n",
      "3          False       False  ...             False           False   \n",
      "4           True       False  ...             False           False   \n",
      "\n",
      "   status_seeing someone  status_single  dogs_has dogs  dogs_likes dogs  \\\n",
      "0                  False           True          False             True   \n",
      "1                  False           True          False             True   \n",
      "2                  False          False          False            False   \n",
      "3                  False           True          False            False   \n",
      "4                  False           True          False             True   \n",
      "\n",
      "   dogs_no dogs  cats_has cats  cats_likes cats  cats_no cats  \n",
      "0         False          False             True         False  \n",
      "1         False          False             True         False  \n",
      "2          True           True            False         False  \n",
      "3          True          False             True         False  \n",
      "4         False          False             True         False  \n",
      "\n",
      "[5 rows x 71 columns]\n"
     ]
    }
   ],
   "source": [
    "print(profiles.head())"
   ]
  },
  {
   "cell_type": "markdown",
   "metadata": {},
   "source": [
    "Applying standardization to 'age' and 'height'"
   ]
  },
  {
   "cell_type": "code",
   "execution_count": 444,
   "metadata": {},
   "outputs": [],
   "source": [
    "scaler = StandardScaler()\n",
    "profiles[['age', 'height']] = scaler.fit_transform(profiles[['age', 'height']])\n"
   ]
  },
  {
   "cell_type": "code",
   "execution_count": 445,
   "metadata": {},
   "outputs": [
    {
     "data": {
      "text/html": [
       "<div>\n",
       "<style scoped>\n",
       "    .dataframe tbody tr th:only-of-type {\n",
       "        vertical-align: middle;\n",
       "    }\n",
       "\n",
       "    .dataframe tbody tr th {\n",
       "        vertical-align: top;\n",
       "    }\n",
       "\n",
       "    .dataframe thead th {\n",
       "        text-align: right;\n",
       "    }\n",
       "</style>\n",
       "<table border=\"1\" class=\"dataframe\">\n",
       "  <thead>\n",
       "    <tr style=\"text-align: right;\">\n",
       "      <th></th>\n",
       "      <th>age</th>\n",
       "      <th>body_type</th>\n",
       "      <th>drinks</th>\n",
       "      <th>drugs</th>\n",
       "      <th>education</th>\n",
       "      <th>height</th>\n",
       "      <th>sex</th>\n",
       "      <th>smokes</th>\n",
       "      <th>diet_anything</th>\n",
       "      <th>diet_halal</th>\n",
       "      <th>...</th>\n",
       "      <th>status_available</th>\n",
       "      <th>status_married</th>\n",
       "      <th>status_seeing someone</th>\n",
       "      <th>status_single</th>\n",
       "      <th>dogs_has dogs</th>\n",
       "      <th>dogs_likes dogs</th>\n",
       "      <th>dogs_no dogs</th>\n",
       "      <th>cats_has cats</th>\n",
       "      <th>cats_likes cats</th>\n",
       "      <th>cats_no cats</th>\n",
       "    </tr>\n",
       "  </thead>\n",
       "  <tbody>\n",
       "    <tr>\n",
       "      <th>0</th>\n",
       "      <td>-1.093889</td>\n",
       "      <td>4</td>\n",
       "      <td>1</td>\n",
       "      <td>0</td>\n",
       "      <td>3</td>\n",
       "      <td>1.678374</td>\n",
       "      <td>1</td>\n",
       "      <td>1</td>\n",
       "      <td>True</td>\n",
       "      <td>False</td>\n",
       "      <td>...</td>\n",
       "      <td>False</td>\n",
       "      <td>False</td>\n",
       "      <td>False</td>\n",
       "      <td>True</td>\n",
       "      <td>False</td>\n",
       "      <td>True</td>\n",
       "      <td>False</td>\n",
       "      <td>False</td>\n",
       "      <td>True</td>\n",
       "      <td>False</td>\n",
       "    </tr>\n",
       "    <tr>\n",
       "      <th>1</th>\n",
       "      <td>0.281388</td>\n",
       "      <td>1</td>\n",
       "      <td>2</td>\n",
       "      <td>1</td>\n",
       "      <td>0</td>\n",
       "      <td>0.426738</td>\n",
       "      <td>1</td>\n",
       "      <td>0</td>\n",
       "      <td>False</td>\n",
       "      <td>False</td>\n",
       "      <td>...</td>\n",
       "      <td>False</td>\n",
       "      <td>False</td>\n",
       "      <td>False</td>\n",
       "      <td>True</td>\n",
       "      <td>False</td>\n",
       "      <td>True</td>\n",
       "      <td>False</td>\n",
       "      <td>False</td>\n",
       "      <td>True</td>\n",
       "      <td>False</td>\n",
       "    </tr>\n",
       "    <tr>\n",
       "      <th>2</th>\n",
       "      <td>0.598759</td>\n",
       "      <td>0</td>\n",
       "      <td>1</td>\n",
       "      <td>0</td>\n",
       "      <td>4</td>\n",
       "      <td>-0.073917</td>\n",
       "      <td>1</td>\n",
       "      <td>0</td>\n",
       "      <td>True</td>\n",
       "      <td>False</td>\n",
       "      <td>...</td>\n",
       "      <td>True</td>\n",
       "      <td>False</td>\n",
       "      <td>False</td>\n",
       "      <td>False</td>\n",
       "      <td>False</td>\n",
       "      <td>False</td>\n",
       "      <td>True</td>\n",
       "      <td>True</td>\n",
       "      <td>False</td>\n",
       "      <td>False</td>\n",
       "    </tr>\n",
       "    <tr>\n",
       "      <th>3</th>\n",
       "      <td>-0.988098</td>\n",
       "      <td>0</td>\n",
       "      <td>1</td>\n",
       "      <td>0</td>\n",
       "      <td>3</td>\n",
       "      <td>0.677065</td>\n",
       "      <td>1</td>\n",
       "      <td>0</td>\n",
       "      <td>False</td>\n",
       "      <td>False</td>\n",
       "      <td>...</td>\n",
       "      <td>False</td>\n",
       "      <td>False</td>\n",
       "      <td>False</td>\n",
       "      <td>True</td>\n",
       "      <td>False</td>\n",
       "      <td>False</td>\n",
       "      <td>True</td>\n",
       "      <td>False</td>\n",
       "      <td>True</td>\n",
       "      <td>False</td>\n",
       "    </tr>\n",
       "    <tr>\n",
       "      <th>4</th>\n",
       "      <td>-0.353355</td>\n",
       "      <td>2</td>\n",
       "      <td>1</td>\n",
       "      <td>0</td>\n",
       "      <td>3</td>\n",
       "      <td>-0.574571</td>\n",
       "      <td>1</td>\n",
       "      <td>0</td>\n",
       "      <td>True</td>\n",
       "      <td>False</td>\n",
       "      <td>...</td>\n",
       "      <td>False</td>\n",
       "      <td>False</td>\n",
       "      <td>False</td>\n",
       "      <td>True</td>\n",
       "      <td>False</td>\n",
       "      <td>True</td>\n",
       "      <td>False</td>\n",
       "      <td>False</td>\n",
       "      <td>True</td>\n",
       "      <td>False</td>\n",
       "    </tr>\n",
       "  </tbody>\n",
       "</table>\n",
       "<p>5 rows × 71 columns</p>\n",
       "</div>"
      ],
      "text/plain": [
       "        age  body_type  drinks  drugs  education    height  sex  smokes  \\\n",
       "0 -1.093889          4       1      0          3  1.678374    1       1   \n",
       "1  0.281388          1       2      1          0  0.426738    1       0   \n",
       "2  0.598759          0       1      0          4 -0.073917    1       0   \n",
       "3 -0.988098          0       1      0          3  0.677065    1       0   \n",
       "4 -0.353355          2       1      0          3 -0.574571    1       0   \n",
       "\n",
       "   diet_anything  diet_halal  ...  status_available  status_married  \\\n",
       "0           True       False  ...             False           False   \n",
       "1          False       False  ...             False           False   \n",
       "2           True       False  ...              True           False   \n",
       "3          False       False  ...             False           False   \n",
       "4           True       False  ...             False           False   \n",
       "\n",
       "   status_seeing someone  status_single  dogs_has dogs  dogs_likes dogs  \\\n",
       "0                  False           True          False             True   \n",
       "1                  False           True          False             True   \n",
       "2                  False          False          False            False   \n",
       "3                  False           True          False            False   \n",
       "4                  False           True          False             True   \n",
       "\n",
       "   dogs_no dogs  cats_has cats  cats_likes cats  cats_no cats  \n",
       "0         False          False             True         False  \n",
       "1         False          False             True         False  \n",
       "2          True           True            False         False  \n",
       "3          True          False             True         False  \n",
       "4         False          False             True         False  \n",
       "\n",
       "[5 rows x 71 columns]"
      ]
     },
     "execution_count": 445,
     "metadata": {},
     "output_type": "execute_result"
    }
   ],
   "source": [
    "profiles.head()"
   ]
  },
  {
   "cell_type": "markdown",
   "metadata": {},
   "source": [
    "### 03- Exporting this dataset for dimensionality reduction"
   ]
  },
  {
   "cell_type": "code",
   "execution_count": 446,
   "metadata": {},
   "outputs": [],
   "source": [
    "profiles.to_csv('profiles_processed.csv')"
   ]
  }
 ],
 "metadata": {
  "kernelspec": {
   "display_name": "Python (Anaconda Base)",
   "language": "python",
   "name": "base"
  },
  "language_info": {
   "codemirror_mode": {
    "name": "ipython",
    "version": 3
   },
   "file_extension": ".py",
   "mimetype": "text/x-python",
   "name": "python",
   "nbconvert_exporter": "python",
   "pygments_lexer": "ipython3",
   "version": "3.11.7"
  }
 },
 "nbformat": 4,
 "nbformat_minor": 4
}
