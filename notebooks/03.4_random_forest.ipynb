{
 "cells": [
  {
   "cell_type": "markdown",
   "id": "922def24",
   "metadata": {},
   "source": [
    "# Classification Model - Random Forests"
   ]
  },
  {
   "cell_type": "code",
   "execution_count": 14,
   "id": "9e5afce7",
   "metadata": {},
   "outputs": [],
   "source": [
    "#Importing all libraries\n",
    "import pandas as pd\n",
    "import numpy as np\n",
    "import matplotlib.pyplot as plt\n",
    "import seaborn as sns\n",
    "import math\n",
    "import os\n",
    "from itertools import combinations\n",
    "from sklearn.model_selection import train_test_split\n",
    "from sklearn.metrics import accuracy_score\n",
    "from sklearn.metrics import precision_score\n",
    "from sklearn.metrics import recall_score\n",
    "from sklearn.metrics import f1_score\n",
    "from sklearn.model_selection import GridSearchCV\n",
    "from sklearn.metrics import confusion_matrix\n",
    "from sklearn.metrics import classification_report, make_scorer\n",
    "from sklearn.utils.class_weight import compute_sample_weight\n",
    "from sklearn.ensemble import RandomForestClassifier"
   ]
  },
  {
   "cell_type": "code",
   "execution_count": 15,
   "id": "2e227777",
   "metadata": {},
   "outputs": [
    {
     "name": "stdout",
     "output_type": "stream",
     "text": [
      "c:\\Users\\ntama\\Documentos\\Data Science\\Codecademy\\projects\\Date-A-Scientist - Final Project\\OKCupid-Date-A-Scientist-Starter\\date-a-scientist-project\\notebooks\n"
     ]
    }
   ],
   "source": [
    "print(os.getcwd())"
   ]
  },
  {
   "cell_type": "markdown",
   "id": "678efebe",
   "metadata": {},
   "source": [
    "## Importing predictors and target - train, test and validation subsets"
   ]
  },
  {
   "cell_type": "code",
   "execution_count": 16,
   "id": "78b9731f",
   "metadata": {},
   "outputs": [
    {
     "name": "stderr",
     "output_type": "stream",
     "text": [
      "C:\\Users\\ntama\\AppData\\Local\\Temp\\ipykernel_16940\\4027156877.py:7: DtypeWarning: Columns (8,9,10,11,12,13,14,15,16,17,18,19,20,21,22,23,24,25,26,27,28,29,30,31,32,33,34,35,36,37,38,39,40) have mixed types. Specify dtype option on import or set low_memory=False.\n",
      "  X_test = pd.read_csv(\"../data/X_test.csv\", index_col=False)\n"
     ]
    }
   ],
   "source": [
    "X_train = pd.read_csv(\"../data/X_train.csv\", index_col=False)\n",
    "X_train = X_train.loc[:, ~X_train.columns.str.contains('^Unnamed')]\n",
    "\n",
    "X_val = pd.read_csv(\"../data/X_val.csv\", index_col=False)\n",
    "X_val = X_val.loc[:, ~X_val.columns.str.contains('^Unnamed')]\n",
    "\n",
    "X_test = pd.read_csv(\"../data/X_test.csv\", index_col=False)\n",
    "X_test = X_test.loc[:, ~X_test.columns.str.contains('^Unnamed')]\n",
    "\n",
    "y_train = pd.read_csv(\"../data/y_train.csv\", index_col=False)\n",
    "y_train = y_train.loc[:, ~y_train.columns.str.contains('^Unnamed')]\n",
    "\n",
    "y_val = pd.read_csv(\"../data/y_val.csv\", index_col=False)\n",
    "y_val = y_val.loc[:, ~y_val.columns.str.contains('^Unnamed')]\n",
    "\n",
    "y_test = pd.read_csv(\"../data/y_test.csv\", index_col=False)\n",
    "y_test = y_test.loc[:, ~y_test.columns.str.contains('^Unnamed')]"
   ]
  },
  {
   "cell_type": "code",
   "execution_count": 17,
   "id": "994d60c4",
   "metadata": {},
   "outputs": [],
   "source": [
    "X_train = X_train.drop(['sex'], axis=1)\n",
    "X_val = X_val.drop(['sex'], axis=1)\n",
    "X_test = X_test.drop(['sex'], axis=1)"
   ]
  },
  {
   "cell_type": "markdown",
   "id": "46068dac",
   "metadata": {},
   "source": [
    "## Checking class imbalance"
   ]
  },
  {
   "cell_type": "code",
   "execution_count": 18,
   "id": "14cc0f73",
   "metadata": {},
   "outputs": [
    {
     "name": "stdout",
     "output_type": "stream",
     "text": [
      "body_type\n",
      "0            19354\n",
      "1            16398\n",
      "2             6210\n",
      "Name: count, dtype: int64\n"
     ]
    }
   ],
   "source": [
    "print(y_train.value_counts())"
   ]
  },
  {
   "cell_type": "markdown",
   "id": "baddbb65",
   "metadata": {},
   "source": [
    "Classes 2 and 3 are minoritarian."
   ]
  },
  {
   "cell_type": "code",
   "execution_count": 19,
   "id": "3ed75807",
   "metadata": {},
   "outputs": [
    {
     "name": "stdout",
     "output_type": "stream",
     "text": [
      "Fitting 3 folds for each of 48 candidates, totalling 144 fits\n"
     ]
    },
    {
     "name": "stderr",
     "output_type": "stream",
     "text": [
      "c:\\Users\\ntama\\anaconda3\\Lib\\site-packages\\sklearn\\base.py:1389: DataConversionWarning: A column-vector y was passed when a 1d array was expected. Please change the shape of y to (n_samples,), for example using ravel().\n",
      "  return fit_method(estimator, *args, **kwargs)\n"
     ]
    },
    {
     "name": "stdout",
     "output_type": "stream",
     "text": [
      "Mejores hiperparámetros:\n",
      "{'max_depth': 10, 'max_features': 'sqrt', 'min_samples_leaf': 2, 'min_samples_split': 5, 'n_estimators': 200}\n",
      "Evaluación en validación:\n",
      "              precision    recall  f1-score   support\n",
      "\n",
      "           0       0.56      0.54      0.55      4147\n",
      "           1       0.43      0.20      0.28      3514\n",
      "           2       0.21      0.52      0.30      1331\n",
      "\n",
      "    accuracy                           0.41      8992\n",
      "   macro avg       0.40      0.42      0.37      8992\n",
      "weighted avg       0.46      0.41      0.41      8992\n",
      "\n",
      "[[2229  694 1224]\n",
      " [1361  716 1437]\n",
      " [ 395  238  698]]\n"
     ]
    }
   ],
   "source": [
    "rf = RandomForestClassifier(class_weight='balanced', random_state=42, n_jobs=-1)\n",
    "\n",
    "# 2. Grid de hiperparámetros (simple para testear rápido)\n",
    "param_grid = {\n",
    "    'n_estimators': [100, 200],\n",
    "    'max_depth': [5, 10, None],\n",
    "    'min_samples_split': [2, 5],\n",
    "    'min_samples_leaf': [1, 2],\n",
    "    'max_features': ['sqrt', 'log2']\n",
    "}\n",
    "\n",
    "# 3. Búsqueda con GridSearchCV\n",
    "grid = GridSearchCV(\n",
    "    estimator=rf,\n",
    "    param_grid=param_grid,\n",
    "    scoring=make_scorer(f1_score, average='macro'),\n",
    "    cv=3,\n",
    "    verbose=2,\n",
    "    n_jobs=-1\n",
    ")\n",
    "\n",
    "# 4. Entrenamiento\n",
    "grid.fit(X_train, y_train)\n",
    "\n",
    "# 5. Evaluación en validación\n",
    "print(\"Mejores hiperparámetros:\")\n",
    "print(grid.best_params_)\n",
    "\n",
    "y_val_pred = grid.predict(X_val)\n",
    "print(\"Evaluación en validación:\")\n",
    "print(classification_report(y_val, y_val_pred))\n",
    "print(confusion_matrix(y_val, y_val_pred))"
   ]
  }
 ],
 "metadata": {
  "kernelspec": {
   "display_name": "Python (Anaconda Base)",
   "language": "python",
   "name": "base"
  },
  "language_info": {
   "codemirror_mode": {
    "name": "ipython",
    "version": 3
   },
   "file_extension": ".py",
   "mimetype": "text/x-python",
   "name": "python",
   "nbconvert_exporter": "python",
   "pygments_lexer": "ipython3",
   "version": "3.11.7"
  }
 },
 "nbformat": 4,
 "nbformat_minor": 5
}
