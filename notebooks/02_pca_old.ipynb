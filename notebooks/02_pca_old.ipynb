{
 "cells": [
  {
   "cell_type": "markdown",
   "id": "e3daa421",
   "metadata": {},
   "source": [
    "# 02.- Applying PCA to processed Dataset"
   ]
  },
  {
   "cell_type": "code",
   "execution_count": null,
   "id": "b61895d1",
   "metadata": {},
   "outputs": [],
   "source": [
    "#Importing all libraries\n",
    "import pandas as pd\n",
    "import numpy as np\n",
    "import matplotlib.pyplot as plt\n",
    "import seaborn as sns\n",
    "import math\n",
    "import os\n",
    "from itertools import combinations\n",
    "import category_encoders as ce\n",
    "from sklearn.decomposition import PCA\n",
    "from sklearn.preprocessing import StandardScaler"
   ]
  },
  {
   "cell_type": "code",
   "execution_count": 86,
   "id": "383d6c1f",
   "metadata": {},
   "outputs": [
    {
     "name": "stdout",
     "output_type": "stream",
     "text": [
      "c:\\Users\\ntama\\Documentos\\Data Science\\Codecademy\\projects\\Date-A-Scientist - Final Project\\OKCupid-Date-A-Scientist-Starter\\date-a-scientist-project\\notebooks\n"
     ]
    }
   ],
   "source": [
    "print(os.getcwd())"
   ]
  },
  {
   "cell_type": "code",
   "execution_count": 87,
   "id": "e135faad",
   "metadata": {},
   "outputs": [
    {
     "data": {
      "text/html": [
       "<div>\n",
       "<style scoped>\n",
       "    .dataframe tbody tr th:only-of-type {\n",
       "        vertical-align: middle;\n",
       "    }\n",
       "\n",
       "    .dataframe tbody tr th {\n",
       "        vertical-align: top;\n",
       "    }\n",
       "\n",
       "    .dataframe thead th {\n",
       "        text-align: right;\n",
       "    }\n",
       "</style>\n",
       "<table border=\"1\" class=\"dataframe\">\n",
       "  <thead>\n",
       "    <tr style=\"text-align: right;\">\n",
       "      <th></th>\n",
       "      <th>age</th>\n",
       "      <th>body_type</th>\n",
       "      <th>drinks</th>\n",
       "      <th>drugs</th>\n",
       "      <th>height</th>\n",
       "      <th>sex</th>\n",
       "      <th>smokes</th>\n",
       "      <th>diet_anything</th>\n",
       "      <th>diet_halal</th>\n",
       "      <th>diet_kosher</th>\n",
       "      <th>diet_other</th>\n",
       "      <th>diet_vegan</th>\n",
       "      <th>diet_vegetarian</th>\n",
       "    </tr>\n",
       "  </thead>\n",
       "  <tbody>\n",
       "    <tr>\n",
       "      <th>0</th>\n",
       "      <td>22</td>\n",
       "      <td>2</td>\n",
       "      <td>1</td>\n",
       "      <td>0</td>\n",
       "      <td>75.0</td>\n",
       "      <td>1</td>\n",
       "      <td>1</td>\n",
       "      <td>True</td>\n",
       "      <td>False</td>\n",
       "      <td>False</td>\n",
       "      <td>False</td>\n",
       "      <td>False</td>\n",
       "      <td>False</td>\n",
       "    </tr>\n",
       "    <tr>\n",
       "      <th>1</th>\n",
       "      <td>35</td>\n",
       "      <td>1</td>\n",
       "      <td>2</td>\n",
       "      <td>1</td>\n",
       "      <td>70.0</td>\n",
       "      <td>1</td>\n",
       "      <td>0</td>\n",
       "      <td>False</td>\n",
       "      <td>False</td>\n",
       "      <td>False</td>\n",
       "      <td>True</td>\n",
       "      <td>False</td>\n",
       "      <td>False</td>\n",
       "    </tr>\n",
       "    <tr>\n",
       "      <th>2</th>\n",
       "      <td>38</td>\n",
       "      <td>1</td>\n",
       "      <td>1</td>\n",
       "      <td>0</td>\n",
       "      <td>68.0</td>\n",
       "      <td>1</td>\n",
       "      <td>0</td>\n",
       "      <td>True</td>\n",
       "      <td>False</td>\n",
       "      <td>False</td>\n",
       "      <td>False</td>\n",
       "      <td>False</td>\n",
       "      <td>False</td>\n",
       "    </tr>\n",
       "    <tr>\n",
       "      <th>3</th>\n",
       "      <td>23</td>\n",
       "      <td>1</td>\n",
       "      <td>1</td>\n",
       "      <td>0</td>\n",
       "      <td>71.0</td>\n",
       "      <td>1</td>\n",
       "      <td>0</td>\n",
       "      <td>False</td>\n",
       "      <td>False</td>\n",
       "      <td>False</td>\n",
       "      <td>False</td>\n",
       "      <td>False</td>\n",
       "      <td>True</td>\n",
       "    </tr>\n",
       "    <tr>\n",
       "      <th>4</th>\n",
       "      <td>29</td>\n",
       "      <td>0</td>\n",
       "      <td>1</td>\n",
       "      <td>0</td>\n",
       "      <td>66.0</td>\n",
       "      <td>1</td>\n",
       "      <td>0</td>\n",
       "      <td>True</td>\n",
       "      <td>False</td>\n",
       "      <td>False</td>\n",
       "      <td>False</td>\n",
       "      <td>False</td>\n",
       "      <td>False</td>\n",
       "    </tr>\n",
       "  </tbody>\n",
       "</table>\n",
       "</div>"
      ],
      "text/plain": [
       "   age  body_type  drinks  drugs  height  sex  smokes  diet_anything  \\\n",
       "0   22          2       1      0    75.0    1       1           True   \n",
       "1   35          1       2      1    70.0    1       0          False   \n",
       "2   38          1       1      0    68.0    1       0           True   \n",
       "3   23          1       1      0    71.0    1       0          False   \n",
       "4   29          0       1      0    66.0    1       0           True   \n",
       "\n",
       "   diet_halal  diet_kosher  diet_other  diet_vegan  diet_vegetarian  \n",
       "0       False        False       False       False            False  \n",
       "1       False        False        True       False            False  \n",
       "2       False        False       False       False            False  \n",
       "3       False        False       False       False             True  \n",
       "4       False        False       False       False            False  "
      ]
     },
     "execution_count": 87,
     "metadata": {},
     "output_type": "execute_result"
    }
   ],
   "source": [
    "profiles_processed = pd.read_csv(\"../data/profiles_processed.csv\", index_col=False)\n",
    "profiles_processed = profiles_processed.loc[:, ~profiles_processed.columns.str.contains('^Unnamed')]\n",
    "profiles_processed.head()"
   ]
  },
  {
   "cell_type": "code",
   "execution_count": 91,
   "id": "56019152",
   "metadata": {},
   "outputs": [],
   "source": [
    "scaler = StandardScaler()\n",
    "X_num_train_scaled = scaler.fit_transform(X_num_train)\n",
    "X_num_train_scaled = pd.DataFrame(X_num_train_scaled, columns=X_num_train.columns, index=X_num_train.index)\n",
    "X_train_scaled = pd.concat([X_num_train_scaled, X_cat_train], axis=1)\n",
    "\n",
    "X_num_val_scaled = scaler.transform(X_num_val)\n",
    "X_num_val_scaled = pd.DataFrame(X_num_val_scaled, columns=X_num_val.columns, index=X_num_val.index)\n",
    "X_val_scaled = pd.concat([X_num_val_scaled, X_cat_val], axis=1)\n",
    "\n",
    "X_num_test_scaled = scaler.transform(X_num_test)\n",
    "X_num_test_scaled = pd.DataFrame(X_num_test_scaled, columns=X_num_test.columns, index=X_num_test.index)\n",
    "X_test_scaled = pd.concat([X_num_test_scaled, X_cat_test], axis=1)"
   ]
  },
  {
   "cell_type": "markdown",
   "id": "3e716521",
   "metadata": {},
   "source": [
    "Getting number of componentes to explain 90% of variance before moving to PCA"
   ]
  },
  {
   "cell_type": "code",
   "execution_count": 92,
   "id": "3b641682",
   "metadata": {},
   "outputs": [
    {
     "name": "stdout",
     "output_type": "stream",
     "text": [
      "Actual components chosen: 6\n"
     ]
    }
   ],
   "source": [
    "pca90 = PCA(n_components=0.90)\n",
    "X_train_pca90 = pca90.fit_transform(X_train_scaled)\n",
    "print(\"Actual components chosen:\", pca90.n_components_)"
   ]
  },
  {
   "cell_type": "markdown",
   "id": "51b433b2",
   "metadata": {},
   "source": [
    "## Applying PCA to X_train_scaled, then tranforming val and test with the same PCA"
   ]
  },
  {
   "cell_type": "code",
   "execution_count": 95,
   "id": "e7767457",
   "metadata": {},
   "outputs": [],
   "source": [
    "pca = PCA(n_components=6)\n",
    "X_train_pca = pca.fit_transform(X_train_scaled)\n",
    "X_train_pca = pd.DataFrame(X_train_pca, columns=['PC1', 'PC2', 'PC3', 'PC4', 'PC5', 'PC6'], index=X_train_scaled.index)\n",
    "X_val_pca = pca.transform(X_val_scaled)\n",
    "X_val_pca = pd.DataFrame(X_val_pca, columns=['PC1', 'PC2', 'PC3', 'PC4', 'PC5', 'PC6'], index=X_val_scaled.index)\n",
    "X_test_pca = pca.transform(X_test_scaled)\n",
    "X_test_pca = pd.DataFrame(X_test_pca, columns=['PC1', 'PC2', 'PC3', 'PC4', 'PC5', 'PC6'], index=X_test_scaled.index)"
   ]
  },
  {
   "cell_type": "markdown",
   "id": "50a86b7a",
   "metadata": {},
   "source": [
    "### Exporting datasets for pipeline"
   ]
  },
  {
   "cell_type": "code",
   "execution_count": 99,
   "id": "39e271e8",
   "metadata": {},
   "outputs": [],
   "source": [
    "X_train_pca.to_csv('X_train_pca.csv')\n",
    "X_val_pca.to_csv('X_val_pca.csv')\n",
    "X_test_pca.to_csv('X_test_pca.csv')\n",
    "y_train.to_csv('y_train.csv')\n",
    "y_val.to_csv('y_val.csv')\n",
    "y_test.to_csv('y_test.csv')"
   ]
  }
 ],
 "metadata": {
  "kernelspec": {
   "display_name": "base",
   "language": "python",
   "name": "python3"
  },
  "language_info": {
   "codemirror_mode": {
    "name": "ipython",
    "version": 3
   },
   "file_extension": ".py",
   "mimetype": "text/x-python",
   "name": "python",
   "nbconvert_exporter": "python",
   "pygments_lexer": "ipython3",
   "version": "3.11.7"
  }
 },
 "nbformat": 4,
 "nbformat_minor": 5
}
