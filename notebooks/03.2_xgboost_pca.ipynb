{
 "cells": [
  {
   "cell_type": "markdown",
   "id": "922def24",
   "metadata": {},
   "source": [
    "# Classification Model - XGBoost with previous PCA"
   ]
  },
  {
   "cell_type": "code",
   "execution_count": 5,
   "id": "9e5afce7",
   "metadata": {},
   "outputs": [],
   "source": [
    "#Importing all libraries\n",
    "import pandas as pd\n",
    "import numpy as np\n",
    "import matplotlib.pyplot as plt\n",
    "import seaborn as sns\n",
    "import math\n",
    "import os\n",
    "from itertools import combinations\n",
    "from scipy.stats import chi2_contingency\n",
    "import category_encoders as ce\n",
    "from sklearn.model_selection import train_test_split\n",
    "from sklearn.metrics import accuracy_score\n",
    "from sklearn.metrics import precision_score\n",
    "from sklearn.metrics import recall_score\n",
    "from sklearn.metrics import f1_score\n",
    "from sklearn.model_selection import GridSearchCV\n",
    "from xgboost import XGBClassifier, callback\n",
    "import xgboost as xgb\n",
    "from sklearn.metrics import confusion_matrix\n",
    "from sklearn.metrics import classification_report\n",
    "from sklearn.utils.class_weight import compute_sample_weight\n",
    "from imblearn.over_sampling import SMOTE\n",
    "from collections import Counter"
   ]
  },
  {
   "cell_type": "code",
   "execution_count": 84,
   "id": "2e227777",
   "metadata": {},
   "outputs": [
    {
     "name": "stdout",
     "output_type": "stream",
     "text": [
      "c:\\Users\\ntama\\Documentos\\Data Science\\Codecademy\\projects\\Date-A-Scientist - Final Project\\OKCupid-Date-A-Scientist-Starter\\date-a-scientist-project\\notebooks\n"
     ]
    }
   ],
   "source": [
    "print(os.getcwd())"
   ]
  },
  {
   "cell_type": "markdown",
   "id": "678efebe",
   "metadata": {},
   "source": [
    "## Importing the datasets from PCA"
   ]
  },
  {
   "cell_type": "code",
   "execution_count": 85,
   "id": "78b9731f",
   "metadata": {},
   "outputs": [],
   "source": [
    "X_train = pd.read_csv(\"../data/X_train_pca.csv\", index_col=False)\n",
    "X_train = X_train.loc[:, ~X_train.columns.str.contains('^Unnamed')]\n",
    "\n",
    "X_val = pd.read_csv(\"../data/X_val_pca.csv\", index_col=False)\n",
    "X_val = X_val.loc[:, ~X_val.columns.str.contains('^Unnamed')]\n",
    "\n",
    "X_test = pd.read_csv(\"../data/X_test_pca.csv\", index_col=False)\n",
    "X_test = X_test.loc[:, ~X_test.columns.str.contains('^Unnamed')]\n",
    "\n",
    "y_train = pd.read_csv(\"../data/y_train.csv\", index_col=False)\n",
    "y_train = y_train.loc[:, ~y_train.columns.str.contains('^Unnamed')]\n",
    "\n",
    "y_val = pd.read_csv(\"../data/y_val.csv\", index_col=False)\n",
    "y_val = y_val.loc[:, ~y_val.columns.str.contains('^Unnamed')]\n",
    "\n",
    "y_test = pd.read_csv(\"../data/y_test.csv\", index_col=False)\n",
    "y_test = y_test.loc[:, ~y_test.columns.str.contains('^Unnamed')]"
   ]
  },
  {
   "cell_type": "code",
   "execution_count": 86,
   "id": "02fa4158",
   "metadata": {},
   "outputs": [
    {
     "name": "stdout",
     "output_type": "stream",
     "text": [
      "(41960, 6)\n",
      "(8992, 6)\n",
      "(8991, 6)\n",
      "(41960, 1)\n",
      "(8992, 1)\n",
      "(8991, 1)\n"
     ]
    }
   ],
   "source": [
    "print(X_train.shape)\n",
    "print(X_test.shape)\n",
    "print(X_val.shape)\n",
    "\n",
    "print(y_train.shape)\n",
    "print(y_test.shape)\n",
    "print(y_val.shape)"
   ]
  },
  {
   "cell_type": "markdown",
   "id": "fd60b86a",
   "metadata": {},
   "source": [
    "## Training the model on PCA subsets"
   ]
  },
  {
   "cell_type": "code",
   "execution_count": 87,
   "id": "f36e02d1",
   "metadata": {},
   "outputs": [
    {
     "name": "stdout",
     "output_type": "stream",
     "text": [
      "body_type\n",
      "0            19353\n",
      "1            16397\n",
      "2             6210\n",
      "Name: count, dtype: int64\n"
     ]
    }
   ],
   "source": [
    "print(y_train.value_counts())"
   ]
  },
  {
   "cell_type": "markdown",
   "id": "83c78c62",
   "metadata": {},
   "source": [
    "Since classes are imbalanced, let's assign a weight for the class 2"
   ]
  },
  {
   "cell_type": "code",
   "execution_count": 88,
   "id": "96b8ed27",
   "metadata": {},
   "outputs": [],
   "source": [
    "count_class_2 = np.sum(y_train['body_type'] == 2)\n",
    "weight_class_2 = (len(y_train) - count_class_2) / count_class_2\n",
    "\n",
    "weight_dict = {\n",
    "    0: 1,\n",
    "    1: 1,\n",
    "    2: weight_class_2\n",
    "}\n",
    "\n",
    "weights = y_train['body_type'].map(weight_dict)\n"
   ]
  },
  {
   "cell_type": "code",
   "execution_count": 89,
   "id": "33dce60f",
   "metadata": {},
   "outputs": [
    {
     "name": "stdout",
     "output_type": "stream",
     "text": [
      "(8991, 6)\n",
      "(8991, 1)\n"
     ]
    }
   ],
   "source": [
    "print(X_val.shape)\n",
    "print(np.array(y_val).shape)"
   ]
  },
  {
   "cell_type": "code",
   "execution_count": 90,
   "id": "1c3102bf",
   "metadata": {},
   "outputs": [],
   "source": [
    "Xnp_train = np.array(X_train)\n",
    "Xnp_val = np.array(X_val)\n",
    "ynp_train = np.array(y_train)\n",
    "ynp_val = np.array(y_val)\n",
    "\n",
    "dtrain = xgb.DMatrix(Xnp_train, label=y_train, weight=weights)\n",
    "dval   = xgb.DMatrix(Xnp_val,   label=y_val)"
   ]
  },
  {
   "cell_type": "code",
   "execution_count": 91,
   "id": "a846be6e",
   "metadata": {},
   "outputs": [],
   "source": [
    "params = {\n",
    "    \"objective\": \"multi:softprob\",\n",
    "    \"num_class\": 3, \n",
    "    \"eval_metric\": \"mlogloss\", \n",
    "    \"eta\": 0.1, \n",
    "    \"max_depth\": 3,  \n",
    "    \"verbosity\": 1,\n",
    "}\n"
   ]
  },
  {
   "cell_type": "code",
   "execution_count": 92,
   "id": "c3a73bdc",
   "metadata": {},
   "outputs": [],
   "source": [
    "watchlist = [(dtrain, 'train'), (dval, 'eval')]"
   ]
  },
  {
   "cell_type": "code",
   "execution_count": 93,
   "id": "20809e08",
   "metadata": {},
   "outputs": [
    {
     "name": "stdout",
     "output_type": "stream",
     "text": [
      "[0]\ttrain-mlogloss:1.07943\teval-mlogloss:1.10052\n",
      "[1]\ttrain-mlogloss:1.06330\teval-mlogloss:1.10337\n"
     ]
    },
    {
     "name": "stdout",
     "output_type": "stream",
     "text": [
      "[2]\ttrain-mlogloss:1.04962\teval-mlogloss:1.10677\n",
      "[3]\ttrain-mlogloss:1.03803\teval-mlogloss:1.11073\n",
      "[4]\ttrain-mlogloss:1.02814\teval-mlogloss:1.11489\n",
      "[5]\ttrain-mlogloss:1.01957\teval-mlogloss:1.11922\n",
      "[6]\ttrain-mlogloss:1.01223\teval-mlogloss:1.12372\n",
      "[7]\ttrain-mlogloss:1.00595\teval-mlogloss:1.12817\n",
      "[8]\ttrain-mlogloss:1.00057\teval-mlogloss:1.13261\n",
      "[9]\ttrain-mlogloss:0.99598\teval-mlogloss:1.13704\n",
      "[10]\ttrain-mlogloss:0.99205\teval-mlogloss:1.14145\n",
      "[11]\ttrain-mlogloss:0.98865\teval-mlogloss:1.14572\n",
      "[12]\ttrain-mlogloss:0.98563\teval-mlogloss:1.14967\n",
      "[13]\ttrain-mlogloss:0.98303\teval-mlogloss:1.15341\n",
      "[14]\ttrain-mlogloss:0.98074\teval-mlogloss:1.15695\n",
      "[15]\ttrain-mlogloss:0.97880\teval-mlogloss:1.16041\n",
      "[16]\ttrain-mlogloss:0.97707\teval-mlogloss:1.16361\n",
      "[17]\ttrain-mlogloss:0.97554\teval-mlogloss:1.16661\n",
      "[18]\ttrain-mlogloss:0.97427\teval-mlogloss:1.16955\n",
      "[19]\ttrain-mlogloss:0.97306\teval-mlogloss:1.17211\n",
      "[20]\ttrain-mlogloss:0.97200\teval-mlogloss:1.17456\n"
     ]
    }
   ],
   "source": [
    "bst = xgb.train(\n",
    "    params=params,\n",
    "    dtrain=dtrain,\n",
    "    num_boost_round=200,\n",
    "    evals=watchlist,\n",
    "    early_stopping_rounds=20\n",
    ")\n"
   ]
  },
  {
   "cell_type": "markdown",
   "id": "b19a2041",
   "metadata": {},
   "source": [
    "Turning probabilities into classes"
   ]
  },
  {
   "cell_type": "code",
   "execution_count": 94,
   "id": "08f89ef7",
   "metadata": {},
   "outputs": [],
   "source": [
    "y_pred_probs = bst.predict(dval)\n",
    "y_pred = np.argmax(y_pred_probs, axis=1)"
   ]
  },
  {
   "cell_type": "markdown",
   "id": "7f49c132",
   "metadata": {},
   "source": [
    "Getting metrics"
   ]
  },
  {
   "cell_type": "code",
   "execution_count": 95,
   "id": "b4fad5d7",
   "metadata": {},
   "outputs": [
    {
     "name": "stdout",
     "output_type": "stream",
     "text": [
      "[[2335   25 1787]\n",
      " [1558   39 1917]\n",
      " [ 284    6 1040]]\n",
      "              precision    recall  f1-score   support\n",
      "\n",
      "           0       0.56      0.56      0.56      4147\n",
      "           1       0.56      0.01      0.02      3514\n",
      "           2       0.22      0.78      0.34      1330\n",
      "\n",
      "    accuracy                           0.38      8991\n",
      "   macro avg       0.45      0.45      0.31      8991\n",
      "weighted avg       0.51      0.38      0.32      8991\n",
      "\n"
     ]
    }
   ],
   "source": [
    "print(confusion_matrix(y_val, y_pred))\n",
    "print(classification_report(y_val, y_pred))"
   ]
  },
  {
   "cell_type": "code",
   "execution_count": null,
   "id": "e7c353b8",
   "metadata": {},
   "outputs": [],
   "source": []
  }
 ],
 "metadata": {
  "kernelspec": {
   "display_name": "base",
   "language": "python",
   "name": "python3"
  },
  "language_info": {
   "codemirror_mode": {
    "name": "ipython",
    "version": 3
   },
   "file_extension": ".py",
   "mimetype": "text/x-python",
   "name": "python",
   "nbconvert_exporter": "python",
   "pygments_lexer": "ipython3",
   "version": "3.11.7"
  }
 },
 "nbformat": 4,
 "nbformat_minor": 5
}
